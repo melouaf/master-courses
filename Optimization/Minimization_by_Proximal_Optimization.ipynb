{
  "nbformat": 4,
  "nbformat_minor": 0,
  "metadata": {
    "colab": {
      "provenance": []
    },
    "kernelspec": {
      "display_name": "Python 3",
      "language": "python",
      "name": "python3"
    },
    "language_info": {
      "codemirror_mode": {
        "name": "ipython",
        "version": 3
      },
      "file_extension": ".py",
      "mimetype": "text/x-python",
      "name": "python",
      "nbconvert_exporter": "python",
      "pygments_lexer": "ipython3",
      "version": "3.9.2"
    }
  },
  "cells": [
    {
      "cell_type": "markdown",
      "metadata": {
        "id": "9tsQhvrNaHjo"
      },
      "source": [
        "Under the supervision of  \n",
        "Miguel Colom  \n",
        "Rafael Grompone von Gioi  \n",
        "Argyris Kalogeratos  \n",
        "\n",
        "École normale supérieure Paris-Saclay (ENS Paris-Saclay)\n",
        "\n",
        "# <center>Minimisation par optimisation proximale</center>\n"
      ]
    },
    {
      "cell_type": "markdown",
      "metadata": {
        "id": "VklHDiEHaHj1"
      },
      "source": [
        "Installer localement les paquets nécessaires:"
      ]
    },
    {
      "cell_type": "code",
      "metadata": {
        "id": "ZLfeSF4maHj2",
        "colab": {
          "base_uri": "https://localhost:8080/"
        },
        "outputId": "c44279de-bc96-4756-d4f5-e5fd2aa05e39"
      },
      "source": [
        "import sys\n",
        "!{sys.executable} -m pip install --user scikit-learn\n",
        "!{sys.executable} -m pip install --user scikit-image\n",
        "!{sys.executable} -m pip install --user numpy"
      ],
      "execution_count": null,
      "outputs": [
        {
          "output_type": "stream",
          "text": [
            "Requirement already satisfied: scikit-learn in /usr/local/lib/python3.7/dist-packages (0.22.2.post1)\n",
            "Requirement already satisfied: joblib>=0.11 in /usr/local/lib/python3.7/dist-packages (from scikit-learn) (1.0.1)\n",
            "Requirement already satisfied: scipy>=0.17.0 in /usr/local/lib/python3.7/dist-packages (from scikit-learn) (1.4.1)\n",
            "Requirement already satisfied: numpy>=1.11.0 in /usr/local/lib/python3.7/dist-packages (from scikit-learn) (1.19.5)\n",
            "Requirement already satisfied: scikit-image in /usr/local/lib/python3.7/dist-packages (0.16.2)\n",
            "Requirement already satisfied: scipy>=0.19.0 in /usr/local/lib/python3.7/dist-packages (from scikit-image) (1.4.1)\n",
            "Requirement already satisfied: pillow>=4.3.0 in /usr/local/lib/python3.7/dist-packages (from scikit-image) (7.1.2)\n",
            "Requirement already satisfied: matplotlib!=3.0.0,>=2.0.0 in /usr/local/lib/python3.7/dist-packages (from scikit-image) (3.2.2)\n",
            "Requirement already satisfied: networkx>=2.0 in /usr/local/lib/python3.7/dist-packages (from scikit-image) (2.5)\n",
            "Requirement already satisfied: PyWavelets>=0.4.0 in /usr/local/lib/python3.7/dist-packages (from scikit-image) (1.1.1)\n",
            "Requirement already satisfied: imageio>=2.3.0 in /usr/local/lib/python3.7/dist-packages (from scikit-image) (2.4.1)\n",
            "Requirement already satisfied: numpy>=1.13.3 in /usr/local/lib/python3.7/dist-packages (from scipy>=0.19.0->scikit-image) (1.19.5)\n",
            "Requirement already satisfied: pyparsing!=2.0.4,!=2.1.2,!=2.1.6,>=2.0.1 in /usr/local/lib/python3.7/dist-packages (from matplotlib!=3.0.0,>=2.0.0->scikit-image) (2.4.7)\n",
            "Requirement already satisfied: kiwisolver>=1.0.1 in /usr/local/lib/python3.7/dist-packages (from matplotlib!=3.0.0,>=2.0.0->scikit-image) (1.3.1)\n",
            "Requirement already satisfied: cycler>=0.10 in /usr/local/lib/python3.7/dist-packages (from matplotlib!=3.0.0,>=2.0.0->scikit-image) (0.10.0)\n",
            "Requirement already satisfied: python-dateutil>=2.1 in /usr/local/lib/python3.7/dist-packages (from matplotlib!=3.0.0,>=2.0.0->scikit-image) (2.8.1)\n",
            "Requirement already satisfied: decorator>=4.3.0 in /usr/local/lib/python3.7/dist-packages (from networkx>=2.0->scikit-image) (4.4.2)\n",
            "Requirement already satisfied: six in /usr/local/lib/python3.7/dist-packages (from cycler>=0.10->matplotlib!=3.0.0,>=2.0.0->scikit-image) (1.15.0)\n",
            "Requirement already satisfied: numpy in /usr/local/lib/python3.7/dist-packages (1.19.5)\n"
          ],
          "name": "stdout"
        }
      ]
    },
    {
      "cell_type": "code",
      "metadata": {
        "id": "2OdH-4O5aHj3"
      },
      "source": [
        "# Import basic packages\n",
        "import numpy as np\n",
        "import matplotlib.pyplot as plt"
      ],
      "execution_count": null,
      "outputs": []
    },
    {
      "cell_type": "markdown",
      "metadata": {
        "id": "J4uORP7HaHj4"
      },
      "source": [
        "# Exercise 1. Implémentation de ISTA\n",
        "\n",
        "L'algorithme ISTA [1] a pour objectif de minimiser une fonction $F : \\mathbb{R}^d \\to \\mathbb{R}$ s'écrivant sous la forme $F = f + \\lambda g$ où $\\lambda >0$ est une constante,\n",
        "\n",
        "1. $f$ est un fonction convexe, $C^1$, gradient Lipschitz i. e. pour tout $x,y \\in \\mathbb{R}^d$,\n",
        "\n",
        "$$||\\nabla f(x) - \\nabla f(y)|| \\leq L ||x-y||.$$\n",
        "\n",
        "2. $g$ est une fonction continue convexe dont on peut calculer l'opérateur proximal $\\text{prox}_g^{\\gamma}$ défini pour tout $\\gamma >0$ et $x \\in \\mathbb{R}^d$ par\n",
        "\n",
        "$$\\text{prox}_g^{\\gamma}  = \\text{argmin}_{y \\in \\mathbb{R}} \\{g(y) + (2 \\gamma)^{-1} ||x-y||^2 \\}.$$\n",
        "\n",
        "L'algorithme ISTA consiste alors à construire la suite $(x_k)_{k \\in \\mathbb{N}}$ partant de $x_0 \\in \\mathbb{R}^d$ à partir de la récursion suivante :\n",
        "\n",
        "$$x_{k+1} = \\text{prox}_{\\lambda g}^{\\gamma} \\{x_k - \\gamma \\nabla f(x_k)\\}.$$\n"
      ]
    },
    {
      "cell_type": "markdown",
      "metadata": {
        "id": "2bjsl9gdaHj5"
      },
      "source": [
        "## 1) Montrer que pour tout $\\gamma, \\lambda >0$, on a $$\\text{prox}_{\\lambda g}^{\\gamma} = \\text{prox}_{ g}^{\\lambda \\gamma}.$$"
      ]
    },
    {
      "cell_type": "markdown",
      "metadata": {
        "id": "8tnVm02oaHj5"
      },
      "source": [
        "On a:\n",
        "$\\inf_{y\\in\\mathbb{R}}(\\lambda g)(y)+\\frac{\\Vert x-y \\Vert^2}{2\\gamma}=\\inf_{y\\in\\mathbb{R}}\\lambda(g(y)+\\frac{\\Vert x-y \\Vert^2}{2\\lambda\\gamma})=\\lambda\\inf_{y\\in\\mathbb{R}}g(y)+\\frac{\\Vert x-y \\Vert^2}{2\\lambda\\gamma}$ car $\\lambda>0$. Il suit alors directement que $\\text{prox}_{\\lambda g}^{\\gamma} = \\text{prox}_{ g}^{\\lambda \\gamma}$."
      ]
    },
    {
      "cell_type": "markdown",
      "metadata": {
        "id": "yEu2Gh26aHj6"
      },
      "source": [
        "## 2) Recherche du minimum global"
      ]
    },
    {
      "cell_type": "markdown",
      "metadata": {
        "id": "Bm0NjiLfaHj6"
      },
      "source": [
        "Implémenter alors l'algorithme ISTA. On pourra par exemple considérer un fonction sous la forme\n",
        "\n",
        "    ista(x0, prox_op_g, grad_f, fun_total, lambda_l, n_it=100):\n",
        "        Variables d'entree :\n",
        "            * x0 : solution initial\n",
        "            * prox_op_g : operateur proximal de g qui prend en entree x et gamma\n",
        "            * grad_f : fonction qui a partir d'un point x retourne le gradient de f et la constante de Lipschitz du gradient de f\n",
        "            * fun_total : fonction F = f+lambda*g\n",
        "            * lambda_l : parametre lambda dans F\n",
        "            * n_it : nombre d'iterations\n",
        "\n",
        "        Variables de sortie : x, fun_iterate\n",
        "            * x : itere final de ISTA\n",
        "            * fun_iterate : suite (F(x_k))"
      ]
    },
    {
      "cell_type": "markdown",
      "metadata": {
        "id": "xi-dltPGaHj7"
      },
      "source": [
        "$\\rightarrow$ **Plus précisément, nous nous référons à l'Algorithme 4 du Chapitre 7 du polycopié (pas fixe).**"
      ]
    },
    {
      "cell_type": "code",
      "metadata": {
        "id": "TLC43_-Z4VHb"
      },
      "source": [
        "def ista(x0,prox_op_g,grad_f,fun_total,lambda_1,n_it=100):\n",
        "  dim = np.max(x0.shape)\n",
        "\n",
        "  fun_iterate = np.zeros(n_it)\n",
        "\n",
        "  #Initialization\n",
        "  x=x0\n",
        "  L=grad_f(x0)[1]\n",
        "  gamma=1/L\n",
        "\n",
        "  #Recursion\n",
        "  for i in range(n_it):\n",
        "    grad_f_x=grad_f(x)[0]\n",
        "    fun_total_x=fun_total(x,lambda_1)\n",
        "    x=prox_op_g(x-gamma*grad_f_x,lambda_1*gamma)\n",
        "    fun_iterate[i] = fun_total_x\n",
        "\n",
        "  return(x,fun_iterate)"
      ],
      "execution_count": null,
      "outputs": []
    },
    {
      "cell_type": "markdown",
      "metadata": {
        "id": "rCOPOR1XaHj8"
      },
      "source": [
        "# Exercise 2. Acquisition comprimée (_compressed sensing_)\n",
        "\n"
      ]
    },
    {
      "cell_type": "markdown",
      "metadata": {
        "id": "au_YF37AaHj8"
      },
      "source": [
        "Dans de nombreux problèmes, notamment en traitement du signal, seulement des observations partielles, regroupées dans un vecteur $y \\in \\mathbb{R}^p$, d'un signal $x \\in \\mathbb{R}^d$ sont disponibles. Cela s'explique par une volonté de compresser le signal par exemple ou encore parce que les instruments de mesures du signal sont dans certains cas peu précis. Mathématiquement, cette perte de données se modélise par une relation $y=Ax$, où $A \\in \\mathbb{R}^{p,d}$, et $p << d$. Comme $A$ n'est pas inversible, le plus souvent le problème inverse $y=Ax$ a de nombreuses solutions mais qui ne sont pas satisfaisantes. En effet, dans de nombreux cas, le signal d'origine $x$ est le plus souvent parcimonieux, i. e. un grand nombre de ses composantes sont nulles. Ainsi, pour reconstruire ce type de signal, il a été proposé de considérer le minimum de la fonction\n",
        "\n",
        "$$F(x) = f(x) + \\lambda g(x), \\qquad f(x) = ||y-Ax||^2, \\qquad g(x) =  \\sum_{i=1}^d |x_i|,$$\n",
        "\n",
        "où $\\lambda >0$ est un coefficient qui contrôle le niveau de parcimonie de $x$.  On peut observer que $F$ peut s'écrire comme $f+g$ où $f$ est une fonction convexe gradient Lipschitz et $g$ est une fonction convexe continue mais non différentiable. On se propose dans cette partie d'appliquer l'algorithme ISTA à la minimisation de $F$\n",
        "avec une application au traitement d'image. Ici $y$ sera une mesure d'une image et $x$ les coefficients en ondelettes de la même image. Ainsi la matrice $A$ est simplement l'opérateur linéaire qui à une représentation en ondelettes associe un signal.\n"
      ]
    },
    {
      "cell_type": "markdown",
      "metadata": {
        "id": "axiqY6A7aHj9"
      },
      "source": [
        "## 1) Définir les fonctions suivantes :"
      ]
    },
    {
      "cell_type": "code",
      "metadata": {
        "id": "FpZreLNeaHj-"
      },
      "source": [
        "def compute_wavelet_filter(type, par):\n",
        "    \"\"\"\n",
        "        compute_wavelet_filter - Generate Orthonormal QMF Filter for Wavelet Transform\n",
        "\n",
        "\n",
        "           [h,g] = compute_wavelet_filter(Type,Par)\n",
        "\n",
        "         Inputs\n",
        "           Type   string, 'Haar', 'Beylkin', 'Coiflet', 'Daubechies',\n",
        "                  'Symmlet', 'Vaidyanathan','Battle'\n",
        "           Par    integer, it is a parameter related to the support and vanishing\n",
        "                  moments of the wavelets, explained below for each wavelet.\n",
        "\n",
        "        Outputs\n",
        "          h   low pass quadrature mirror filter\n",
        "          g   high pass\n",
        "\n",
        "         Description\n",
        "           The Haar filter (which could be considered a Daubechies-2) was the\n",
        "           first wavelet, though not called as such, and is discontinuous.\n",
        "\n",
        "           The Beylkin filter places roots for the frequency response function\n",
        "           close to the Nyquist frequency on the real axis.\n",
        "\n",
        "           The Coiflet filters are designed to give both the mother and father\n",
        "           wavelets 2*Par vanishing moments; here Par may be one of 1,2,3,4 or 5.\n",
        "\n",
        "           The Daubechies filters are minimal phase filters that generate wavelets\n",
        "           which have a minimal support for a given number of vanishing moments.\n",
        "           They are indexed by their length, Par, which may be one of\n",
        "           2,4,6,8,10,12,14,16,18 or 20. The number of vanishing moments is par/2.\n",
        "\n",
        "           Symmlets are also wavelets within a minimum size support for a given\n",
        "           number of vanishing moments, but they are as symmetrical as possible,\n",
        "           as opposed to the Daubechies filters which are highly asymmetrical.\n",
        "           They are indexed by Par, which specifies the number of vanishing\n",
        "           moments and is equal to half the size of the support. It ranges\n",
        "           from 4 to 10.\n",
        "\n",
        "           The Vaidyanathan filter gives an exact reconstruction, but does not\n",
        "           satisfy any moment condition.  The filter has been optimized for\n",
        "           speech coding.\n",
        "\n",
        "           The Battle-Lemarie filter generate spline orthogonal wavelet basis.\n",
        "           The parameter Par gives the degree of the spline. The number of\n",
        "           vanishing moments is Par+1.\n",
        "\n",
        "        See Also\n",
        "           FWT_PO, IWT_PO, FWT2_PO, IWT2_PO, WPAnalysis\n",
        "\n",
        "        References\n",
        "            The books by Daubechies and Wickerhauser.\n",
        "\n",
        "        Warning : only Daubechies implemented for the moment !\n",
        "    \"\"\"\n",
        "\n",
        "    if type == 'Daubechies':\n",
        "\n",
        "        if par == 1:\n",
        "            f = [1, 1] / np.sqrt(2)\n",
        "\n",
        "        elif par == 4:\n",
        "            f = [.482962913145, .836516303738,\n",
        "                 .224143868042, -.129409522551]\n",
        "\n",
        "        elif par == 6:\n",
        "            f = [.332670552950, .806891509311,\n",
        "                 .459877502118, -.135011020010,\n",
        "                 -.085441273882, .035226291882]\n",
        "\n",
        "        elif par == 8:\n",
        "            f = [.230377813309, .714846570553,\n",
        "                 .630880767930, -.027983769417,\n",
        "                 -.187034811719, .030841381836,\n",
        "                 .032883011667, -.010597401785]\n",
        "\n",
        "        elif par == 10:\n",
        "            f = [.160102397974, .603829269797, .724308528438,\n",
        "                 .138428145901, -.242294887066, -.032244869585,\n",
        "                 .077571493840, -.006241490213, -.012580751999,\n",
        "                 .003335725285]\n",
        "\n",
        "        elif par == 12:\n",
        "            f = [.111540743350, .494623890398, .751133908021,\n",
        "                 .315250351709, -.226264693965, -.129766867567,\n",
        "                 .097501605587, .027522865530, -.031582039317,\n",
        "                 .000553842201, .004777257511, -.001077301085]\n",
        "\n",
        "        elif par == 14:\n",
        "            f = [.077852054085, .396539319482, .729132090846,\n",
        "                 .469782287405, -.143906003929, -.224036184994,\n",
        "                 .071309219267, .080612609151, -.038029936935,\n",
        "                 -.016574541631, .012550998556, .000429577973,\n",
        "                 -.001801640704, .000353713800]\n",
        "\n",
        "        elif par == 16:\n",
        "            f = [.054415842243, .312871590914, .675630736297,\n",
        "                 .585354683654, -.015829105256, -.284015542962,\n",
        "                 .000472484574, .128747426620, -.017369301002,\n",
        "                 -.044088253931, .013981027917, .008746094047,\n",
        "                 -.004870352993, -.000391740373, .000675449406,\n",
        "                 -.000117476784]\n",
        "\n",
        "        elif par == 18:\n",
        "            f = [.038077947364, .243834674613, .604823123690,\n",
        "                 .657288078051, .133197385825, -.293273783279,\n",
        "                 -.096840783223, .148540749338, .030725681479,\n",
        "                 -.067632829061, .000250947115, .022361662124,\n",
        "                 -.004723204758, -.004281503682, .001847646883,\n",
        "                 .000230385764, -.000251963189, .000039347320]\n",
        "\n",
        "        elif par == 20:\n",
        "            f = [.026670057901, .188176800078, .527201188932,\n",
        "                 .688459039454, .281172343661, -.249846424327,\n",
        "                 -.195946274377, .127369340336, .093057364604,\n",
        "                 -.071394147166, -.029457536822, .033212674059,\n",
        "                 .003606553567, -.010733175483, .001395351747,\n",
        "                 .001992405295, -.000685856695, -.000116466855,\n",
        "                 .000093588670, -.000013264203]\n",
        "\n",
        "        else:\n",
        "            raise ValueError(f\"Unimplemented for par={par}\")\n",
        "\n",
        "    else:\n",
        "        raise ValueError(\"Wrong arguments, see comments for acceptable values\")\n",
        "\n",
        "    f = list(f / np.linalg.norm(f))\n",
        "\n",
        "    if len(f) % 2 == 0:\n",
        "        f = [0] + f\n",
        "\n",
        "    return np.array(f)"
      ],
      "execution_count": null,
      "outputs": []
    },
    {
      "cell_type": "code",
      "metadata": {
        "id": "pjONqkqQaHkH"
      },
      "source": [
        "from skimage import transform\n",
        "\n",
        "def upsampling(x, d):\n",
        "    \"\"\"\n",
        "    up-sampling along dimension d by factor p=2\n",
        "    \"\"\"\n",
        "    p = 2\n",
        "    s = x.shape\n",
        "    if d == 1:\n",
        "        y = np.zeros((p * s[0], s[1]))\n",
        "        y[::p, :] = x\n",
        "    elif d == 2:\n",
        "        y = np.zeros((s[0], p * s[1]))\n",
        "        y[:, ::p] = x\n",
        "    else:\n",
        "        raise NotImplementedError()\n",
        "    return y\n",
        "\n",
        "\n",
        "def subsampling(x, d):\n",
        "    \"\"\"\n",
        "    subsampling along dimension d by factor p=2\n",
        "    \"\"\"\n",
        "    p = 2\n",
        "    if d == 1:\n",
        "        y = x[::p, :]\n",
        "    elif d == 2:\n",
        "        y = x[:, ::p]\n",
        "    else:\n",
        "        raise NotImplementedError()\n",
        "    return y\n",
        "\n",
        "\n",
        "def rescale(f, a=0, b=1):\n",
        "    \"\"\"\n",
        "    Rescale linearly the dynamic of a vector to fit within a range [a,b]\n",
        "    \"\"\"\n",
        "    v = f.max() - f.min()\n",
        "    g = (f - f.min()).copy()\n",
        "    if v > 0:\n",
        "        g = g * 1 / v\n",
        "    return a * 1 + g * (b - a)\n",
        "\n",
        "\n",
        "def load_image(name, n=-1, flatten=1, resc=1, grayscale=1):\n",
        "    \"\"\"\n",
        "    Load an image from a file, rescale its dynamic to [0,1], turn it into a grayscale image\n",
        "    and resize it to size n x n.\n",
        "    \"\"\"\n",
        "    f = plt.imread(name)\n",
        "    # turn into normalized grayscale image\n",
        "    if grayscale == 1:\n",
        "        if flatten == 1 and np.ndim(f) > 2:\n",
        "            f = np.sum(f, axis=2)\n",
        "    if resc == 1:\n",
        "        f = rescale(f)\n",
        "    # change the size of the image\n",
        "    if n > 0:\n",
        "        if np.ndim(f) == 2:\n",
        "            f = transform.resize(f, [n, n], 1)\n",
        "        elif np.ndim(f) == 3:\n",
        "            f = transform.resize(f, [n, n, f.shape[2]], 1)\n",
        "    return f\n",
        "\n",
        "\n",
        "def circshift1d(x, k):\n",
        "    \"\"\"\n",
        "    Circular shift of a 1D vector\n",
        "    \"\"\"\n",
        "    return np.roll(x, -k, axis=0)\n",
        "\n",
        "\n",
        "def cconv(x, h, d):\n",
        "    \"\"\"\n",
        "    Circular convolution along dimension d.\n",
        "    h should be small and with odd size\n",
        "    \"\"\"\n",
        "    if d == 2:\n",
        "        # apply to transposed matrix\n",
        "        return np.transpose(cconv(np.transpose(x), h, 1))\n",
        "    y = np.zeros(x.shape)\n",
        "    p = len(h)\n",
        "    pc = int(round(float((p - 1) / 2)))\n",
        "    for i in range(0, p):\n",
        "        y = y + h[i] * circshift1d(x, i - pc)\n",
        "    return y\n",
        "\n",
        "\n",
        "def reverse(x):\n",
        "    \"\"\"\n",
        "    Reverse a vector.\n",
        "    \"\"\"\n",
        "    return x[::-1]\n",
        "\n",
        "\n",
        "def perform_wavortho_transf(f, Jmin, dir, h):\n",
        "    \"\"\"\n",
        "    perform_wavortho_transf - compute orthogonal wavelet transform\n",
        "\n",
        "    fw = perform_wavortho_transf(f,Jmin,dir,options);\n",
        "\n",
        "    You can give the filter in options.h.\n",
        "\n",
        "    Works in 2D only.\n",
        "    Copyright (c) 2014 Gabriel Peyre\n",
        "    \"\"\"\n",
        "\n",
        "    n = f.shape[1]\n",
        "    Jmax = int(np.log2(n) - 1)\n",
        "    # compute g filter\n",
        "    u = np.power(-np.ones(len(h) - 1), range(1, len(h)))\n",
        "    # alternate +1/-1\n",
        "    g = np.concatenate(([0], h[-1:0:-1] * u))\n",
        "\n",
        "    if dir == 1:\n",
        "        ### FORWARD ###\n",
        "        fW = f.copy()\n",
        "        for j in np.arange(Jmax, Jmin - 1, -1):\n",
        "            A = fW[:2 ** (j + 1):, :2 ** (j + 1):]\n",
        "            for d in np.arange(1, 3):\n",
        "                Coarse = subsampling(cconv(A, h, d), d)\n",
        "                Detail = subsampling(cconv(A, g, d), d)\n",
        "                A = np.concatenate((Coarse, Detail), axis=d - 1)\n",
        "            fW[:2 ** (j + 1):, :2 ** (j + 1):] = A\n",
        "        return fW\n",
        "    else:\n",
        "        ### BACKWARD ###\n",
        "        fW = f.copy()\n",
        "        f1 = fW.copy()\n",
        "        for j in np.arange(Jmin, Jmax + 1):\n",
        "            A = f1[:2 ** (j + 1):, :2 ** (j + 1):]\n",
        "            for d in np.arange(1, 3):\n",
        "                if d == 1:\n",
        "                    Coarse = A[:2**j:, :]\n",
        "                    Detail = A[2**j: 2**(j + 1):, :]\n",
        "                else:\n",
        "                    Coarse = A[:, :2 ** j:]\n",
        "                    Detail = A[:, 2 ** j:2 ** (j + 1):]\n",
        "                Coarse = cconv(upsampling(Coarse, d), reverse(h), d)\n",
        "                Detail = cconv(upsampling(Detail, d), reverse(g), d)\n",
        "                A = Coarse + Detail\n",
        "            f1[:2 ** (j + 1):, :2 ** (j + 1):] = A\n",
        "        return f1\n",
        "\n",
        "\n",
        "def noisy_observations(n=32, r_sparse=0.2, r_info=0.5):\n",
        "    \"\"\"\n",
        "    Measurement function.\n",
        "\n",
        "    Parameters:\n",
        "    - n is the image size (n x n);\n",
        "    - r_sparse is the ratio of non-zero coefficients (wavelet domain) of the\n",
        "    signal x to recover;\n",
        "    - r_info is the ratio between the size of y and the size of x.\n",
        "\n",
        "    Return y, A,  where:\n",
        "    - y is the vector of measurements;\n",
        "    - A is the sensing matrix (we look for x such that y = Ax);\n",
        "    \"\"\"\n",
        "\n",
        "    # Load Barbara's test imageimport urllib.requestimport urllib.request\n",
        "    im = rescale(load_image(\"https://mcolom.perso.math.cnrs.fr/data/tps/optimisation/barb.png\", n))\n",
        "\n",
        "    h = compute_wavelet_filter(\"Daubechies\", 4)\n",
        "\n",
        "    # Compute the matrix of wavelet transform\n",
        "    mask = np.zeros((n, n))\n",
        "    A0 = []\n",
        "    for i in range(n):\n",
        "        for j in range(n):\n",
        "            mask[i, j] = 1\n",
        "            wt = perform_wavortho_transf(mask, 0, +1, h)\n",
        "            A0.append(wt.ravel())\n",
        "            mask[i, j] = 0\n",
        "    A0 = np.asarray(A0)\n",
        "\n",
        "    # Gaussian matrix x Wavelet transform (keep ratio r_info)\n",
        "    G = np.random.randn(int(np.floor(n**2 * r_info)), n**2) / n\n",
        "    A = G.dot(A0)\n",
        "\n",
        "    # Threshold the image (keep ratio r_sparse) and generate the measurements y\n",
        "    # Same as x_true = A0.T.dot(im.flatten())\n",
        "    x_true = perform_wavortho_transf(im, 0, +1, h).ravel()\n",
        "    thshol = np.sort(np.abs(x_true.ravel()))[int((1 - r_sparse) * n**2)]\n",
        "    x_true[np.abs(x_true) <= thshol] = 0\n",
        "    y = A.dot(x_true)  # Vector of measurements\n",
        "    return y, A\n",
        "\n",
        "\n",
        "def back_to_image(x):\n",
        "    n = int(np.sqrt(x.size))\n",
        "    h = compute_wavelet_filter(\"Daubechies\", 4)\n",
        "    wt = x.reshape((n, n))\n",
        "    im = perform_wavortho_transf(wt, 0, -1, h)\n",
        "    return im\n",
        "\n",
        "\n",
        "def plot_image(x):\n",
        "    plt.figure(figsize=(1, 1))\n",
        "    im = back_to_image(x)\n",
        "    plt.imshow(im, cmap='gray')\n",
        "    plt.axis('off')\n",
        "\n",
        "\n",
        "def total_variation_op(n=32):\n",
        "    \"\"\"\n",
        "    Measurement function.\n",
        "\n",
        "    Parameters:\n",
        "    - n is the image size (n x n);\n",
        "\n",
        "    Return T a total variation operator.\n",
        "    \"\"\"\n",
        "    h = compute_wavelet_filter(\"Daubechies\", 4)\n",
        "\n",
        "    # Compute the matrix of wavelet transform\n",
        "    mask = np.zeros((n, n))\n",
        "    A0 = []\n",
        "    for i in range(n):\n",
        "        for j in range(n):\n",
        "            mask[i, j] = 1\n",
        "            wt = perform_wavortho_transf(mask, 0, +1, h)\n",
        "            A0.append(wt.ravel())\n",
        "            mask[i, j] = 0\n",
        "    A0 = np.asarray(A0)\n",
        "\n",
        "    # Total variation operator\n",
        "    dx = np.eye(n**2)\n",
        "    dx -= np.roll(dx, 1, axis=1)\n",
        "    dx = np.delete(dx, np.s_[n - 1::n], axis=0)\n",
        "\n",
        "    dy = np.eye(n**2)\n",
        "    dy -= np.roll(dy, n, axis=1)\n",
        "    dy = np.delete(dy, np.s_[-n:], axis=0)\n",
        "\n",
        "    T = np.r_[dx, dy].dot(A0)  # TV in the image domain\n",
        "\n",
        "    T = np.r_[np.eye(n**2), T]  # For usual L1 norm, add identity\n",
        "\n",
        "    return T\n",
        "\n",
        "\n",
        "def noisy_observation_inf(n=2**4):\n",
        "    A = np.zeros((n, n))\n",
        "    while np.linalg.det(A) == 0:\n",
        "        A = np.random.randn(n, n)\n",
        "    y = A.dot(np.ones(n)) + np.random.randn(n)\n",
        "    return y, A\n",
        "\n",
        "\n",
        "def noisy_observation_nuclear(n=2**4):\n",
        "    A = np.random.binomial(1, 0.1, size=(n, n))\n",
        "    while np.sum(A) <= n / 5:\n",
        "        A = np.random.binomial(1, 0.1, size=(n, n))\n",
        "    X = np.ones((n, n))\n",
        "    Y = A * X\n",
        "    return Y, A"
      ],
      "execution_count": null,
      "outputs": []
    },
    {
      "cell_type": "code",
      "metadata": {
        "id": "t1eey_8PaHkQ"
      },
      "source": [
        "import warnings\n",
        "warnings.filterwarnings('ignore')"
      ],
      "execution_count": null,
      "outputs": []
    },
    {
      "cell_type": "markdown",
      "metadata": {
        "id": "NbE2klk5aHkR"
      },
      "source": [
        "## 2) Générer les données $A$ et $y$ et fixer pour le moment $\\lambda$"
      ]
    },
    {
      "cell_type": "code",
      "metadata": {
        "id": "qR9HSBKCaHkR"
      },
      "source": [
        "lambda_l1 = 1\n",
        "y, A = noisy_observations()"
      ],
      "execution_count": null,
      "outputs": []
    },
    {
      "cell_type": "markdown",
      "metadata": {
        "id": "2CFLAh2ZaHkS"
      },
      "source": [
        "## 3) Calculer le gradient de $f$ pour cet exemple"
      ]
    },
    {
      "cell_type": "markdown",
      "metadata": {
        "id": "gph5Rcl7aHkS"
      },
      "source": [
        "On a: $\\forall (x,h)\\in(\\mathbb{R}^d)^2, f(x+h)=\\Vert y-Ax-Ah\\Vert^2=\\Vert y-Ax\\Vert^2+\\Vert Ah\\Vert^2-2\\langle y-Ax,Ah\\rangle=f(y)+o(h)-2\\langle A^T(y-Ax),h\\rangle$.\n",
        "Donc :\n",
        "$$\\nabla f(x) = 2A^T(Ax-y)$$"
      ]
    },
    {
      "cell_type": "markdown",
      "metadata": {
        "id": "754YxfmNaHkX"
      },
      "source": [
        "## 4) Dans cette question, on s'intéresse au calcul de l'opérateur proximal de $g$"
      ]
    },
    {
      "cell_type": "markdown",
      "metadata": {
        "id": "Of0IUhNbaHkY"
      },
      "source": [
        "### 4a) Soit $h$ une fonction convexe sci propre sur $\\mathbb{R}^d$ sous la forme $h(x)= \\sum_{i=1}^d h_i(x_i)$, pour tout $x = (x_i,\\ldots,x_d)\\in \\mathbb{R}^d$, où pour tout $i \\in \\{1,\\ldots,d\\}$, $h_i : \\mathbb{R} \\to (-\\infty, +\\infty]$, est convexe sci propre. Montrer que pour tout $x \\in \\mathbb{R}^d$ et $\\gamma >0$, $$\\text{prox}_h^{\\gamma}(x) = (\\text{prox}_{h_i}^{\\gamma}(x_i))_{i \\in \\{1, \\ldots, d\\}}.$$"
      ]
    },
    {
      "cell_type": "markdown",
      "metadata": {
        "id": "pKu_Zje9aHkY"
      },
      "source": [
        "Notons $p=\\text{prox}_h^{\\gamma}(x)\\in\\mathbb{R}^d, q_i=\\text{prox}_{h_i}^{\\gamma}(x_i)\\in \\mathbb{R}$ et $q=(q_1,...,q_d)$.\n",
        "\n",
        "On a:\n",
        "$h(p)+\\frac{\\Vert x-p\\Vert^2}{2\\gamma}=\\sum_{i=1}^{d}h_i(p_i)+\\frac{\\vert x_i-p_i\\vert^2}{2\\gamma}\\geq \\sum_{i=1}^{d}h_i(q_i)+\\frac{\\vert x_i-q_i\\vert^2}{2\\gamma}=h(q)+\\frac{\\Vert x-q\\Vert^2}{2\\gamma}\\geq \\inf_{y\\in\\mathbb{R}^d}h(y)+\\frac{\\Vert x-y\\Vert^2}{2\\gamma}$.\n",
        "\n",
        "Or $\\inf_{y\\in\\mathbb{R}^d}h(y)+\\frac{\\Vert x-q\\Vert^2}{2\\gamma}=h(p)+\\frac{\\Vert x-p\\Vert^2}{2\\gamma}$ donc $\\inf_{y\\in\\mathbb{R}^d}h(y)+\\frac{\\Vert x-q\\Vert^2}{2\\gamma}=h(q)+\\frac{\\Vert x-q\\Vert^2}{2\\gamma}$ et par unicité de l'argmin dans notre cas, on a $p=q$ c'est-à-dire:\n",
        "$$\\text{prox}_h^{\\gamma}(x) = (\\text{prox}_{h_i}^{\\gamma}(x_i))_{i \\in \\{1, \\ldots, d\\}}.$$\n"
      ]
    },
    {
      "cell_type": "markdown",
      "metadata": {
        "id": "yljFSjNvaHkZ"
      },
      "source": [
        "### 4b) Considérons $\\phi(t) = |t|$ pour tout $t \\in \\mathbb{R}$. Montrer que pour tout $u \\in \\mathbb{R}$ et $\\gamma >0$ $$t^{\\star} = \\text{argmin}_{t \\in \\mathbb{R}} \\{|t| + (2\\gamma)^{-1} |t-u|^2\\},$$ si et seulement si $$t^* \\in u - \\gamma \\partial \\phi(t^*).$$"
      ]
    },
    {
      "cell_type": "markdown",
      "metadata": {
        "id": "RQx7RljFaHkZ"
      },
      "source": [
        "Notons $g(t)=\\frac{\\vert t-u\\vert^2}{2\\gamma}$ et $f(t)=g(t)+\\phi(t)$. On a $\\partial f(t)=\\nabla g(t)+\\partial \\phi(t)=\\frac{t-u}{\\gamma}+\\partial \\phi(t)$\n",
        "\n",
        "On sait par le cours que $t^*=\\text{argmin}_{t \\in \\mathbb{R}} f(t) \\Leftrightarrow 0\\in\\partial f(t^*)\\Leftrightarrow t^*\\in u-\\gamma\\partial\\phi(t^*)$.\n"
      ]
    },
    {
      "cell_type": "markdown",
      "metadata": {
        "id": "JdcL6nVfaHka"
      },
      "source": [
        "### 4c) Déterminer la sous-différentielle de $\\phi$ sur $\\mathbb{R}$"
      ]
    },
    {
      "cell_type": "markdown",
      "metadata": {
        "id": "4Mdat3bMaHka"
      },
      "source": [
        "Soit $x_0 \\in \\mathbb{R}$.\n",
        "\n",
        "- si $x_0=0$:\\\n",
        "$\\phi(x)=|x|\\geq \\eta x$ ssi $\\eta \\in [-1, 1]$ donc :\\\n",
        " $$\\partial \\phi(0) =[-1, 1]$$\n",
        "- si $x_0\\neq 0$:\\\n",
        "$\\phi$ est une fonction convexe et différentiable sur $\\mathbb{R}^*$ donc le sous-différentiel contient un seul point qui est la dérivée de $\\phi$ en $x_0$.\n",
        "\n",
        "Ainsi :\n",
        "\n",
        "\n",
        "- si $x_0<0$ :\n",
        "\n",
        "$$\\partial \\phi(x_0) =\\{-1\\}$$\n",
        "- si $x_0>0$ :\n",
        "\n",
        "$$\\partial \\phi(x_0) =\\{1\\}$$"
      ]
    },
    {
      "cell_type": "markdown",
      "metadata": {
        "id": "d795fw-FaHka"
      },
      "source": [
        "### 4d) En distinguant les cas $|u| < \\gamma$ et $|u| \\geq \\gamma$, déterminer pour tout $u \\in \\mathbb{R}$ et $\\gamma >0$, $\\text{prox}_{\\phi}^{\\gamma}(u)$"
      ]
    },
    {
      "cell_type": "markdown",
      "metadata": {
        "id": "eO2BkvpxaHkb"
      },
      "source": [
        "Notons $p=\\text{prox}_{\\phi}^{\\gamma}(u)$. D'après ce qui précède, on a $p\\in u-\\gamma\\partial\\phi(p)$.\n",
        "\n",
        "Supposons $\\vert u\\vert < \\gamma$. Si $p<0$ alors $p=u+\\gamma\\geq-\\vert u\\vert +\\gamma>0$ : absurde. Si $p>0$ alors $p=u-\\gamma\\geq-\\vert u\\vert -\\gamma<0$ : absurde. Ainsi $p=0$.\n",
        "\n",
        "Supposons désormais $\\vert u\\vert > \\gamma$. Si $p=0$ alors $0=p=u-\\gamma d$ avec $\\vert d \\vert \\leq 1$ : c'est absurde car $\\vert \\frac{u}{\\gamma}\\vert >1$. Si $u<0$. Si $p>0$ alors $p=u-\\gamma<0$ : absurde. Donc $p<0$ et $p=u+\\gamma$. Inversement, si $u>0$. Si $p<0$ alors $p=u+\\gamma>0$ : absurde. Donc $p> 0$ et $p=u-\\gamma$. Ainsi on voit que $p=u(1-\\frac{\\gamma}{\\vert u\\vert})$.\n",
        "\n",
        "Enfin supposons que $\\vert u\\vert=\\gamma$ on a pour tout $t\\in\\mathbb{R}$, $\\vert t \\vert+\\frac{\\vert t-u\\vert^2}{2\\gamma}=\\vert t \\vert -\\frac{tu}{\\gamma}+\\frac{t^2}{2\\gamma}+\\frac{\\gamma}{2}\\geq \\frac{\\gamma}{2}$ car $\\vert u\\vert =\\gamma$. Ainsi puisqu'en évaluant en $0$ on trouve aussi $\\frac{\\gamma}{2}$ alors $p=0$.\n",
        "\n",
        "En conclusion, $\\text{prox}_{\\phi}^{\\gamma}(u)=\\mathbb{1}_{[\\gamma,+\\infty[}(\\vert u \\vert)u(1-\\frac{\\gamma}{\\vert u\\vert})$."
      ]
    },
    {
      "cell_type": "markdown",
      "metadata": {
        "id": "L792gSyPaHkb"
      },
      "source": [
        "### 4e) En déduire $\\text{prox}_{g}^{\\gamma}(x)$ pour tout $x \\in \\mathbb{R}^d$ et $\\gamma >0$"
      ]
    },
    {
      "cell_type": "markdown",
      "metadata": {
        "id": "JGE4GD13aHkd"
      },
      "source": [
        "Ainsi, d'après les questions précédentes.\n",
        "\n",
        "$\\text{prox}_{g}^{\\gamma}(x)=(\\mathbb{1}_{[\\gamma,+\\infty[}(\\vert x_i \\vert)x_i(1-\\frac{\\gamma}{\\vert x_i\\vert}))_{i=1,...,d}$"
      ]
    },
    {
      "cell_type": "markdown",
      "metadata": {
        "id": "ii8F8vbQaHkd"
      },
      "source": [
        "## 5) Implémenter le gradient de $f$ et l'opérateur proximal de $g$"
      ]
    },
    {
      "cell_type": "markdown",
      "metadata": {
        "id": "Ts2XESC4aHke"
      },
      "source": [
        "Il faut trouver une constante de lipschiz de $\\nabla{f}$: il suffit de regarder la hessienne qui vaut $2A^TA$ et d'en prendre la norme d'opérateur. Cette norme est d'ailleurs majorée par la norme de Frobenius qui est plus facilement calculable."
      ]
    },
    {
      "cell_type": "code",
      "metadata": {
        "id": "Z7sdXQGm7m3G"
      },
      "source": [
        "def grad_f(x):\n",
        "  grad_f = np.dot( 2*np.transpose(A) , np.dot( A , x ) - y )\n",
        "  L = np.linalg.norm( np.dot( 2*np.transpose(A) , A ), 2 )\n",
        "  return( np.array( [ grad_f , L ] ) )\n",
        "\n",
        "def prox_op_phi(u,gamma):\n",
        "  res=0\n",
        "  if np.abs(u)>=gamma: res=u*(1-gamma/np.abs(u))\n",
        "  return(res)\n",
        "\n",
        "def prox_op_g(x,gamma):\n",
        "  d=len(x)\n",
        "  p=np.zeros(d)\n",
        "  for j in range(d):\n",
        "    p[j]=prox_op_phi(x[j],gamma)\n",
        "  return(p)"
      ],
      "execution_count": null,
      "outputs": []
    },
    {
      "cell_type": "markdown",
      "metadata": {
        "id": "HqFGxSjWaHke"
      },
      "source": [
        "## 6) Appliquer la fonction ista que vous avez précédemment codé pour minimiser $F$ et afficher l'image que vous obtenez à l'aide la fonction `plot_image`"
      ]
    },
    {
      "cell_type": "code",
      "metadata": {
        "id": "q6X1fO_KaHke"
      },
      "source": [
        "def fun_total(x,lambda_1):\n",
        "  f_x=np.linalg.norm(np.dot(A,x)-y,2)**2\n",
        "  g_x=np.linalg.norm(x,1)\n",
        "  return(f_x+lambda_1*g_x)\n",
        "\n",
        "x0=np.zeros(A.shape[1])\n",
        "\n",
        "res=ista(x0,prox_op_g,grad_f,fun_total,lambda_l1,n_it=100)"
      ],
      "execution_count": null,
      "outputs": []
    },
    {
      "cell_type": "code",
      "metadata": {
        "colab": {
          "base_uri": "https://localhost:8080/",
          "height": 85
        },
        "id": "ynzdZlGXt28A",
        "outputId": "e9c684ed-342e-490e-e6e3-21c9f56633c1"
      },
      "source": [
        "plot_image(res[0])"
      ],
      "execution_count": null,
      "outputs": [
        {
          "output_type": "display_data",
          "data": {
            "image/png": "[encoded data removed]",
            "text/plain": [
              "<Figure size 72x72 with 1 Axes>"
            ]
          },
          "metadata": {
            "tags": [],
            "needs_background": "light"
          }
        }
      ]
    },
    {
      "cell_type": "markdown",
      "metadata": {
        "id": "vAx782yhaHke"
      },
      "source": [
        "## 7) Vérifier numériquement que l'ordre de convergence de ISTA est de l'ordre $O(k^{-1})$ où $k$ est le nombre d'itérations"
      ]
    },
    {
      "cell_type": "markdown",
      "metadata": {
        "id": "3vmPYOC9aHkg"
      },
      "source": [
        "## 8) Changer la valeur du paramètre $\\lambda$ et afficher les images que vous obtenez. Discuter de vos résultats."
      ]
    },
    {
      "cell_type": "code",
      "metadata": {
        "id": "knHCMuRxaHkh",
        "colab": {
          "base_uri": "https://localhost:8080/",
          "height": 85
        },
        "outputId": "3110cc69-f7f1-46a6-969e-e1f351829898"
      },
      "source": [
        "lambda_l1 = 0.1\n",
        "y, A = noisy_observations()\n",
        "res=ista(x0,prox_op_g,grad_f,fun_total,lambda_l1,n_it=100)\n",
        "plot_image(res[0])"
      ],
      "execution_count": null,
      "outputs": [
        {
          "output_type": "display_data",
          "data": {
            "image/png": "[encoded data removed]",
            "text/plain": [
              "<Figure size 72x72 with 1 Axes>"
            ]
          },
          "metadata": {
            "tags": [],
            "needs_background": "light"
          }
        }
      ]
    },
    {
      "cell_type": "code",
      "metadata": {
        "colab": {
          "base_uri": "https://localhost:8080/",
          "height": 85
        },
        "id": "wNIZXrI79Ol1",
        "outputId": "17fc58cd-79aa-46a7-efca-d7d72edc9e12"
      },
      "source": [
        "lambda_l1 = 1.5\n",
        "y, A = noisy_observations()\n",
        "res=ista(x0,prox_op_g,grad_f,fun_total,lambda_l1,n_it=100)\n",
        "plot_image(res[0])"
      ],
      "execution_count": null,
      "outputs": [
        {
          "output_type": "display_data",
          "data": {
            "image/png": "[encoded data removed]",
            "text/plain": [
              "<Figure size 72x72 with 1 Axes>"
            ]
          },
          "metadata": {
            "tags": [],
            "needs_background": "light"
          }
        }
      ]
    },
    {
      "cell_type": "markdown",
      "metadata": {
        "id": "0u1yJKxvaHkh"
      },
      "source": [
        "Il apparait qu'on obtient de plus en plus de \"détails\" en diminuant la valeur de $\\lambda_{l1}$. Notons qu'il faudrait une meilleure résolution pour avoir une image raisonnablement discutable.  "
      ]
    },
    {
      "cell_type": "markdown",
      "metadata": {
        "id": "OXoVrsYPaHki"
      },
      "source": [
        "# Exercise 3. Complétion de matrice de faible rang"
      ]
    },
    {
      "cell_type": "markdown",
      "metadata": {
        "id": "4OqVVqniaHki"
      },
      "source": [
        "Dans cette section, on s'intéresse au problème de complétion de\n",
        "matrice. Dans certains problèmes statistiques, on a accès à seulement\n",
        "certaines entrées d'une matrice $X \\in \\mathbb{R}^{d \\times d}$,\n",
        "$Y = A \\odot X$ où\n",
        "$A =(\\mathbf{1}_{I \\times J}((i,j)))_{i,j \\in \\{1,\\ldots,d\\}}$, où\n",
        "$I,J \\subset \\{1,\\ldots,d\\}$ et $\\odot$ est la multiplication élément\n",
        "par élément (ou appelé par certains \"matlab\").  Dans ce problème, on\n",
        "voudrait alors retrouver les composantes manquantes de $X$. Pour cela,\n",
        "il est commun de chercher une matrice $X$ de faible rang. Cela revient\n",
        "alors à chercher à minimiser la fonction $F$ définie sur $\\mathbb{R}^{d\\times d}$ par\n",
        "\\begin{equation*}\n",
        "  F(X) = f(X) + \\lambda g(X), \\qquad f(X) = ||Y-A\\odot X||^2_{2}, \\, g(X )= ||X||_{\\star}  = \\sum_{i=1}^d |\\sigma_i(X)|,\n",
        "\\end{equation*}\n",
        "où $||\\cdot||_2$ est la norme de Frobenius et\n",
        "$(\\sigma_i)_{i \\in \\{1,\\ldots,d\\}}$ sont les valeurs singulières de\n",
        "$X$. On rappelle le théorème de décomposition en valeurs propres\n",
        "singulières:\n",
        "\n",
        "__Théorème 1__\n",
        "_Soit $A \\in \\mathbb{R}^{d \\times m}$, $d \\leq m$. Il existe alors deux matrices orthogonales $O_1,O_2$ et $\\sigma_1(A) \\geq \\cdots \\geq \\sigma_d(A) \\geq 0$ tel que $A = O_1 \\Sigma O_2$ où $\\Sigma_A \\in \\mathbb{R}^{d \\times m}$ est la matrice dont les entrées sont données par $\\Sigma_{i,i} = \\sigma_i(A)$ pour $i \\in\\{1,\\ldots,d\\}$ et $\\Sigma_{i,j} = 0$ sinon.  Les réels $(\\sigma_1(A), \\ldots, \\sigma_d(A))$ sont appelés les valeurs singulières de $A$ et sont les valeurs propres de $A A^T$._\n"
      ]
    },
    {
      "cell_type": "markdown",
      "metadata": {
        "id": "fY6zdIVDaHki"
      },
      "source": [
        "## 1) Montrer que $g$ est la norme dual de la norme opérateur $|||\\cdot|||$ sur $\\mathbb{R}^{d \\times d}$, i. e.\n",
        "  \\begin{equation*}\n",
        "    g(X) = \\sup_{V \\in \\mathbb{R}^{d \\times d}, \\, |||V||| \\leq 1} \\langle X,V\\rangle = \\sup_{V \\in \\mathbb{R}^{d \\times d}, \\, |||V||| \\leq 1}\\text{Tr}(X^TV),\n",
        "  \\end{equation*}\n",
        " où $|||V|||$ est la norme spectral de $V$ (son valeur singulière le plus grand).\n",
        "\n",
        " En déduire que $g$ est convexe.\n"
      ]
    },
    {
      "cell_type": "markdown",
      "metadata": {
        "id": "4UgR2aAVGJ1i"
      },
      "source": [
        "Notons $X=O_1\\Sigma_XO_2$ la décomposition en valeurs singulières de $X$.\n",
        "\n",
        "Soit $V \\in \\mathbb{R}^{d \\times d}, \\, |||V||| \\leq 1$. Alors d'après l'inégalité de Von Neumann ${Tr}(X^TV)\\leq \\sum_{i=1}^{d}\\sigma_i(X^T)\\sigma_i(V)\\leq |||V|||\\sum_{i=1}^{d}\\sigma_i(X)\\leq g(X)$. En passant au sup sur $V$, on a $g(X)\\geq\\sup_{V \\in \\mathbb{R}^{d \\times d}, \\, |||V||| \\leq 1}\\text{Tr}(X^TV)$.\n",
        "\n",
        "Réciproquement on pose $V=O_1O_2$ alors $|||V||| \\leq |||O_1|||\\times|||O_2||| \\leq 1$ car $O_1$ et $O_2$ sont orthogonales. On a $\\text{Tr}(X^TV)=\\text{Tr}(O_2^T\\Sigma_XO_1^TO_1O_2)=\\text{Tr}(O_2^T\\Sigma_XO_2)=\\text{Tr}(\\Sigma_X)=g(X)$. Ainsi, on a le résultat souhaité.\n"
      ]
    },
    {
      "cell_type": "markdown",
      "metadata": {
        "id": "lGLBp2lRF3Fz"
      },
      "source": [
        "  $g$ est convexe en effet :\n",
        "\n",
        "  $\\forall X, Y, V \\in \\mathbb{R}^{d \\times d}$, et $\\forall \\lambda \\in [0,1],  Tr((\\lambda X + (1-\\lambda)Y)^TV)= \\lambda Tr(X^TV)+ (1-\\lambda)Tr(Y^TV) \\leq \\lambda g(X)+ (1-\\lambda)g(Y)$\n",
        "\n",
        "Par suite, en passant au supremum sur $V$.\n",
        "$$g(\\lambda X + (1-\\lambda)Y) \\leq \\lambda g(X)+ (1-\\lambda)g(Y)$$\n"
      ]
    },
    {
      "cell_type": "markdown",
      "metadata": {
        "id": "3aFWpdIfaHki"
      },
      "source": [
        "## On cherche alors à appliquer ISTA pour minimiser $F$"
      ]
    },
    {
      "cell_type": "markdown",
      "metadata": {
        "id": "trCRilu9aHkj"
      },
      "source": [
        "## 2) Générer les données $A$ et $y$ et fixer pour le moment $\\lambda$"
      ]
    },
    {
      "cell_type": "code",
      "metadata": {
        "id": "F4m27oTUaHkj"
      },
      "source": [
        "lambda_nuclear = 1\n",
        "Y, A = noisy_observation_nuclear()"
      ],
      "execution_count": null,
      "outputs": []
    },
    {
      "cell_type": "markdown",
      "metadata": {
        "id": "W4Q5aCtcaHkj"
      },
      "source": [
        "## 3) Calculer le gradient de $f$ pour cet exemple"
      ]
    },
    {
      "cell_type": "markdown",
      "metadata": {
        "id": "sdj0f6u9quft"
      },
      "source": [
        "On a $f(X) = ||Y-A\\odot X||^2_{2}$ donc :\n",
        "\n",
        "$\\forall (X,H)\\in\\mathbb{R}^{d\\times d}, f(X+H)= ||Y-A\\odot X -A\\odot H||^2_{2} = ||Y-A\\odot X||^2_{2} -2 \\langle Y-A\\odot X,A\\odot H\\rangle +||A\\odot H||^2_{2} $\n",
        "\n",
        "Notons $B=Y-A\\odot X$. On a $\\langle B,A\\odot H\\rangle=\\sum_{i,j}b_{i,j}[A\\odot H]_{i,j}=\\sum_{i,j}b_{i,j}a_{i,j}h_{i,j}=\\langle A\\odot B, H\\rangle$.\n",
        "\n",
        "Ainsi $\\langle Y-A\\odot X,A\\odot H\\rangle=\\langle A\\odot(Y-A\\odot X),H\\rangle$.\n",
        "\n",
        "Et $\\Vert A\\odot H\\Vert_2=\\sqrt{\\sum_{i,j}a_{i,j}^2h_{i,j}^2}\\leq(\\sum_{i,j}a_{i,j}^4)^{\\frac{1}{4}}(\\sum_{i,j}h_{i,j}^4)^{\\frac{1}{4}}\\leq C\\Vert H\\Vert_2$ où $C$ est une constante (on a utilisé implicitement l'équivalence des normes).\n",
        "\n",
        "On a donc:\n",
        "$$\\nabla f(X)= -2A\\odot(Y-A\\odot X)$$\n"
      ]
    },
    {
      "cell_type": "markdown",
      "metadata": {
        "id": "CLL6PRZcaHkk"
      },
      "source": [
        "## 4) Dans cette question, on s'intéresse au calcul de l'opérateur proximal de $g$"
      ]
    },
    {
      "cell_type": "markdown",
      "metadata": {
        "id": "jOZxN_rnaHkk"
      },
      "source": [
        "### 4a) En utilisant que la norme de Frobenius est invariant par rotation, montrer que pour tout $X \\in \\mathbb{R}^{d \\times d}$  le problème de minimisation\n",
        "$$\n",
        "  \\min_{Y \\in \\mathbb{R}^{d\\times d} } ||Y||_{\\star} +(2\\gamma)^{-1} ||Y-X||^2_2, \\qquad\\qquad\\qquad (1)\n",
        "$$\n",
        "est équivalent à\n",
        "$$\n",
        "    \\min_{D \\in \\mathsf{E}} ||D||_{\\star} +(2\\gamma)^{-1} ||D-\\Sigma_X||^2_2, \\qquad\\qquad\\qquad (2)\n",
        "$$\n",
        "où $\\mathsf{E}$ est l'ensemble des matrices diagonales de $\\mathbb{R}^{d \\times d}$ et $\\Sigma_X$ est la matrice diagonale donnée par la décomposition en valeurs singulières de $X$.  Pour cela on utilisera le résultat suivant [2].\n",
        "\n",
        "__Théorème 2__\n",
        "_Soit $A,B \\in \\mathbb{R}^{d \\times d}$ deux matrices de dimension $d$. Alors pour toutes matrices orthogonales $O_1,O_2$,\n",
        "$$\n",
        "\\langle O_1 A O_2,B\\rangle \\leq \\langle\\Sigma_A,\\Sigma_B\\rangle,\n",
        "$$\n",
        "où $\\Sigma_A$ et $\\Sigma_B$ sont les deux matrices diagonales données par la décomposition en valeurs singulières de respectivement $A$ et $B$._\n",
        "\n",
        "Si $D$ est une solution de (2), comment construire $Y$ solution de (1) ?"
      ]
    },
    {
      "cell_type": "markdown",
      "metadata": {
        "id": "tGIZfXS-aHkk"
      },
      "source": [
        "Montrons que $(1)\\geq (2)$. Soit $Y\\in\\mathbb{R}^{d\\times d}$\n",
        "$$||Y||_{\\star} +(2\\gamma)^{-1} ||Y-X||^2_2= ||\\Sigma_Y||_{\\star} +(2\\gamma)^{-1}[ ||Y||^2_2 +||X||^2_2 - 2\\langle Y,X\\rangle] = ||\\Sigma_Y||_{\\star} +(2\\gamma)^{-1}[ ||O_3\\Sigma_YO_4||^2_2 +||O_1\\Sigma_YO_2||^2_2 - 2\\langle Y,X\\rangle] \\geq ||\\Sigma_Y||_{\\star} +(2\\gamma)^{-1}[ ||\\Sigma_Y||^2_2 +||\\Sigma_Y||^2_2 - 2\\langle \\Sigma_Y,\\Sigma_X\\rangle]=||\\Sigma_Y||_{\\star} +(2\\gamma)^{-1}||\\Sigma_Y-\\Sigma_X||^2_2\\geq (2)$$\n",
        "\n",
        "En passant à l'infimum sur $Y$, on a bien: $(1)\\geq (2)$.\n",
        "\n",
        "Montrons que $(2)\\geq (1)$. Soit $D\\in E$\n",
        "$$||D||_{\\star} +(2\\gamma)^{-1} ||D-\\Sigma_X||^2_2= ||D||_{\\star} +(2\\gamma)^{-1}[ ||D||^2_2 +||\\Sigma_X||^2_2 - 2\\langle D,\\Sigma_X\\rangle]$$\n",
        "Or $$\n",
        "-\\langle D , X\\rangle \\leq \\langle\\Sigma_{-D},\\Sigma_X\\rangle=\\langle -D,\\Sigma_X\\rangle=-\\langle D,\\Sigma_X\\rangle,\n",
        "$$\n",
        "Donc:\n",
        "$$||D||_{\\star} +(2\\gamma)^{-1} ||D-\\Sigma_X||^2_2 \\geq  ||D||_{\\star} +(2\\gamma)^{-1}[ ||D||^2_2 +||X||^2_2 - 2\\langle D,X\\rangle]=||D||_{\\star} +(2\\gamma)^{-1} ||D-X||^2_2\\geq (1)$$\n",
        "\n",
        "En passant à l'infimum sur $D$, on a bien: $(2)\\geq (1)$.\n",
        "\n",
        "Ainsi les deux problèmes de minimisation sont bien équivalents."
      ]
    },
    {
      "cell_type": "markdown",
      "metadata": {
        "id": "IzBoV4XhaHkl"
      },
      "source": [
        "### 4b) En déduire que pour tout $\\gamma >0$ et $X \\in \\mathbb{R}^{d \\times d}$\n",
        "$$\n",
        "      \\text{prox}_g^{\\gamma}(X) = U \\text{prox}_{\\ell_1}^{\\gamma}(\\Sigma_X) V,\n",
        "$$\n",
        "où $X = U \\Sigma_X V$ est une décomposition en valeurs singulières\n",
        "de $X$ et $\\text{prox}_{\\ell_1}^{\\gamma}$ est l'operateur proximal de la\n",
        "norme $\\ell_1$, $Y \\mapsto \\sum_{i,j=1}^d |Y_{i,j}|$."
      ]
    },
    {
      "cell_type": "markdown",
      "metadata": {
        "id": "a1XsDKl0LNLW"
      },
      "source": [
        "on pose $p=U \\text{prox}_{\\ell_1}^{\\gamma}(\\Sigma_X) V$\n",
        "\n",
        "$||p||_* +(2\\gamma)^{-1} ||p-X||_2^2= ||\\text{prox}_{\\ell_1}^{\\gamma}(\\Sigma_X)||_* +(2\\gamma)^{-1} ||\\text{prox}_{\\ell_1}^{\\gamma}(\\Sigma_X)-\\Sigma_X||_2^2 \\geq ||\\text{prox}_{g}^{\\gamma}||_* +(2\\gamma)^{-1} ||\\text{prox}_{g}^{\\gamma}(X)-X||_2^2$\n",
        "\n",
        "On sait que les matrices $\\text{prox}_{g}^{\\gamma}(X)$  est diagonale. et que $||\\text{prox}_{g}^{\\gamma}(X)||_* \\leq \\ell_1(\\text{prox}_{g}^{\\gamma}(X)).$"
      ]
    },
    {
      "cell_type": "markdown",
      "metadata": {
        "id": "tAr5VNtAaHkl"
      },
      "source": [
        "## 5) Implémenter l'opérateur proximal de $g$"
      ]
    },
    {
      "cell_type": "code",
      "metadata": {
        "id": "ndt0coVjaHkl"
      },
      "source": [
        "def prox_op_g_new(X,gamma):\n",
        "  U,S,V = np.linalg.svd(X)\n",
        "  prox_l1_S = prox_op_g(S,gamma)\n",
        "  prox_l1_sigma = np.diag(prox_l1_S)\n",
        "  return( np.dot( U , np.dot( prox_l1_sigma , V ) ) )\n"
      ],
      "execution_count": null,
      "outputs": []
    },
    {
      "cell_type": "markdown",
      "metadata": {
        "id": "lApC1s5eaHkl"
      },
      "source": [
        "## 6) Tester l'algorithme ISTA et illustrer graphiquement sa convergence"
      ]
    },
    {
      "cell_type": "code",
      "metadata": {
        "id": "h6LAjtUgz4iz"
      },
      "source": [
        "def grad_f_new(X):\n",
        "  grad_f = -2*np.multiply( A , Y - np.multiply( A , X ) )\n",
        "  L = np.linalg.norm( -2*np.multiply( A , A) )\n",
        "  return( np.array([grad_f,L]) )"
      ],
      "execution_count": null,
      "outputs": []
    },
    {
      "cell_type": "code",
      "metadata": {
        "id": "tEyZHiQp2jC8"
      },
      "source": [
        "def fun_total_new(X,lambda_l):\n",
        "  U,S,V = np.linalg.svd(X)\n",
        "  f_X=np.linalg.norm(np.dot( A, X ) - Y)\n",
        "  g_X=np.linalg.norm(S,1)"
      ],
      "execution_count": null,
      "outputs": []
    },
    {
      "cell_type": "code",
      "metadata": {
        "id": "kRNPD6tAz2OH"
      },
      "source": [
        "X0=np.zeros(A.shape)\n",
        "res=ista(X0,prox_op_g_new,grad_f_new,fun_total_new,lambda_nuclear,n_it=100)"
      ],
      "execution_count": null,
      "outputs": []
    },
    {
      "cell_type": "code",
      "metadata": {
        "colab": {
          "base_uri": "https://localhost:8080/"
        },
        "id": "eCUvF5TO7RQL",
        "outputId": "afcb80b7-37ba-4d0f-d09f-3fa2d26222cc"
      },
      "source": [
        "print({'X_fin=':res[0]})"
      ],
      "execution_count": null,
      "outputs": [
        {
          "output_type": "stream",
          "text": [
            "{'X_fin=': array([[ 9.88346280e-16,  9.07116582e-17, -3.08268632e-17,\n",
            "        -5.09288943e-16,  2.28978573e-16,  3.68382523e-16,\n",
            "         7.05467855e-16, -2.14504737e-16,  6.46446609e-01,\n",
            "         8.57492428e-16,  5.37661192e-16,  2.46850898e-33,\n",
            "         2.22660848e-15,  2.76132827e-16,  1.18003183e-15,\n",
            "         0.00000000e+00],\n",
            "       [-3.68529620e-16, -7.73930909e-16, -2.08225274e-16,\n",
            "        -6.82849248e-16, -6.72396315e-16,  7.97064649e-16,\n",
            "         5.05080556e-16,  2.71000172e-16,  3.56834659e-15,\n",
            "         9.61573781e-16, -8.68060783e-16,  1.84257501e-18,\n",
            "         5.00000000e-01, -4.92953264e-17,  3.71443505e-16,\n",
            "         0.00000000e+00],\n",
            "       [ 1.38713723e-16,  2.33997897e-01,  7.22334925e-16,\n",
            "         7.98537860e-01,  2.01959285e-02,  7.80703230e-01,\n",
            "         4.39240617e-01,  4.28534705e-16, -2.83408146e-16,\n",
            "         3.86951568e-01, -4.57188418e-02,  1.66383836e-31,\n",
            "        -1.26511452e-16,  3.14970010e-01,  1.49372673e-16,\n",
            "         0.00000000e+00],\n",
            "       [ 1.19178881e-16,  3.70235050e-01,  1.62633840e-15,\n",
            "        -6.27067151e-02,  4.00235152e-01, -1.02151890e-02,\n",
            "         2.72125627e-02,  1.09459974e-16,  7.84038383e-16,\n",
            "        -6.01368533e-02,  6.72613607e-01, -1.81689582e-31,\n",
            "        -3.10994043e-16,  1.19004897e-01,  8.63106282e-17,\n",
            "         0.00000000e+00],\n",
            "       [ 1.19178881e-16,  3.70235050e-01,  1.37725122e-15,\n",
            "        -6.27067151e-02,  4.00235152e-01, -1.02151890e-02,\n",
            "         2.72125627e-02,  1.51334666e-16,  6.89760237e-16,\n",
            "        -6.01368533e-02,  6.72613607e-01, -1.83114242e-31,\n",
            "        -3.18131856e-16,  1.19004897e-01,  8.63106282e-17,\n",
            "         0.00000000e+00],\n",
            "       [ 9.40661789e-16, -2.27715483e-17,  7.64032825e-18,\n",
            "        -9.98912657e-16,  1.33995650e-16,  3.52448845e-17,\n",
            "         6.53915123e-16, -1.76147570e-16,  6.46446609e-01,\n",
            "         8.33528365e-16,  2.68889787e-16,  4.02961970e-33,\n",
            "         2.21269389e-15,  2.14645409e-16,  1.11817757e-15,\n",
            "         0.00000000e+00],\n",
            "       [-2.36882959e-16,  7.95403476e-01,  3.77849998e-15,\n",
            "         5.47993202e-01,  4.44135329e-01,  9.01064730e-01,\n",
            "         8.26182925e-01,  3.74944298e-16,  1.00109927e-15,\n",
            "         6.46047713e-01,  3.68007825e-01, -1.44439167e-31,\n",
            "        -5.02671763e-18,  6.90877552e-01, -8.14158748e-16,\n",
            "         0.00000000e+00],\n",
            "       [-2.51652840e-16,  7.54460252e-01,  4.11878573e-15,\n",
            "        -7.38426837e-03,  6.54018986e-01,  2.51970247e-01,\n",
            "         3.56320486e-01, -1.77138368e-16, -1.33424812e-16,\n",
            "         1.81656907e-01,  9.10016993e-01, -3.29805887e-31,\n",
            "        -1.37955154e-15,  4.12903366e-01, -6.73690715e-16,\n",
            "         0.00000000e+00],\n",
            "       [ 7.35639443e-17,  1.04065247e-16,  9.51931291e-17,\n",
            "        -3.13871179e-16,  1.46463136e-16,  9.23589975e-16,\n",
            "        -1.82722298e-16,  5.00000000e-01, -3.66492716e-16,\n",
            "        -3.51050783e-16, -1.64226984e-16,  1.55768854e-17,\n",
            "         2.45451507e-16,  2.45510330e-16, -1.46191677e-16,\n",
            "         0.00000000e+00],\n",
            "       [ 1.38713723e-16,  2.33997897e-01,  8.11900080e-16,\n",
            "         7.98537860e-01,  2.01959285e-02,  7.80703230e-01,\n",
            "         4.39240617e-01,  3.65544163e-16, -8.47433675e-17,\n",
            "         3.86951568e-01, -4.57188418e-02,  1.65278223e-31,\n",
            "        -1.57749115e-16,  3.14970010e-01,  1.49372673e-16,\n",
            "         0.00000000e+00],\n",
            "       [-1.32048451e-16,  2.71096648e-15,  5.00000000e-01,\n",
            "         1.25454362e-15,  1.90634647e-15,  6.27365003e-16,\n",
            "         1.14380551e-15,  1.22564080e-16, -2.04609974e-18,\n",
            "         2.87889142e-16,  1.34275193e-15,  5.42563268e-18,\n",
            "        -3.01008242e-16,  1.81639941e-15,  1.26276319e-16,\n",
            "         0.00000000e+00],\n",
            "       [ 6.14541353e-01, -1.10293197e-15, -3.36395916e-17,\n",
            "         2.11062211e-16, -5.40507421e-16, -1.37421751e-16,\n",
            "        -3.80870787e-16,  1.37960175e-17,  1.84775183e-15,\n",
            "        -1.80393318e-16, -2.51973645e-16, -8.05655723e-34,\n",
            "        -6.89803867e-17, -4.57761729e-16,  7.97156466e-01,\n",
            "         0.00000000e+00],\n",
            "       [ 4.73760285e-01, -7.55479625e-16,  5.89035487e-17,\n",
            "         1.01791180e-16, -2.57062294e-16, -2.06399329e-16,\n",
            "        -3.93039433e-16, -7.27606421e-17,  1.70809081e-15,\n",
            "        -2.62025116e-16,  1.40232035e-16, -1.57761451e-33,\n",
            "         1.42471549e-16, -3.82682971e-16,  6.14541353e-01,\n",
            "         0.00000000e+00],\n",
            "       [ 4.13027504e-38, -3.16669453e-36, -1.61191782e-27,\n",
            "         3.28748025e-37, -2.78423054e-36, -8.31883775e-37,\n",
            "        -1.42711491e-36, -1.84818443e-27,  8.56148567e-37,\n",
            "        -6.93881765e-37, -3.85317202e-36,  4.06207255e-43,\n",
            "         1.30598894e-25, -1.69403892e-36,  5.37979589e-38,\n",
            "         0.00000000e+00],\n",
            "       [ 1.04390322e-16,  7.38594476e-02,  6.25387570e-16,\n",
            "         6.59833038e-01, -4.92305905e-02,  5.57546728e-01,\n",
            "         2.35910876e-01, -3.31873255e-16, -8.24343761e-16,\n",
            "         2.19513957e-01, -6.67268833e-02,  1.68558420e-31,\n",
            "        -8.84594983e-16,  1.54909010e-01,  2.26314180e-16,\n",
            "         0.00000000e+00],\n",
            "       [-1.23853414e-16,  5.17983364e-01,  1.08377008e-15,\n",
            "         6.29096715e-01,  1.67415681e-01,  9.00059004e-01,\n",
            "         7.61749497e-01,  5.39027189e-17,  1.63520393e-15,\n",
            "         6.46441390e-01, -5.50039695e-02, -1.81514040e-32,\n",
            "         1.43728146e-15,  5.76819040e-01, -5.62369501e-16,\n",
            "         0.00000000e+00]])}\n"
          ],
          "name": "stdout"
        }
      ]
    },
    {
      "cell_type": "markdown",
      "metadata": {
        "id": "dTj0_NQaaHkm"
      },
      "source": [
        "# Références"
      ]
    },
    {
      "cell_type": "markdown",
      "metadata": {
        "id": "UqaNWRxMaHkm"
      },
      "source": [
        "[1] Amir Beck and Marc Teboulle. A fast iterative shrinkage-thresholding algorithm for\n",
        "linear inverse problems. SIAM journal on imaging sciences, 2(1) :183–202, 2009.\n",
        "\n",
        "[2] J. von Neumann, Some matrix-inequalities and metrization of matric-space,\n",
        "Tomsk Univ. Rev, 1(11) :286--300, 1937.  "
      ]
    }
  ]
}