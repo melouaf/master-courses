{
  "nbformat": 4,
  "nbformat_minor": 0,
  "metadata": {
    "colab": {
      "provenance": []
    },
    "kernelspec": {
      "display_name": "Python 3",
      "language": "python",
      "name": "python3"
    },
    "language_info": {
      "codemirror_mode": {
        "name": "ipython",
        "version": 3
      },
      "file_extension": ".py",
      "mimetype": "text/x-python",
      "name": "python",
      "nbconvert_exporter": "python",
      "pygments_lexer": "ipython3",
      "version": "3.9.1+"
    }
  },
  "cells": [
    {
      "cell_type": "markdown",
      "metadata": {
        "id": "zKwgiQDzRTVE"
      },
      "source": [
        "Under the supervision of   \n",
        "Miguel Colom,  \n",
        "Rafael Grompone von Gioi,  \n",
        "Argyris Kalogeratos\n",
        "\n",
        "École normale supérieure Paris-Saclay (ENS Paris-Saclay)\n",
        "\n",
        "\n",
        "# <center>Quasi-Newton methods and constrained optimization</center>"
      ]
    },
    {
      "cell_type": "markdown",
      "metadata": {
        "id": "nNs4g-NIRTVH"
      },
      "source": [
        "# Application of a quasi-Newton method with the Broyden-Fletcher-Goldfarb-Shanno (BFGS)\n",
        "\n",
        "In this exercise we will use the quasi-Newton method to solve a simple prediction problem. Moreover, you will verify experimentally that the BFGS correction allows to converge faster to a minimum.\n",
        "\n",
        "Let's imagine that we are data scientists working in a bank and we would like to know if it would be good idea to grant or not a loan to a new client according to the expected risk of not being paid back. The bank keeps a record of previous requests of clients, so there are collected data that are available. In this exercise, the dataset comes from the [UCI German Dataset](https://archive.ics.uci.edu/ml/datasets/statlog+(german+credit+data)).\n",
        "\n",
        "The German dataset has one individual client per row, whose recorded request is\n",
        "described by several attributes. Examples of attributes are: how many years\n",
        "unemployed, the purpose of the credit (e.g. to buy a new car, repairs,\n",
        "vacation...), age, etc. The last column tells if granting the credit to the\n",
        "client was a good choice (for the bank...) or not. The aim is to learn the way\n",
        "financial experts have decided for past cases in order to be able to\n",
        "automatically answer for future requests.\n",
        "\n",
        "We will consider a function (usually known as the _loss function_ in the machine learning context) that takes as parameters the attributes of a client and makes a binary prediction (the bank should grant the loan, or the bank should not). We can formalize the evaluation of the function as a simple dot product: $$x^\\top \\omega,$$ where $x$ is the vector with the attributes of a request and $\\omega$ is the vector with the coefficients of the loss function we want to minimize.\n",
        "\n",
        "As typical in the field of machine learning, we will consider a _training_ dataset that will be used to \"train\" our model and a _test_ dataset to later evaluate our trained model. During the training phase, we will apply the quasi-Newton method to effectively learn coefficients in $\\omega$ that minimize the loss function. Once this coefficients have been learned, we will evaluate the function with the test dataset.\n",
        "\n",
        "Here we consider a \"logistic loss\" function which is implemented by the following class. The details are beyond the scope of this exercise, and you may think from now on that your objective is simply to minimize this function."
      ]
    },
    {
      "cell_type": "code",
      "metadata": {
        "id": "1yha6GLqYpMv"
      },
      "source": [
        "# Import basic packages\n",
        "import numpy as np\n",
        "import numpy.random as rnd\n",
        "import matplotlib.pyplot as plt"
      ],
      "execution_count": null,
      "outputs": []
    },
    {
      "cell_type": "code",
      "metadata": {
        "id": "5AWwcgmORTVJ"
      },
      "source": [
        "class LogisticLoss():\n",
        "    def __init__(self, x_train, y_train, x_test, y_test, reg=10**-2):\n",
        "        '''\n",
        "        Constructor\n",
        "        '''\n",
        "        self.x_train = x_train\n",
        "        self.y_train = y_train\n",
        "        #\n",
        "        self.x_test = x_test\n",
        "        self.y_test = y_test\n",
        "        #\n",
        "        self.reg = reg\n",
        "        self.ndim = x_train.shape[0]\n",
        "\n",
        "    def sigmoid(self, x):\n",
        "        '''\n",
        "        Sigmoid function\n",
        "        '''\n",
        "        return 1 / (1 + np.exp(-x))\n",
        "\n",
        "    def logistic_function(self, x):\n",
        "        '''\n",
        "        Logistic function (single value)\n",
        "        '''\n",
        "        return np.log(1 + np.exp(-x))\n",
        "\n",
        "    def evaluate(self, omega, x):\n",
        "        '''\n",
        "        Evaluate function omega at x\n",
        "        '''\n",
        "        return x.dot(omega)\n",
        "\n",
        "    def log_fun(self, omega):\n",
        "        '''\n",
        "        Logistic loss of function omega in the training set\n",
        "        '''\n",
        "        scal = self.evaluate(omega, x_train)\n",
        "        val = self.y_train * scal\n",
        "        loss_n = self.logistic_function(val)\n",
        "        loss = np.sum(loss_n, 0)\n",
        "        return (loss + self.reg * np.linalg.norm(omega)**2) / self.ndim\n",
        "\n",
        "    def log_der(self, omega):\n",
        "        '''\n",
        "        Derivative of the logistic function\n",
        "        '''\n",
        "        scal = self.evaluate(omega, x_train)\n",
        "        val = - self.y_train * scal\n",
        "        grad = - self.y_train * self.sigmoid(val) * self.x_train\n",
        "        grad = np.reshape(np.sum(grad, 0), omega.shape)\n",
        "        return (grad + 2 * self.reg * omega) / self.ndim\n",
        "\n",
        "    def score(self, x, y, omega):\n",
        "        '''\n",
        "        Score with a set (x, y) and a function omega\n",
        "        '''\n",
        "        omega = np.reshape(omega, (x.shape[1], 1))\n",
        "        # x dot omega = evaluate function omega at x\n",
        "        scal = x.dot(omega)\n",
        "        # Point-wise multiplication of omega(x) and y.\n",
        "        # Same sign ==> >0. Different sign ==> <0\n",
        "        val = y * scal\n",
        "        # Count how many with the same sign (correct answers)\n",
        "        res = np.sum(val > 0)\n",
        "        success = res / len(val)\n",
        "        return success\n",
        "\n",
        "    def score_train(self, omega):\n",
        "        '''\n",
        "        Score with the training set and a function omega\n",
        "        '''\n",
        "        return self.score(x_train, y_train, omega)\n",
        "\n",
        "    def score_test(self, omega):\n",
        "        '''\n",
        "        Score with the test set and a function omega\n",
        "        '''\n",
        "        return self.score(x_test, y_test, omega)"
      ],
      "execution_count": null,
      "outputs": []
    },
    {
      "cell_type": "markdown",
      "metadata": {
        "id": "n0_YpcpHRTVM"
      },
      "source": [
        "The class contains functions to apply the loss function (``log_fun``) and also its gradient (``log_der``)."
      ]
    },
    {
      "cell_type": "markdown",
      "metadata": {
        "id": "QzA9JgTvRTVN"
      },
      "source": [
        "1) Load the German dataset as"
      ]
    },
    {
      "cell_type": "code",
      "metadata": {
        "colab": {
          "base_uri": "https://localhost:8080/"
        },
        "id": "txT6FjYWRTVO",
        "outputId": "c4945c2e-b1b9-4894-8327-ab87e2714a1b"
      },
      "source": [
        "import urllib.request\n",
        "txtfile = urllib.request.urlopen('https://mcolom.perso.math.cnrs.fr/data/tps/optimisation/german.data-numeric.txt')\n",
        "data = np.genfromtxt(txtfile)\n",
        "data   # We display the data"
      ],
      "execution_count": null,
      "outputs": [
        {
          "output_type": "execute_result",
          "data": {
            "text/plain": [
              "array([[ 1.,  6.,  4., ...,  0.,  1.,  1.],\n",
              "       [ 2., 48.,  2., ...,  0.,  1.,  2.],\n",
              "       [ 4., 12.,  4., ...,  1.,  0.,  1.],\n",
              "       ...,\n",
              "       [ 4., 12.,  2., ...,  0.,  1.,  1.],\n",
              "       [ 1., 45.,  2., ...,  0.,  1.,  2.],\n",
              "       [ 2., 45.,  4., ...,  0.,  1.,  1.]])"
            ]
          },
          "metadata": {},
          "execution_count": 5
        }
      ]
    },
    {
      "cell_type": "markdown",
      "metadata": {
        "id": "Nw6bP_0ORTVP"
      },
      "source": [
        "It is a matrix with 1000 rows (the clients) and 25 columns (the attributes)."
      ]
    },
    {
      "cell_type": "code",
      "metadata": {
        "colab": {
          "base_uri": "https://localhost:8080/"
        },
        "id": "xIRb2KJibNqO",
        "outputId": "33ba4994-ed8a-419c-a905-67f6924157e8"
      },
      "source": [
        "data.shape   # We verify that the matrix is with 1000 rows and 25 columns"
      ],
      "execution_count": null,
      "outputs": [
        {
          "output_type": "execute_result",
          "data": {
            "text/plain": [
              "(1000, 25)"
            ]
          },
          "metadata": {},
          "execution_count": 6
        }
      ]
    },
    {
      "cell_type": "markdown",
      "metadata": {
        "id": "tri_8H1jRTVQ"
      },
      "source": [
        "2) We consider that the first 24 columns will be the input of the loss function and that the last column is the variable we intend to predict, also called _class label_. Let's call $X$ the attributes and $Y$ the class label. We need that a label takes a values in {-1, +1}, so we need to change the range. Execute this code for this purpose and check that the matrices have proper dimensions. Check also that $Y$ contains only values of -1 or +1."
      ]
    },
    {
      "cell_type": "code",
      "metadata": {
        "id": "N8GaFDqMRTVR"
      },
      "source": [
        "X = data[:, 0:-1]   # The first 24 columns are the attributes\n",
        "Y = data[:, -1]     # The last one the label\n",
        "Y = (Y - 1.5) * 2   # Values -1 or +1"
      ],
      "execution_count": null,
      "outputs": []
    },
    {
      "cell_type": "markdown",
      "metadata": {
        "id": "0JcDe3IAcVDM"
      },
      "source": [
        "The matrix $X$ has size $(1000, 24)$.\n",
        "\n",
        "The matrix $Y$ has size $(1000, 1)$.\n"
      ]
    },
    {
      "cell_type": "code",
      "metadata": {
        "colab": {
          "base_uri": "https://localhost:8080/"
        },
        "id": "bM_f2utParDf",
        "outputId": "69093f6e-ab70-4677-9865-8388088aaddb"
      },
      "source": [
        "print(\"shape of X =\", X.shape)\n",
        "\n",
        "print(\"shape of Y =\", Y.shape)"
      ],
      "execution_count": null,
      "outputs": [
        {
          "output_type": "stream",
          "name": "stdout",
          "text": [
            "shape of X = (1000, 24)\n",
            "shape of Y = (1000,)\n"
          ]
        }
      ]
    },
    {
      "cell_type": "markdown",
      "metadata": {
        "id": "VFTNuEcB-yVI"
      },
      "source": [
        "We verify that  $Y$ takes only +1 and -1 as values :"
      ]
    },
    {
      "cell_type": "code",
      "metadata": {
        "colab": {
          "base_uri": "https://localhost:8080/"
        },
        "id": "E2VZhY73b2ss",
        "outputId": "dc827e2d-8752-49e2-effe-a90a1a610a2f"
      },
      "source": [
        "np.unique(Y)"
      ],
      "execution_count": null,
      "outputs": [
        {
          "output_type": "execute_result",
          "data": {
            "text/plain": [
              "array([-1.,  1.])"
            ]
          },
          "metadata": {},
          "execution_count": 9
        }
      ]
    },
    {
      "cell_type": "markdown",
      "metadata": {
        "id": "N4rS_tVJRTVR"
      },
      "source": [
        "3) Now we will split our dataset into a training set and a test set using a percentage (for example, 20%). The first 20% of the data will belong to the test dataset and the rest will be used for training. In order that the data is randomly distributed, shuffle the rows of the array first. Implement the missing (``<TODO>``) parts:"
      ]
    },
    {
      "cell_type": "code",
      "metadata": {
        "id": "7ryHokSjoMS7"
      },
      "source": [
        "np.random.seed(12345) # Reproducibility\n",
        "perc = 20\n",
        "nb = int(X.shape[0] * perc / 100)\n",
        "Z= data[np.random.randint(1000, size =nb)]               #We randomly extract 20% of data\n",
        "\n",
        "x_test =Z[:, 0:-1]\n",
        "y_test =Z[:, -1]\n",
        "y_test = (y_test - 1.5) * 2                              #We replace the values between -1 and 1\n",
        "\n",
        "train= np.delete(data, list(filter(lambda x:  Z[x] in data , range(Z.shape[0]))), axis=0) # the data frame with all the informations to be trained\n",
        "x_train = train[:, 0:-1]                 # The first 24 columns are the attributes of the trained data frame\n",
        "y_train = train[:, -1]                   # The last one the label of the trained data frame\n",
        "y_train = (y_train - 1.5) * 2            #On replace les valeurs entre -1 et 1\n",
        "\n",
        "y_train = np.reshape(y_train, (len(y_train), 1))\n",
        "y_test = np.reshape(y_test, (len(y_test), 1))"
      ],
      "execution_count": null,
      "outputs": []
    },
    {
      "cell_type": "markdown",
      "metadata": {
        "id": "UMBRdb8wRTVS"
      },
      "source": [
        "4) Now it is time to create the logistic regression object and to initialize the coefficients of the loss function with random values. Use this code:"
      ]
    },
    {
      "cell_type": "code",
      "metadata": {
        "id": "XPNw1SZsRTVT"
      },
      "source": [
        "ll = LogisticLoss(x_train, y_train, x_test, y_test)\n",
        "omega = np.random.randn(x_train.shape[1], 1) / np.sqrt(x_train.shape[1])"
      ],
      "execution_count": null,
      "outputs": []
    },
    {
      "cell_type": "markdown",
      "metadata": {
        "id": "Pkzw6ZZ1RTVT"
      },
      "source": [
        "And define the following variables:"
      ]
    },
    {
      "cell_type": "code",
      "metadata": {
        "id": "jOpXxajlRTVT"
      },
      "source": [
        "error_point = 10**-10\n",
        "error_grad = 10**-10\n",
        "iterations = 10**3"
      ],
      "execution_count": null,
      "outputs": []
    },
    {
      "cell_type": "markdown",
      "metadata": {
        "id": "3qs4y656RTVU"
      },
      "source": [
        "5) Implement the BFGS correction by completing the missing parts in the following function."
      ]
    },
    {
      "cell_type": "code",
      "metadata": {
        "id": "R93JeFJjRTVU"
      },
      "source": [
        "def update_bfgs(H, x_old, x, g_x_old, g_x):\n",
        "    '''\n",
        "    BFGS matrix H update\n",
        "    '''\n",
        "    ndim = x.shape[0]\n",
        "    s = np.reshape(x - x_old, (ndim, 1))\n",
        "    y = np.reshape(g_x - g_x_old, (ndim, 1))\n",
        "    syT = np.dot( s , np.transpose(y) )\n",
        "    ysT = np.transpose(syT)\n",
        "    y_scalar_s = np.vdot( y , s )\n",
        "    B = - ( np.dot( syT , H ) + np.dot( H , ysT ) ) / y_scalar_s + ( 1 + np.vdot( y , np.dot( H , y ) ) / y_scalar_s ) * np.dot( s , np.transpose(s) ) / y_scalar_s\n",
        "    return B"
      ],
      "execution_count": null,
      "outputs": []
    },
    {
      "cell_type": "markdown",
      "metadata": {
        "id": "FcD3oKH3RTVV"
      },
      "source": [
        "6) Implement the quasi-Newton method by completing the missing parts in the following function."
      ]
    },
    {
      "cell_type": "code",
      "metadata": {
        "id": "HF9qaQJwYl1r"
      },
      "source": [
        "def wolfe_step(x,d,f,grad_f,c1,c2,L):\n",
        "  x=np.array(x)\n",
        "  d=np.array(d)\n",
        "  h=-np.vdot(grad_f(x),d)/(L*np.linalg.norm(d)**2)\n",
        "  a=0\n",
        "  b=-1\n",
        "  i=0\n",
        "  while i<10000 and (f(x+h*d)>f(x)+c1*h*np.vdot(grad_f(x),d) or np.vdot(d,grad_f(x+h*d))<c2*np.vdot(grad_f(x),d)):\n",
        "    if f(x+h*d)>f(x)+c1*h*np.vdot(grad_f(x),d):\n",
        "      b=h\n",
        "    elif np.vdot(d,grad_f(x+h*d))<c2*np.vdot(grad_f(x),d):\n",
        "      a=h\n",
        "    if b==-1:\n",
        "      h=2*h\n",
        "    else:\n",
        "      h=(a+b)/2\n",
        "    i+=1\n",
        "  return(h)"
      ],
      "execution_count": null,
      "outputs": []
    },
    {
      "cell_type": "code",
      "metadata": {
        "id": "AFIows4XRTVV"
      },
      "source": [
        "def quasi_newton(f, grad, x0, iterations, error_point, error_grad, hstep, use_bfgs):\n",
        "    dim = np.max(x0.shape)\n",
        "\n",
        "    x_list, f_list = np.zeros([dim, iterations]), np.zeros(iterations)\n",
        "    error_point_list, error_grad_list = [], []\n",
        "\n",
        "    # Initialization\n",
        "    x = x0\n",
        "    H = np.eye(dim)\n",
        "    x_old = np.copy(x)\n",
        "    grad_x = grad(x)\n",
        "    f_x = f(x)\n",
        "    t=hstep\n",
        "    for i in range(iterations):\n",
        "        d_x = -np.dot(H,grad_x)\n",
        "        t=wolfe_step(x,d_x,f,grad,0.1,0.9,100)\n",
        "        grad_x_old=grad_x\n",
        "        x = x + t*d_x\n",
        "        grad_x=grad(x)\n",
        "        f_x=f(x)\n",
        "        if use_bfgs:\n",
        "            H = H + update_bfgs(H,x_old,x,grad_x_old,grad_x)\n",
        "\n",
        "        x_list[:, i] = np.reshape(x, -1)\n",
        "        f_list[i] = f_x\n",
        "\n",
        "        err, err_grad = np.linalg.norm(x - x_old), np.linalg.norm(grad(x))\n",
        "        error_point_list.append(err)\n",
        "        error_grad_list.append(err_grad)\n",
        "\n",
        "        if error_point_list[i]<error_point or error_grad_list[i]<error_grad: #<TODO> # termination condition\n",
        "            break\n",
        "\n",
        "        x_old = np.copy(x)\n",
        "\n",
        "    return {'iterations': i, 'x_list': x_list[:, 0:i], 'f_list': f_list[0:i], 'error_point_list': error_point_list, 'error_grad_list': error_grad_list}"
      ],
      "execution_count": null,
      "outputs": []
    },
    {
      "cell_type": "markdown",
      "metadata": {
        "id": "VNCGSAZARTVW"
      },
      "source": [
        "The parameters of the above method are:\n",
        "- ``f``: the loss function we want to minimize\n",
        "- ``grad``: the gradient of the loss function\n",
        "- ``x0``: initial solution to start from\n",
        "- ``iterations``: maximum number of iterations to perform\n",
        "- ``error_point``: used in the condition to stop iterating, when the norm between two consecutive solutions is below this threshold\n",
        "- ``error_grad``: similar to the previous, but for the gradient\n",
        "- ``hstep``: the fixed step size to use\n",
        "- ``use_bfgs``: flag to use the BFGS correction"
      ]
    },
    {
      "cell_type": "markdown",
      "metadata": {
        "id": "eA_VKwbqRTVW"
      },
      "source": [
        "7) Run the optimization with and without BFGS:"
      ]
    },
    {
      "cell_type": "code",
      "metadata": {
        "id": "BmF3aX61RTVX",
        "colab": {
          "base_uri": "https://localhost:8080/"
        },
        "outputId": "517145e3-e472-4a6f-88e4-42611ed12757"
      },
      "source": [
        "hstep = 0.1  # we set a proper fixed step size\n",
        "\n",
        "res_without_bfgs = quasi_newton(ll.log_fun, ll.log_der, omega, iterations, error_point, error_grad, hstep, False)\n",
        "\n",
        "res_with_bfgs = quasi_newton(ll.log_fun, ll.log_der, omega, iterations, error_point, error_grad, hstep, True)"
      ],
      "execution_count": null,
      "outputs": [
        {
          "output_type": "stream",
          "name": "stderr",
          "text": [
            "<ipython-input-15-17ffe4950bc9>:25: DeprecationWarning: Conversion of an array with ndim > 0 to a scalar is deprecated, and will error in future. Ensure you extract a single element from your array before performing this operation. (Deprecated NumPy 1.25.)\n",
            "  f_list[i] = f_x\n"
          ]
        }
      ]
    },
    {
      "cell_type": "markdown",
      "metadata": {
        "id": "mPJ7PQ1VRTVY"
      },
      "source": [
        "8) You can print some metrics. For example:"
      ]
    },
    {
      "cell_type": "code",
      "metadata": {
        "id": "ySYOQpQRRTVY",
        "colab": {
          "base_uri": "https://localhost:8080/"
        },
        "outputId": "bda2b39a-e47e-4177-c497-234e36ec2df0"
      },
      "source": [
        "for use_bfgs in (False, True):\n",
        "    print(f'*** Using BFGS: {use_bfgs}')\n",
        "    result = res_with_bfgs if use_bfgs else res_without_bfgs\n",
        "    iterations = result['iterations']\n",
        "    print(f\"Number iterations: {iterations}\")\n",
        "    print(f\"Start value and end value of function: {result['f_list'][0]}, {result['f_list'][-1]}\")\n",
        "    print(f\"Training score. Initial: {ll.score_train(result['x_list'][:, 0])}. Final: {ll.score_train(result['x_list'][:, -1])}\")\n",
        "    print(f\"Testing score. Initial: {ll.score_test(result['x_list'][:, 0])}. Final: {ll.score_test(result['x_list'][:, -1])}\")\n",
        "    print()"
      ],
      "execution_count": null,
      "outputs": [
        {
          "output_type": "stream",
          "name": "stdout",
          "text": [
            "*** Using BFGS: False\n",
            "Number iterations: 365\n",
            "Start value and end value of function: 2.507930962350946, 0.5401911236757083\n",
            "Training score. Initial: 0.63875. Final: 0.73125\n",
            "Testing score. Initial: 0.65. Final: 0.725\n",
            "\n",
            "*** Using BFGS: True\n",
            "Number iterations: 365\n",
            "Start value and end value of function: 2.507930962350946, 0.46815914931555414\n",
            "Training score. Initial: 0.63875. Final: 0.785\n",
            "Testing score. Initial: 0.65. Final: 0.735\n",
            "\n"
          ]
        }
      ]
    },
    {
      "cell_type": "markdown",
      "metadata": {
        "id": "_T4R47RYRTVY"
      },
      "source": [
        "You should see that the method using the BFGS correction needs less iterations to reach an acceptable solution."
      ]
    },
    {
      "cell_type": "markdown",
      "metadata": {
        "id": "cMb74NW8RTVZ"
      },
      "source": [
        "As expected, the algorithm with BFGS converges much faster than the one without BFGS. The number of iterations is significantly smaller when using BFGS.\n"
      ]
    },
    {
      "cell_type": "markdown",
      "metadata": {
        "id": "jXb5b2CPRTVZ"
      },
      "source": [
        "9) Finally, plot the errors at each iteration. Define the following function and call it to create the two plots (corresponding to ``error_point_list`` and ``error_grad_list``)."
      ]
    },
    {
      "cell_type": "code",
      "metadata": {
        "id": "-hUaa4WkRTVa"
      },
      "source": [
        "def plot_error(res_with_bfgs, res_without_bfgs, error, labels):\n",
        "    iterations = res_without_bfgs['iterations']\n",
        "    iterations_bfgs = res_with_bfgs['iterations']\n",
        "\n",
        "    plt.figure(figsize=(5,3))\n",
        "    plt.plot(res_with_bfgs[error], label=labels['with'])\n",
        "    plt.plot(res_without_bfgs[error], label=labels['without'])\n",
        "    plt.axvline(x=iterations, linestyle=':')\n",
        "    plt.axvline(x=iterations_bfgs, linestyle='--')\n",
        "    plt.xlabel('Iteration')\n",
        "    plt.ylabel('Error')\n",
        "    plt.legend()\n",
        "    plt.grid()\n",
        "    plt.show()\n",
        "    #plt.savefig(error + '.png')"
      ],
      "execution_count": null,
      "outputs": []
    },
    {
      "cell_type": "code",
      "source": [
        "plot_error(res_with_bfgs, res_without_bfgs, 'error_point_list', {'with': 'Error (with BFGS)', 'without': 'Error (without BFGS)'})"
      ],
      "metadata": {
        "colab": {
          "base_uri": "https://localhost:8080/",
          "height": 311
        },
        "id": "lVKIRKI_01Ct",
        "outputId": "ac1c71ae-f619-4050-ea1a-fce93eea98e2"
      },
      "execution_count": null,
      "outputs": [
        {
          "output_type": "display_data",
          "data": {
            "text/plain": [
              "<Figure size 500x300 with 1 Axes>"
            ],
            "image/png": "[encoded data removed]"
          },
          "metadata": {}
        }
      ]
    },
    {
      "cell_type": "code",
      "source": [
        "plot_error(res_with_bfgs, res_without_bfgs, 'error_grad_list', {'with': 'Error gradient (with BFGS)', 'without': 'Error gradient (without BFGS)'})"
      ],
      "metadata": {
        "colab": {
          "base_uri": "https://localhost:8080/",
          "height": 311
        },
        "id": "eUdGluv805BN",
        "outputId": "bce84efc-66b7-409a-ff37-dd3546373e0e"
      },
      "execution_count": null,
      "outputs": [
        {
          "output_type": "display_data",
          "data": {
            "text/plain": [
              "<Figure size 500x300 with 1 Axes>"
            ],
            "image/png": "[encoded data removed]"
          },
          "metadata": {}
        }
      ]
    },
    {
      "cell_type": "markdown",
      "metadata": {
        "id": "myQ6cIrSRTVa"
      },
      "source": [
        "You should observe plots similar to the ones below, where the number of iterations is significantly smaller:\n",
        "\n",
        "![error.png](https://mcolom.perso.math.cnrs.fr/data/tps/optimisation/images/tp2/error.png)\n",
        "\n",
        "The error between two consecutive solutions and gradient error (both computed by the L2 norm), with BFGS and without (standard gradient descent). The vertical lines correspond to the number of iterations performed up to convergence (dashed line for BFGS, and dotted line otherwise).\n"
      ]
    },
    {
      "cell_type": "markdown",
      "metadata": {
        "id": "usfKASbVRTVb"
      },
      "source": [
        "10) Which are in your opinion the main advantages and disadvantages of using BFGS?"
      ]
    },
    {
      "cell_type": "markdown",
      "metadata": {
        "id": "HfpsDIdURTVb"
      },
      "source": [
        "# Advantages:\n",
        "- The matrix $H$ is automatically positive definite.\n",
        "- The computation of the descent direction is simpler.\n",
        "- Fast convergence.\n",
        "- We do not explicitly calculate second derivatives.\n",
        "\n",
        "# Disadvantages:\n",
        "- No quadratic convergence as in Newton's method.\n"
      ]
    },
    {
      "cell_type": "markdown",
      "metadata": {
        "id": "87xXlYJmRTVb"
      },
      "source": [
        "# Constrained optimization (10pt)\n",
        "\n",
        "## Functions\n",
        "\n",
        "### Rosenbrock's banana\n",
        "\n",
        "We start from the functions we used in the TP 1. Consider again the Rosenbrock's banana with $f: \\mathbb{R}^2 \\rightarrow \\mathbb{R}: f(x_1,x_2) = (x_1-1)^2 + 100\\, (x_1^2-x_2)^2$. Recall that $f \\in \\mathcal{C}^1(\\mathbb{R}^2, \\mathbb{R})$ is positive with a unique minimum at $x^* = (1,1)$, where $f(x^*) = 0$. The Python code for the function and its gradient follows.\n"
      ]
    },
    {
      "cell_type": "code",
      "metadata": {
        "id": "8Cl3zpIsRTVb"
      },
      "source": [
        "## Rosenbrock function and its gradient\n",
        "\n",
        "def rosenbrock(x):\n",
        "    y = np.asarray(x)\n",
        "    return (y[0] - 1)**2 + 100 * (y[1] - y[0]**2)**2\n",
        "\n",
        "def rosenbrock_grad(x):\n",
        "    y = np.asarray(x)\n",
        "    grad = np.zeros_like(y)\n",
        "    grad[0] = 400 * y[0] * (y[0]**2 - y[1]) + 2 * (y[0] - 1)\n",
        "    grad[1] = 200 * (y[1] - y[0]**2)\n",
        "    return grad"
      ],
      "execution_count": null,
      "outputs": []
    },
    {
      "cell_type": "markdown",
      "metadata": {
        "id": "CatU0zQuRTVc"
      },
      "source": [
        "### 2D Quadratic function\n",
        "\n",
        "Recall also the quadratic function $f: \\mathbb{R}^2 \\rightarrow \\mathbb{R}: f(x) = x^T A x$, with $A$ a diagonal matrix such that $A_{1,1} = m^2$, $A_{2,2} = M^2$, $(M,m) \\in {\\mathbb{R}_+^*}^2$, and all the other coefficients of the diagonal fixed to $1$. $f$ is strictly convex coercive and has a unique minimum at $0$. The Python code for this function and its gradient follows."
      ]
    },
    {
      "cell_type": "code",
      "metadata": {
        "id": "PxJccRxIRTVc"
      },
      "source": [
        "def mk_quad(m, M, ndim=2):\n",
        "  ## Quadratic function and its gradient\n",
        "    def quad(x):\n",
        "        y = np.copy(np.asarray(x))\n",
        "        assert ndim == np.max(y.shape), \"quad: wrong input dimension\"\n",
        "        scal = np.ones(y.shape)\n",
        "        scal[0] = m\n",
        "        scal[1] = M\n",
        "        y *= scal\n",
        "        return np.sum(y**2, 0)\n",
        "\n",
        "    def quad_grad(x):\n",
        "        y = np.asarray(x)\n",
        "        assert ndim == np.max(y.shape), \"quad_grad: wrong input dimension\"\n",
        "        scal = np.ones(y.shape)\n",
        "        scal[0] = m ** 2\n",
        "        scal[1] = M ** 2\n",
        "        return 2 * scal * y\n",
        "\n",
        "    return quad, quad_grad"
      ],
      "execution_count": null,
      "outputs": []
    },
    {
      "cell_type": "markdown",
      "metadata": {
        "id": "vTkbcIJyRTVd"
      },
      "source": [
        "## Projected gradient descent\n",
        "\n",
        "![pgd_s.png](https://mcolom.perso.math.cnrs.fr/data/tps/optimisation/images/tp2/pgd_s.png)\n",
        "\n",
        "Unconstrained optimization is straightforward to deploy. But, what happens when\n",
        "there are constraints? The main idea behind projected gradient descent (PGD) is\n",
        "to make sure that the point reached at each optimization step is _feasible_\n",
        "or _valid_, i.e. satisfies a given set of rules. Since this cannot be\n",
        "guaranteed by the standard Gradient Descent (GD) method, a solution to achieve\n",
        "it is by projecting an infeasible point reached at an optimization step back to\n",
        "the feasible set $\\mathcal{X}$. A representation with an elliptic feasible set\n",
        "is shown on the above. Note that, depending on the complexity of the problem, it\n",
        "may be only possible to approximate the best projection point (shown with dotted\n",
        "line in the figure) rather than finding it exactly.\n",
        "\n",
        "### Feasible set in an Euclidean ball\n",
        "\n",
        "Suppose that the feasible set $\\mathcal{X}$ of our interest can be identified inside a multidimensional Euclidean ball. Assuming a center $c \\in \\mathbb{R}^n$ and a radius $r \\in \\mathbb{R}$, such a ball is defined as:\n",
        "\\begin{equation}\\label{eq:ball}\n",
        "f_{c,r}: \\mathbb{R}^n \\rightarrow \\mathbb{R}: f_{c,r}(x) = \\| x - c \\|^2 - r^2.\n",
        "\\end{equation}\n",
        "Note that $f$ is positive for all points farther than $r$ from the center $c$, thus we can write directly $\\mathcal{X} = \\{\\forall x\\in\\mathbb{R}^n: f_{c,r}(x,c) \\leq 0\\}$.\n",
        "\n",
        "The most complicated part of this approach is to compute the _projection step_. In the discussed case: for any given point $x\\in \\mathbb{R}^n$, the projection operator $\\text{proj}_\\mathcal{X}(x)$ can be defined as:\n",
        "\\begin{equation}\n",
        "\\text{proj}_\\mathcal{X}(x) =                    \n",
        "\\left\\{\n",
        "\\begin{array}{ll}\n",
        "      x, & f_{c,r}(x) \\leq 0, \\\\\n",
        "      \\mathrm{argmin}_{x'\\in\\mathcal{X}} ||x-x'||, & f_{c,r}(x) > 0.\n",
        "\\end{array}\n",
        "\\right.\n",
        "\\end{equation}\n",
        "More specifically, the second branch computes the properly projected $x'$ as:\n",
        "\\begin{equation}\n",
        "x' = c + r \\frac{x - c}{||x - c||}.\n",
        "\\end{equation}\n",
        "The python code that follows describes the main constraint elements needed by the PDG. Implement the missing (``<TODO>``) parts."
      ]
    },
    {
      "cell_type": "code",
      "metadata": {
        "id": "dBg6GEaWRTVd"
      },
      "source": [
        "# Feasible set in an Euclidean ball\n",
        "\n",
        "def ball_constraint(center, radius):\n",
        "    def ball(x):         # the ball function\n",
        "        return(np.linalg.norm(x-center)**2-radius**2)\n",
        "\n",
        "    def ball_grad(x):    # the ball gradient\n",
        "        return(2*(x-center))\n",
        "\n",
        "    def ball_proj(x):    # the projection on the ball\n",
        "        if ball(x)<=0:\n",
        "          return(x)\n",
        "        else:\n",
        "          return(center+radius*(x-center)/np.linalg.norm(x-center))\n",
        "\n",
        "    return ball, ball_grad, ball_proj"
      ],
      "execution_count": null,
      "outputs": []
    },
    {
      "cell_type": "markdown",
      "metadata": {
        "id": "cvSlYrkRRTVd"
      },
      "source": [
        "### Implementation of the PGD\n",
        "\n",
        "Now, it's time to implement this iterative method in the following function. It has the same inputs as in the previous exercise), with the additional ``constraint_proj`` which is the $\\text{proj}_\\mathcal{X}$ projection operator. Implement also a termination rule combining the distance $||x_{k-1} - x_k||$ and the norm of the gradient $||\\nabla f(x_{k})||$ (using respectively the threshold pars: ``error_point``, ``error_grad``)."
      ]
    },
    {
      "cell_type": "code",
      "metadata": {
        "id": "T3augQf5RTVe"
      },
      "source": [
        "# Projected gradient descend method\n",
        "\n",
        "def proj_grad(f, grad, x0, iterations, error_point, error_grad, constraint_proj, hstep):\n",
        "    # Memory allocation\n",
        "    dim = np.max(np.shape(x0))               # dimensions of the space\n",
        "    x_list = np.zeros([dim, iterations])     # solution at each iteration\n",
        "    f_list = np.zeros(iterations)            # f. value at each solution point\n",
        "    error_point_list = np.zeros(iterations)  # error of solutions\n",
        "    error_grad_list = np.zeros(iterations)   # error of the gradient\n",
        "\n",
        "    # Initialization\n",
        "    x = x0\n",
        "    x_old = np.copy(x)\n",
        "    grad_x = grad(x)\n",
        "    d_x = -grad_x\n",
        "    f_x = f(x)\n",
        "\n",
        "    # Iterative optimization\n",
        "    for i in range(iterations):\n",
        "        y=x+hstep*d_x\n",
        "        x=constraint_proj(y)\n",
        "        grad_x = grad(x)\n",
        "        d_x = -grad_x\n",
        "        f_x = f(x)\n",
        "\n",
        "        # Log results\n",
        "        x_list[:, i] = np.reshape(x, -1)\n",
        "        f_list[i] = f_x\n",
        "        error_point_list[i] = np.linalg.norm(x - x_old)\n",
        "        error_grad_list[i] = np.linalg.norm(grad(x))\n",
        "\n",
        "        if error_point_list[i]<error_point or error_grad_list[i]<error_grad:\n",
        "          break\n",
        "        x_old = np.copy(x)\n",
        "    return {'x_list': x_list[:, 0:i], 'f_list': f_list[0:i], 'error_point_list': error_point_list[0:i], 'error_grad_list': error_grad_list[0:i]}"
      ],
      "execution_count": null,
      "outputs": []
    },
    {
      "cell_type": "markdown",
      "metadata": {
        "id": "vN7vrcjsRTVe"
      },
      "source": [
        "## Augmented Lagrangian-like methods\n",
        "\n",
        "This class of methods replaces a constrained optimization problem by a series of unconstrained problems. It also adds a penalty term to the Lagrangian objective (augmentation) based on a non-negative and continuous penalty function. For the case of minimization, the penalty term would get low values (up to zero) for a solution that respects the constraints (i.e. $x \\in \\mathcal{X})$, and would get higher values the more the solutions violate the constraints.\n",
        "\n",
        "Algorithmically, the basic idea is that we can start with an unconstrained problem defined by a mild penalty term, the solution of which can be the initial point for a successive unconstrained problem with stricter penalty term. Continuing this process, while also making more strict the penalty, leads to solutions that respect the constraints more and more, and the method finally converges. With proper simplifications, we describe below the penalty and the barrier methods that can be seen as simple cases following this strategy.\n",
        "\n",
        "### Penalty method\n",
        "\n",
        "We can write the penalty problem $P$ of round $i$ with a parameter $\\sigma_i > 0$ as:\n",
        "\\begin{equation}\\label{eq:main}\n",
        "P(\\sigma_i): \\min_x \\left\\lbrace f(x) + \\sigma_i \\, p(x) \\right\\rbrace,\n",
        "\\end{equation}\n",
        "where $\\sigma_i \\, p(x)$ is the _penalty term_, $p(x)$ is the _external penalty function_ and $\\sigma_i$ its _penalty coefficient_. For large $\\sigma_i$ the minimizer of the problem $P(\\sigma_i)$ will be in a region in which $p(x)$ is small and thus the constraints are respected. As explained, the method deploys successively: a series of (inner or sub) iterations are performed with a fixed $\\sigma$ and the solution is fed to the next round that will use an updated $\\sigma_{i+1}$. As $\\sigma \\rightarrow \\infty$, the solution of the penalty problem $P(\\sigma)$ will converge to a solution of the original constrained problem. An illustration of this process is shown in the figure below.\n",
        "\n",
        "![penalty_s.png](https://mcolom.perso.math.cnrs.fr/data/tps/optimisation/images/tp2/penalty_s.png)\n",
        "\n",
        "In practice, for $\\mathcal{X}$ identified by the $f_{c,r}$ of a ball, we can start with $\\sigma_0 = 1$ and consider the update $\\sigma_i = 2\\,\\sigma_{i-1}$. Then, in the general penalty function\n",
        "\\begin{equation} \\label{eq:p_x}\n",
        "p(x) = -(\\nabla f(x) + \\sigma_i \\,g(x)),\n",
        "\\end{equation}\n",
        "one needs to use the specific $g$ for the penalty method. For instance,\n",
        "\\begin{equation}\n",
        "g_{\\text{penalty}}(x) =                         \n",
        "\\left\\{\n",
        "\\begin{array}{ll}\n",
        "      2 \\, f_{c,r}(x) \\, \\nabla f_{c,r}(x), & f_{c,r}(x) > 0, \\\\\n",
        "      0, & f_{c,r}(x) \\leq 0.\n",
        "\\end{array}\n",
        "\\right.\n",
        "\\end{equation}\n",
        "At each inner iteration we get\n",
        "- $x = x + h \\,\\Delta x$      \n",
        "- $\\Delta x = p(x)$.\n",
        "\n",
        "### Barrier (or interior-point) method\n",
        "\n",
        "For this approach, we can follow exactly the same framework defined above. The steps for updating $x$ and $\\Delta x$ in each inner iteration are also the same. The difference to the penalty method, though, is that (due to the different $g$) $\\sigma$ decreases throughout rounds: we can start with $\\sigma_0 = 100$ and use the update $\\sigma_i = \\frac{1}{2}\\,\\sigma_{i-1}$. Finally, the $g$ that should be used is the following:\n",
        "\\begin{equation}\n",
        "g_{\\text{barrier}}(x) = -\\frac{\\nabla f_{c,r}(x)}{f_{c,r}(x)}.\n",
        "\\end{equation}\n",
        "\n",
        "### Implementation\n",
        "\n",
        "First, let's extend the ``ball_constraint`` section we saw earlier by including the two functions, $g_{\\text{penalty}}$ and $g_{\\text{update}}$.\n"
      ]
    },
    {
      "cell_type": "code",
      "metadata": {
        "id": "Pqd4jN4YRTVe"
      },
      "source": [
        "# Feasible set in an Euclidean ball\n",
        "\n",
        "def ball_constraint(center, radius):\n",
        "    #... <ball, ball_grad, ball_proj, as before> ...\n",
        "    def ball(x):         # the ball function\n",
        "        return(np.linalg.norm(x-center)**2-radius**2)\n",
        "\n",
        "    def ball_grad(x):    # the ball gradient\n",
        "        return(x-center)\n",
        "\n",
        "    def ball_proj(x):    # the projection on the ball\n",
        "        if ball(x)<=0:\n",
        "          return(x)\n",
        "        else:\n",
        "          return(center+radius*(x-center)/np.linalg.norm(x-center))\n",
        "\n",
        "    def g_penalty(x):\n",
        "        ball_x=ball(x)\n",
        "        if ball_x>0:\n",
        "          ball_grad_x=ball_grad(x)\n",
        "          return(2*ball_x*ball_grad_x)\n",
        "        else:\n",
        "          return(0)\n",
        "\n",
        "    def g_barrier(x):\n",
        "        ball_x=ball(x)\n",
        "        ball_grad_x=ball_grad(x)\n",
        "        return(-ball_grad_x/ball_x)\n",
        "\n",
        "    return ball, ball_grad, ball_proj, g_penalty, g_barrier"
      ],
      "execution_count": null,
      "outputs": []
    },
    {
      "cell_type": "markdown",
      "metadata": {
        "id": "Mz_GpEyBRTVe"
      },
      "source": [
        "Then, add the two following functions that apply the respective updates to $\\sigma_{i+1}$. These will be called in each round."
      ]
    },
    {
      "cell_type": "code",
      "metadata": {
        "id": "AJvEw5tURTVe"
      },
      "source": [
        "# Special functions for the Penalty and Barrier methods\n",
        "\n",
        "def sigma_update_penalty(sigma):\n",
        "    return(2*sigma)\n",
        "\n",
        "def sigma_update_barrier(sigma):\n",
        "    return(sigma/2)"
      ],
      "execution_count": null,
      "outputs": []
    },
    {
      "cell_type": "markdown",
      "metadata": {
        "id": "dSazz-uwRTVf"
      },
      "source": [
        "Now, fill the (``<TODO>``) parts in the following function; it is a general optimizer that can apply any of the two augmented Lagrangian-like methods we have seen (i.e. the penalty of the barrier methods). Note that there is a nested loop: the outer one represents one round that first sets/updates the $\\sigma_i$ and then the inner (sub)iterations take over to perform the unconstrained optimization. The solution of one round will be the initialization point of the the next one."
      ]
    },
    {
      "cell_type": "code",
      "metadata": {
        "id": "w1I1w5qZRTVf"
      },
      "source": [
        "# A general optimizer: it can implement the penalty and barrier methods\n",
        "\n",
        "def general_optimizer(f, grad, x0, iterations, iterations_sub, error_point, error_grad, sigma0, sigma_update, grad_fun, hstep):\n",
        "    # Memory allocation\n",
        "    dim = np.max(np.shape(x0))\n",
        "    x_list = np.zeros([dim, iterations])\n",
        "    f_list = np.zeros(iterations)\n",
        "    error_point_list = np.zeros(iterations)\n",
        "    error_grad_list = np.zeros(iterations)\n",
        "\n",
        "    # Initialization\n",
        "    x = x0\n",
        "    x_old = np.copy(x)\n",
        "    grad_x = grad(x)\n",
        "    g_x = grad_fun(x)\n",
        "    d_x=-grad_x\n",
        "    f_x = f(x)\n",
        "\n",
        "    # Iterative optimization\n",
        "    sigma = sigma0\n",
        "    for i in range(iterations):\n",
        "        sigma = sigma_update(sigma)          # update $\\sigma_i$\n",
        "        # solve iteratively the unconstrained problem $P(\\sigma_i)$\n",
        "        for k in range(iterations_sub):\n",
        "            x=x+hstep*d_x\n",
        "            grad_x = grad(x)\n",
        "            g_x = grad_fun(x)\n",
        "            d_x=-(grad_x+sigma*g_x)\n",
        "            f_x = f(x)\n",
        "\n",
        "            # Log results\n",
        "            x_list[:, i] = np.reshape(x, -1)\n",
        "            f_list[i] = f_x\n",
        "            error_point_list[i] = np.linalg.norm(x - x_old)\n",
        "            error_grad_list[i] = np.linalg.norm(grad(x))\n",
        "\n",
        "            if error_point_list[i]<error_point or error_grad_list[i]<error_grad:    # termination condition\n",
        "                break\n",
        "            x_old = np.copy(x)\n",
        "\n",
        "    return {'x_list': x_list[:, 0:i], 'f_list': f_list[0:i], 'error_point_list': error_point_list[0:i], 'error_grad_list': error_grad_list[0:i]}"
      ],
      "execution_count": null,
      "outputs": []
    },
    {
      "cell_type": "markdown",
      "metadata": {
        "id": "qWjIG1BzRTVf"
      },
      "source": [
        "The following functions allow you to report formatted optimization results."
      ]
    },
    {
      "cell_type": "code",
      "metadata": {
        "id": "VueOFxQERTVf"
      },
      "source": [
        "# Function to output formatted results\n",
        "\n",
        "def show_results(method_name, results):\n",
        "    print(f\"\\n*** {method_name}\")\n",
        "    print(f\"number iterations: {len(result['x_list'][0, :])+1}\")\n",
        "    print(f\"end value (function): {result['f_list'][-1]}\")\n",
        "    print(f\"end position: {result['x_list'][:, -1]}\")"
      ],
      "execution_count": null,
      "outputs": []
    },
    {
      "cell_type": "markdown",
      "metadata": {
        "id": "F3432r1yRTVg"
      },
      "source": [
        "## Constrained optimization in action\n",
        "\n",
        "### Sanity check with constraints inside an Euclidean ball\n",
        "\n",
        "At this\n",
        "point you need to do a 'sanity check' to check if the coded methods are\n",
        "correct. The setup is to optimize an easy quadratic function. After filling the\n",
        "little missing (``<TODO>``) parts, when you run the following code, you\n",
        "can see all methods converging to the value 0.25. What do you observe in the\n",
        "results you obtain?"
      ]
    },
    {
      "cell_type": "code",
      "metadata": {
        "id": "2PHyiym9RTVg",
        "colab": {
          "base_uri": "https://localhost:8080/"
        },
        "outputId": "4c9a921f-30fa-4e52-8747-49f0bde80f90"
      },
      "source": [
        "# Sanity check for constraints inside a ball\n",
        "\n",
        "# Setup: optimize a quadratic function\n",
        "f, grad = mk_quad(1, 5)\n",
        "x0 = np.array([1, .25])\n",
        "error_point = 10**-10\n",
        "error_grad = 10**-10\n",
        "\n",
        "constraint_fun, _, constraint_proj, g_penalty, g_barrier = ball_constraint(np.array([1, 0]), 0.5)\n",
        "\n",
        "iterations = 1000\n",
        "hstep = 10**(-2)\n",
        "\n",
        "result = proj_grad(f, grad, x0, iterations, error_point, error_grad, constraint_proj, hstep)\n",
        "show_results('Projected gradient method', result)\n",
        "\n",
        "#--\n",
        "iterations_sub = iterations\n",
        "iterations = 20\n",
        "hstep = 10**(-4)\n",
        "\n",
        "sigma0 = 1\n",
        "result = general_optimizer(f, grad, x0, iterations, iterations_sub, error_point, error_grad, sigma0, sigma_update_penalty, g_penalty, hstep)\n",
        "show_results('Penalty method', result)\n",
        "\n",
        "sigma0 = 100\n",
        "result = general_optimizer(f, grad, x0, iterations, iterations_sub, error_point, error_grad, sigma0, sigma_update_barrier, g_barrier, hstep)\n",
        "show_results('Barrier method', result)"
      ],
      "execution_count": null,
      "outputs": [
        {
          "output_type": "stream",
          "name": "stdout",
          "text": [
            "\n",
            "*** Projected gradient method\n",
            "number iterations: 36\n",
            "end value (function): 0.25\n",
            "end position: [5.00000000e-01 7.17655686e-12]\n",
            "\n",
            "*** Penalty method\n",
            "number iterations: 20\n",
            "end value (function): 0.2517759804157127\n",
            "end position: [5.01772837e-01 1.81175161e-30]\n",
            "\n",
            "*** Barrier method\n",
            "number iterations: 20\n",
            "end value (function): 0.2500953492533701\n",
            "end position: [5.00095340e-01 2.77829865e-46]\n"
          ]
        }
      ]
    },
    {
      "cell_type": "markdown",
      "metadata": {
        "id": "jsQQZg8mRTVg"
      },
      "source": [
        "We observe that the three methods give identical results, but the \"Penalty\" and \"Barrier\" methods are slightly faster (20 iterations compared to 36).\n"
      ]
    },
    {
      "cell_type": "markdown",
      "metadata": {
        "id": "weDXwbDORTVg"
      },
      "source": [
        "Try to repeat all the above for the Rosenbrock's banana function, and let the methods start at $x_0 = [1.1, 2.1]$. What do you observe?"
      ]
    },
    {
      "cell_type": "code",
      "metadata": {
        "id": "ZWSi_0_sUtg3",
        "colab": {
          "base_uri": "https://localhost:8080/"
        },
        "outputId": "0cad0e29-d763-4744-cf44-97a27905ab9a"
      },
      "source": [
        "# Sanity check for constraints inside a ball\n",
        "\n",
        "# Setup: optimize a quadratic function\n",
        "f, grad = rosenbrock,rosenbrock_grad\n",
        "x0 = np.array([1.1, 2.1])\n",
        "error_point = 10**-10\n",
        "error_grad = 10**-10\n",
        "\n",
        "constraint_fun, _, constraint_proj, g_penalty, g_barrier = ball_constraint(np.array([1, 0]), 0.5)\n",
        "\n",
        "iterations = 1000\n",
        "hstep = 10**(-2)\n",
        "\n",
        "result = proj_grad(f, grad, x0, iterations, error_point, error_grad, constraint_proj, hstep)\n",
        "show_results('Projected gradient method', result)\n",
        "\n",
        "#--\n",
        "iterations_sub = iterations\n",
        "iterations = 20\n",
        "hstep = 10**(-4)\n",
        "\n",
        "sigma0 = 1\n",
        "result = general_optimizer(f, grad, x0, iterations, iterations_sub, error_point, error_grad, sigma0, sigma_update_penalty, g_penalty, hstep)\n",
        "show_results('Penalty method', result)\n",
        "\n",
        "sigma0 = 100\n",
        "result = general_optimizer(f, grad, x0, iterations, iterations_sub, error_point, error_grad, sigma0, sigma_update_barrier, g_barrier, hstep)\n",
        "show_results('Barrier method', result)"
      ],
      "execution_count": null,
      "outputs": [
        {
          "output_type": "stream",
          "name": "stdout",
          "text": [
            "\n",
            "*** Projected gradient method\n",
            "number iterations: 50\n",
            "end value (function): 0.497665160810274\n",
            "end position: [0.6192988  0.32413978]\n",
            "\n",
            "*** Penalty method\n",
            "number iterations: 20\n",
            "end value (function): 1.7506369840292848\n",
            "end position: [0.64419426 0.28754845]\n",
            "\n",
            "*** Barrier method\n",
            "number iterations: 20\n",
            "end value (function): 0.9594434018706485\n",
            "end position: [1.97923575 3.91969955]\n"
          ]
        }
      ]
    },
    {
      "cell_type": "markdown",
      "metadata": {
        "id": "CqiCUvqVRTVg"
      },
      "source": [
        "The three methods yield completely different results: it is quite curious because the final points are fairly close for the projected gradient and the \"penalty\" method, but they return significantly different function values. As for the barrier method, it results in a completely different outcome. Probably, the banana function \"disrupts\" these algorithms.\n"
      ]
    },
    {
      "cell_type": "markdown",
      "metadata": {
        "id": "YM_GTqNVRTVh"
      },
      "source": [
        "### Solving a problem with a complex feasibility set\n",
        "\n",
        "Suppose the feasibility set is the non-empty intersection between two balls of radius 0.5 and centers [1, 0] and [1, 0.5], respectively. Fill the (``<TODO>``) parts in the following code and report your observations. Note that in the reported results it is shown the evaluation of the two constraint functions at the final point, that is ball$_1(x^*)$ and ball$_2(x^*)$ (see the definition of the ball $f_{c,r}$ above)."
      ]
    },
    {
      "cell_type": "code",
      "metadata": {
        "id": "PdxkTjLCRTVh",
        "colab": {
          "base_uri": "https://localhost:8080/"
        },
        "outputId": "abc305f7-5628-4a60-cecc-35249b9494b9"
      },
      "source": [
        "# A more complex example: feasible set at the intersection of two balls\n",
        "\n",
        "# Get a different constraint set for each ball\n",
        "constraint_fun1, _, _, g_penalty1, g_barrier1 = ball_constraint(np.array([1, 0]), 0.5)\n",
        "constraint_fun2, _, _, g_penalty2, g_barrier2 = ball_constraint(np.array([1, 0.5]), 0.5)\n",
        "\n",
        "# Redefine the external penalty functions\n",
        "def g_penalty(x):\n",
        "    return g_penalty1(x) + g_penalty2(x)\n",
        "\n",
        "def g_barrier(x):\n",
        "    return g_barrier1(x) + g_barrier2(x)\n",
        "\n",
        "iterations = 20\n",
        "iterations_sub = 1000\n",
        "hstep = 10**(-5)\n",
        "\n",
        "\n",
        "# Setup: optimize a quadratic function\n",
        "f, grad = mk_quad(1, 5)\n",
        "x0 = np.array([1, .25])\n",
        "error_point = 10**-10\n",
        "error_grad = 10**-10\n",
        "\n",
        "\n",
        "sigma0 = 1\n",
        "result = general_optimizer(f, grad, x0, iterations, iterations_sub, error_point, error_grad, sigma0, sigma_update_penalty, g_penalty, hstep)\n",
        "show_results('Penalty method', result)\n",
        "print(f\"constraint 1; {constraint_fun1(result['x_list'][:, -1])}\")\n",
        "print(f\"constraint 2; {constraint_fun2(result['x_list'][:, -1])}\")\n",
        "\n",
        "sigma0 = 100\n",
        "result = general_optimizer(f, grad, x0, iterations, iterations_sub, error_point, error_grad, sigma0, sigma_update_barrier, g_barrier, hstep)\n",
        "show_results('Barrier method', result)\n",
        "print(f\"constraint 1; {constraint_fun1(result['x_list'][:, -1])}\")\n",
        "print(f\"constraint 2; {constraint_fun2(result['x_list'][:, -1])}\")"
      ],
      "execution_count": null,
      "outputs": [
        {
          "output_type": "stream",
          "name": "stdout",
          "text": [
            "\n",
            "*** Penalty method\n",
            "number iterations: 20\n",
            "end value (function): 0.6736308803194633\n",
            "end position: [0.78073582 0.05062903]\n",
            "constraint 1; -0.19935992044247233\n",
            "constraint 2; 1.1051769868208883e-05\n",
            "\n",
            "*** Barrier method\n",
            "number iterations: 20\n",
            "end value (function): 0.6838608217223012\n",
            "end position: [0.80031095 0.04164767]\n",
            "constraint 1; -0.2083897541981221\n",
            "constraint 2; -3.742312589793961e-05\n"
          ]
        }
      ]
    },
    {
      "cell_type": "markdown",
      "metadata": {
        "id": "48gA1AUvRTVh"
      },
      "source": [
        "We notice that the results are almost identical, achieved in a reasonable number of iterations, and the final point is indeed within the non-empty intersection of the two balls: this is very satisfying.\n"
      ]
    }
  ]
}