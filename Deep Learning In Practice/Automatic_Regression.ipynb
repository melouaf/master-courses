{
  "cells": [
    {
      "cell_type": "markdown",
      "metadata": {
        "id": "b1cb2awB45uZ"
      },
      "source": [
        "## Regression Problem: House Prices Prediction\n",
        "In this exercise, we will solve a regression problem with a neural network.\n",
        "\n",
        "**Objective:** The goal is to predict the house selling prices .\n",
        "\n",
        "**Dataset:**  A csv file with 1460 samples is provided (on the course webpage). Each example contains four input features. We will use 1000 examples as training set, 200 as validation set and the rest as test set.   \n",
        "   * **Feature names**: OverallQual, YearBuilt, TotalBsmtSF, GrLivArea\n",
        "   * **Target**: SalePrice\n",
        "\n",
        "**NB:** new required libraries: `pandas`, `seaborn`."
      ]
    },
    {
      "cell_type": "code",
      "execution_count": 1,
      "metadata": {
        "id": "05SFCAu045ub"
      },
      "outputs": [],
      "source": [
        "import pandas as pd\n",
        "import numpy as np\n",
        "import matplotlib.pyplot as plt\n",
        "\n",
        "import torch\n",
        "import torch.nn as nn\n",
        "\n",
        "import torch.nn.functional as F\n",
        "from torch.utils.data import DataLoader, TensorDataset\n",
        "import seaborn as sns\n",
        "\n",
        "%matplotlib inline"
      ]
    },
    {
      "cell_type": "code",
      "source": [
        "!wget https://www.lri.fr/~gcharpia/deeppractice/2022/TP1/house_prices.csv"
      ],
      "metadata": {
        "colab": {
          "base_uri": "https://localhost:8080/"
        },
        "id": "zSrAkr1O46cG",
        "outputId": "1de2fa50-3b13-4934-f706-c37fd0b94ae0"
      },
      "execution_count": 2,
      "outputs": [
        {
          "output_type": "stream",
          "name": "stdout",
          "text": [
            "--2024-08-20 21:28:53--  https://www.lri.fr/~gcharpia/deeppractice/2022/TP1/house_prices.csv\n",
            "Resolving www.lri.fr (www.lri.fr)... 129.175.15.11\n",
            "Connecting to www.lri.fr (www.lri.fr)|129.175.15.11|:443... connected.\n",
            "HTTP request sent, awaiting response... 200 OK\n",
            "Length: 33950 (33K) [text/csv]\n",
            "Saving to: ‘house_prices.csv’\n",
            "\n",
            "house_prices.csv    100%[===================>]  33.15K   136KB/s    in 0.2s    \n",
            "\n",
            "2024-08-20 21:28:55 (136 KB/s) - ‘house_prices.csv’ saved [33950/33950]\n",
            "\n"
          ]
        }
      ]
    },
    {
      "cell_type": "code",
      "execution_count": 3,
      "metadata": {
        "id": "m-XRnFVK45uc"
      },
      "outputs": [],
      "source": [
        "# Load data:\n",
        "df = pd.read_csv(\"house_prices.csv\")"
      ]
    },
    {
      "cell_type": "code",
      "execution_count": 4,
      "metadata": {
        "colab": {
          "base_uri": "https://localhost:8080/",
          "height": 143
        },
        "id": "vK6EW7Gz45ud",
        "outputId": "df962b29-11a1-4f52-fee1-af42c95116a3"
      },
      "outputs": [
        {
          "output_type": "execute_result",
          "data": {
            "text/plain": [
              "   OverallQual  YearBuilt  TotalBsmtSF  GrLivArea  SalePrice\n",
              "0            7       2003          856       1710     208500\n",
              "1            6       1976         1262       1262     181500\n",
              "2            7       2001          920       1786     223500"
            ],
            "text/html": [
              "\n",
              "  <div id=\"df-3befc55f-f86c-4d8c-a18a-8564cd8ee798\" class=\"colab-df-container\">\n",
              "    <div>\n",
              "<style scoped>\n",
              "    .dataframe tbody tr th:only-of-type {\n",
              "        vertical-align: middle;\n",
              "    }\n",
              "\n",
              "    .dataframe tbody tr th {\n",
              "        vertical-align: top;\n",
              "    }\n",
              "\n",
              "    .dataframe thead th {\n",
              "        text-align: right;\n",
              "    }\n",
              "</style>\n",
              "<table border=\"1\" class=\"dataframe\">\n",
              "  <thead>\n",
              "    <tr style=\"text-align: right;\">\n",
              "      <th></th>\n",
              "      <th>OverallQual</th>\n",
              "      <th>YearBuilt</th>\n",
              "      <th>TotalBsmtSF</th>\n",
              "      <th>GrLivArea</th>\n",
              "      <th>SalePrice</th>\n",
              "    </tr>\n",
              "  </thead>\n",
              "  <tbody>\n",
              "    <tr>\n",
              "      <th>0</th>\n",
              "      <td>7</td>\n",
              "      <td>2003</td>\n",
              "      <td>856</td>\n",
              "      <td>1710</td>\n",
              "      <td>208500</td>\n",
              "    </tr>\n",
              "    <tr>\n",
              "      <th>1</th>\n",
              "      <td>6</td>\n",
              "      <td>1976</td>\n",
              "      <td>1262</td>\n",
              "      <td>1262</td>\n",
              "      <td>181500</td>\n",
              "    </tr>\n",
              "    <tr>\n",
              "      <th>2</th>\n",
              "      <td>7</td>\n",
              "      <td>2001</td>\n",
              "      <td>920</td>\n",
              "      <td>1786</td>\n",
              "      <td>223500</td>\n",
              "    </tr>\n",
              "  </tbody>\n",
              "</table>\n",
              "</div>\n",
              "    <div class=\"colab-df-buttons\">\n",
              "\n",
              "  <div class=\"colab-df-container\">\n",
              "    <button class=\"colab-df-convert\" onclick=\"convertToInteractive('df-3befc55f-f86c-4d8c-a18a-8564cd8ee798')\"\n",
              "            title=\"Convert this dataframe to an interactive table.\"\n",
              "            style=\"display:none;\">\n",
              "\n",
              "  <svg xmlns=\"http://www.w3.org/2000/svg\" height=\"24px\" viewBox=\"0 -960 960 960\">\n",
              "    <path d=\"M120-120v-720h720v720H120Zm60-500h600v-160H180v160Zm220 220h160v-160H400v160Zm0 220h160v-160H400v160ZM180-400h160v-160H180v160Zm440 0h160v-160H620v160ZM180-180h160v-160H180v160Zm440 0h160v-160H620v160Z\"/>\n",
              "  </svg>\n",
              "    </button>\n",
              "\n",
              "  <style>\n",
              "    .colab-df-container {\n",
              "      display:flex;\n",
              "      gap: 12px;\n",
              "    }\n",
              "\n",
              "    .colab-df-convert {\n",
              "      background-color: #E8F0FE;\n",
              "      border: none;\n",
              "      border-radius: 50%;\n",
              "      cursor: pointer;\n",
              "      display: none;\n",
              "      fill: #1967D2;\n",
              "      height: 32px;\n",
              "      padding: 0 0 0 0;\n",
              "      width: 32px;\n",
              "    }\n",
              "\n",
              "    .colab-df-convert:hover {\n",
              "      background-color: #E2EBFA;\n",
              "      box-shadow: 0px 1px 2px rgba(60, 64, 67, 0.3), 0px 1px 3px 1px rgba(60, 64, 67, 0.15);\n",
              "      fill: #174EA6;\n",
              "    }\n",
              "\n",
              "    .colab-df-buttons div {\n",
              "      margin-bottom: 4px;\n",
              "    }\n",
              "\n",
              "    [theme=dark] .colab-df-convert {\n",
              "      background-color: #3B4455;\n",
              "      fill: #D2E3FC;\n",
              "    }\n",
              "\n",
              "    [theme=dark] .colab-df-convert:hover {\n",
              "      background-color: #434B5C;\n",
              "      box-shadow: 0px 1px 3px 1px rgba(0, 0, 0, 0.15);\n",
              "      filter: drop-shadow(0px 1px 2px rgba(0, 0, 0, 0.3));\n",
              "      fill: #FFFFFF;\n",
              "    }\n",
              "  </style>\n",
              "\n",
              "    <script>\n",
              "      const buttonEl =\n",
              "        document.querySelector('#df-3befc55f-f86c-4d8c-a18a-8564cd8ee798 button.colab-df-convert');\n",
              "      buttonEl.style.display =\n",
              "        google.colab.kernel.accessAllowed ? 'block' : 'none';\n",
              "\n",
              "      async function convertToInteractive(key) {\n",
              "        const element = document.querySelector('#df-3befc55f-f86c-4d8c-a18a-8564cd8ee798');\n",
              "        const dataTable =\n",
              "          await google.colab.kernel.invokeFunction('convertToInteractive',\n",
              "                                                    [key], {});\n",
              "        if (!dataTable) return;\n",
              "\n",
              "        const docLinkHtml = 'Like what you see? Visit the ' +\n",
              "          '<a target=\"_blank\" href=https://colab.research.google.com/notebooks/data_table.ipynb>data table notebook</a>'\n",
              "          + ' to learn more about interactive tables.';\n",
              "        element.innerHTML = '';\n",
              "        dataTable['output_type'] = 'display_data';\n",
              "        await google.colab.output.renderOutput(dataTable, element);\n",
              "        const docLink = document.createElement('div');\n",
              "        docLink.innerHTML = docLinkHtml;\n",
              "        element.appendChild(docLink);\n",
              "      }\n",
              "    </script>\n",
              "  </div>\n",
              "\n",
              "\n",
              "<div id=\"df-17dc5168-6354-4091-95f1-9625c17ac170\">\n",
              "  <button class=\"colab-df-quickchart\" onclick=\"quickchart('df-17dc5168-6354-4091-95f1-9625c17ac170')\"\n",
              "            title=\"Suggest charts\"\n",
              "            style=\"display:none;\">\n",
              "\n",
              "<svg xmlns=\"http://www.w3.org/2000/svg\" height=\"24px\"viewBox=\"0 0 24 24\"\n",
              "     width=\"24px\">\n",
              "    <g>\n",
              "        <path d=\"M19 3H5c-1.1 0-2 .9-2 2v14c0 1.1.9 2 2 2h14c1.1 0 2-.9 2-2V5c0-1.1-.9-2-2-2zM9 17H7v-7h2v7zm4 0h-2V7h2v10zm4 0h-2v-4h2v4z\"/>\n",
              "    </g>\n",
              "</svg>\n",
              "  </button>\n",
              "\n",
              "<style>\n",
              "  .colab-df-quickchart {\n",
              "      --bg-color: #E8F0FE;\n",
              "      --fill-color: #1967D2;\n",
              "      --hover-bg-color: #E2EBFA;\n",
              "      --hover-fill-color: #174EA6;\n",
              "      --disabled-fill-color: #AAA;\n",
              "      --disabled-bg-color: #DDD;\n",
              "  }\n",
              "\n",
              "  [theme=dark] .colab-df-quickchart {\n",
              "      --bg-color: #3B4455;\n",
              "      --fill-color: #D2E3FC;\n",
              "      --hover-bg-color: #434B5C;\n",
              "      --hover-fill-color: #FFFFFF;\n",
              "      --disabled-bg-color: #3B4455;\n",
              "      --disabled-fill-color: #666;\n",
              "  }\n",
              "\n",
              "  .colab-df-quickchart {\n",
              "    background-color: var(--bg-color);\n",
              "    border: none;\n",
              "    border-radius: 50%;\n",
              "    cursor: pointer;\n",
              "    display: none;\n",
              "    fill: var(--fill-color);\n",
              "    height: 32px;\n",
              "    padding: 0;\n",
              "    width: 32px;\n",
              "  }\n",
              "\n",
              "  .colab-df-quickchart:hover {\n",
              "    background-color: var(--hover-bg-color);\n",
              "    box-shadow: 0 1px 2px rgba(60, 64, 67, 0.3), 0 1px 3px 1px rgba(60, 64, 67, 0.15);\n",
              "    fill: var(--button-hover-fill-color);\n",
              "  }\n",
              "\n",
              "  .colab-df-quickchart-complete:disabled,\n",
              "  .colab-df-quickchart-complete:disabled:hover {\n",
              "    background-color: var(--disabled-bg-color);\n",
              "    fill: var(--disabled-fill-color);\n",
              "    box-shadow: none;\n",
              "  }\n",
              "\n",
              "  .colab-df-spinner {\n",
              "    border: 2px solid var(--fill-color);\n",
              "    border-color: transparent;\n",
              "    border-bottom-color: var(--fill-color);\n",
              "    animation:\n",
              "      spin 1s steps(1) infinite;\n",
              "  }\n",
              "\n",
              "  @keyframes spin {\n",
              "    0% {\n",
              "      border-color: transparent;\n",
              "      border-bottom-color: var(--fill-color);\n",
              "      border-left-color: var(--fill-color);\n",
              "    }\n",
              "    20% {\n",
              "      border-color: transparent;\n",
              "      border-left-color: var(--fill-color);\n",
              "      border-top-color: var(--fill-color);\n",
              "    }\n",
              "    30% {\n",
              "      border-color: transparent;\n",
              "      border-left-color: var(--fill-color);\n",
              "      border-top-color: var(--fill-color);\n",
              "      border-right-color: var(--fill-color);\n",
              "    }\n",
              "    40% {\n",
              "      border-color: transparent;\n",
              "      border-right-color: var(--fill-color);\n",
              "      border-top-color: var(--fill-color);\n",
              "    }\n",
              "    60% {\n",
              "      border-color: transparent;\n",
              "      border-right-color: var(--fill-color);\n",
              "    }\n",
              "    80% {\n",
              "      border-color: transparent;\n",
              "      border-right-color: var(--fill-color);\n",
              "      border-bottom-color: var(--fill-color);\n",
              "    }\n",
              "    90% {\n",
              "      border-color: transparent;\n",
              "      border-bottom-color: var(--fill-color);\n",
              "    }\n",
              "  }\n",
              "</style>\n",
              "\n",
              "  <script>\n",
              "    async function quickchart(key) {\n",
              "      const quickchartButtonEl =\n",
              "        document.querySelector('#' + key + ' button');\n",
              "      quickchartButtonEl.disabled = true;  // To prevent multiple clicks.\n",
              "      quickchartButtonEl.classList.add('colab-df-spinner');\n",
              "      try {\n",
              "        const charts = await google.colab.kernel.invokeFunction(\n",
              "            'suggestCharts', [key], {});\n",
              "      } catch (error) {\n",
              "        console.error('Error during call to suggestCharts:', error);\n",
              "      }\n",
              "      quickchartButtonEl.classList.remove('colab-df-spinner');\n",
              "      quickchartButtonEl.classList.add('colab-df-quickchart-complete');\n",
              "    }\n",
              "    (() => {\n",
              "      let quickchartButtonEl =\n",
              "        document.querySelector('#df-17dc5168-6354-4091-95f1-9625c17ac170 button');\n",
              "      quickchartButtonEl.style.display =\n",
              "        google.colab.kernel.accessAllowed ? 'block' : 'none';\n",
              "    })();\n",
              "  </script>\n",
              "</div>\n",
              "\n",
              "    </div>\n",
              "  </div>\n"
            ],
            "application/vnd.google.colaboratory.intrinsic+json": {
              "type": "dataframe",
              "variable_name": "df",
              "summary": "{\n  \"name\": \"df\",\n  \"rows\": 1460,\n  \"fields\": [\n    {\n      \"column\": \"OverallQual\",\n      \"properties\": {\n        \"dtype\": \"number\",\n        \"std\": 1,\n        \"min\": 1,\n        \"max\": 10,\n        \"num_unique_values\": 10,\n        \"samples\": [\n          1,\n          6,\n          4\n        ],\n        \"semantic_type\": \"\",\n        \"description\": \"\"\n      }\n    },\n    {\n      \"column\": \"YearBuilt\",\n      \"properties\": {\n        \"dtype\": \"number\",\n        \"std\": 30,\n        \"min\": 1872,\n        \"max\": 2010,\n        \"num_unique_values\": 112,\n        \"samples\": [\n          1999,\n          1936,\n          2000\n        ],\n        \"semantic_type\": \"\",\n        \"description\": \"\"\n      }\n    },\n    {\n      \"column\": \"TotalBsmtSF\",\n      \"properties\": {\n        \"dtype\": \"number\",\n        \"std\": 438,\n        \"min\": 0,\n        \"max\": 6110,\n        \"num_unique_values\": 721,\n        \"samples\": [\n          1536,\n          1192,\n          684\n        ],\n        \"semantic_type\": \"\",\n        \"description\": \"\"\n      }\n    },\n    {\n      \"column\": \"GrLivArea\",\n      \"properties\": {\n        \"dtype\": \"number\",\n        \"std\": 525,\n        \"min\": 334,\n        \"max\": 5642,\n        \"num_unique_values\": 861,\n        \"samples\": [\n          1459,\n          1775,\n          840\n        ],\n        \"semantic_type\": \"\",\n        \"description\": \"\"\n      }\n    },\n    {\n      \"column\": \"SalePrice\",\n      \"properties\": {\n        \"dtype\": \"number\",\n        \"std\": 79442,\n        \"min\": 34900,\n        \"max\": 755000,\n        \"num_unique_values\": 663,\n        \"samples\": [\n          91300,\n          174500,\n          150900\n        ],\n        \"semantic_type\": \"\",\n        \"description\": \"\"\n      }\n    }\n  ]\n}"
            }
          },
          "metadata": {},
          "execution_count": 4
        }
      ],
      "source": [
        "df.head(3)"
      ]
    },
    {
      "cell_type": "code",
      "execution_count": 5,
      "metadata": {
        "colab": {
          "base_uri": "https://localhost:8080/"
        },
        "id": "nNDqJmms45ue",
        "outputId": "84ca9a45-c016-4b28-f950-2fdc9a255b39"
      },
      "outputs": [
        {
          "output_type": "stream",
          "name": "stdout",
          "text": [
            "<class 'pandas.core.frame.DataFrame'>\n",
            "RangeIndex: 1460 entries, 0 to 1459\n",
            "Data columns (total 5 columns):\n",
            " #   Column       Non-Null Count  Dtype\n",
            "---  ------       --------------  -----\n",
            " 0   OverallQual  1460 non-null   int64\n",
            " 1   YearBuilt    1460 non-null   int64\n",
            " 2   TotalBsmtSF  1460 non-null   int64\n",
            " 3   GrLivArea    1460 non-null   int64\n",
            " 4   SalePrice    1460 non-null   int64\n",
            "dtypes: int64(5)\n",
            "memory usage: 57.2 KB\n"
          ]
        }
      ],
      "source": [
        "df.info() # get more information"
      ]
    },
    {
      "cell_type": "markdown",
      "metadata": {
        "id": "_aWhryR945ue"
      },
      "source": [
        "### Data Analysis\n",
        "Before training, we need first to analyze the dataset, to know its properties better."
      ]
    },
    {
      "cell_type": "code",
      "execution_count": 6,
      "metadata": {
        "colab": {
          "base_uri": "https://localhost:8080/",
          "height": 285
        },
        "id": "wNPe7JZG45uf",
        "outputId": "d270c7a1-8a81-4ac8-cf12-8d8143889287"
      },
      "outputs": [
        {
          "output_type": "execute_result",
          "data": {
            "text/plain": [
              "<seaborn.axisgrid.PairGrid at 0x7c18cbb51f60>"
            ]
          },
          "metadata": {},
          "execution_count": 6
        },
        {
          "output_type": "display_data",
          "data": {
            "text/plain": [
              "<Figure size 1000x250 with 4 Axes>"
            ],
            "image/png": "[encoded data removed]"
          },
          "metadata": {}
        }
      ],
      "source": [
        "sns.pairplot(df, x_vars=['OverallQual', 'YearBuilt', 'TotalBsmtSF', 'GrLivArea'],\n",
        "             y_vars=['SalePrice'])"
      ]
    },
    {
      "cell_type": "markdown",
      "metadata": {
        "id": "LnSntGn345uf"
      },
      "source": [
        "### House prices prediction"
      ]
    },
    {
      "cell_type": "markdown",
      "metadata": {
        "id": "krNfOmJH45ug"
      },
      "source": [
        "Here is a skeleton of a neural network with a single layer (thus: a linear classifier). This is the model you'll start with and improve during this exercise.\n",
        "\n",
        "Look at the code and run it to see its structure, then follow the questions below to iteratively improve the model."
      ]
    },
    {
      "cell_type": "code",
      "execution_count": 7,
      "metadata": {
        "id": "01BuPFBB45uh"
      },
      "outputs": [],
      "source": [
        "X = df[['OverallQual', 'YearBuilt', 'TotalBsmtSF', 'GrLivArea']] # get the four features from the dataframe\n",
        "y = df['SalePrice'] # get the target values"
      ]
    },
    {
      "cell_type": "code",
      "execution_count": 8,
      "metadata": {
        "id": "LoXYaWbj45ui"
      },
      "outputs": [],
      "source": [
        "X_train = X.iloc[:1000]\n",
        "y_train = y.iloc[:1000]/100000 #Divide the output to avoid explosion in MSE (we learn output/C instead of output)\n",
        "\n",
        "X_val = X.iloc[1000:1200]\n",
        "y_val = y.iloc[1000:1200]/100000\n",
        "\n",
        "X_test = X.iloc[1200:]\n",
        "y_test = y.iloc[1200:]/100000"
      ]
    },
    {
      "cell_type": "code",
      "execution_count": 9,
      "metadata": {
        "id": "8YmSNtO345uj"
      },
      "outputs": [],
      "source": [
        "# Construct a model with one layer\n",
        "class Model(nn.Module):\n",
        "\n",
        "    def __init__(self,nb_hidden,nb_layers,activation):\n",
        "        super(Model, self).__init__()\n",
        "\n",
        "        self.layers = nn.ModuleList(\n",
        "            [nn.BatchNorm1d(4),nn.Linear(4, nb_hidden),activation()] + \\\n",
        "            [nn.Linear(nb_hidden,nb_hidden),activation()] + \\\n",
        "            [nn.Linear(nb_hidden,1)]) #batchNorm input to avoid explosion (inputs can be huge)\n",
        "\n",
        "        self.net = nn.Sequential(*self.layers)\n",
        "\n",
        "\n",
        "    def forward(self, inputs):\n",
        "        outputs = self.net(inputs)\n",
        "        return outputs"
      ]
    },
    {
      "cell_type": "code",
      "execution_count": 10,
      "metadata": {
        "id": "xTCWiEXF45uj"
      },
      "outputs": [],
      "source": [
        "# Define hyper-parameters:\n",
        "model = Model(16,2,nn.ReLU)\n",
        "\n",
        "# Choose the hyperparameters for training:\n",
        "num_epochs = 100\n",
        "batch_size = 10\n",
        "\n",
        "# Training criterion. This one is a mean squared error (MSE) loss between the output\n",
        "# of the network and the target label\n",
        "criterion = nn.MSELoss()\n",
        "\n",
        "# Use SGD optimizer with a learning rate of 0.01\n",
        "# It is initialized on our model\n",
        "optimizer = torch.optim.SGD(model.parameters(), lr=0.01)"
      ]
    },
    {
      "cell_type": "code",
      "execution_count": 11,
      "metadata": {
        "id": "FZq9eU4S45uk"
      },
      "outputs": [],
      "source": [
        "train_set = TensorDataset(torch.from_numpy(np.array(X_train)).float(),\n",
        "                          torch.from_numpy(np.array(y_train)).float()) # creat the dataset."
      ]
    },
    {
      "cell_type": "code",
      "execution_count": 12,
      "metadata": {
        "id": "SKJRF44c45uk"
      },
      "outputs": [],
      "source": [
        "def train(num_epochs, batch_size, criterion, optimizer, model, dataset,verbose=True):\n",
        "    dataloader = DataLoader(dataset, batch_size, shuffle=True)\n",
        "\n",
        "    model.train()\n",
        "    for epoch in range(num_epochs):\n",
        "        epoch_average_loss = 0.0\n",
        "        for (X, y) in (dataloader):\n",
        "\n",
        "            y_pre = model(X).view(-1)\n",
        "            loss = criterion(y_pre, y)\n",
        "            optimizer.zero_grad()\n",
        "            loss.backward()\n",
        "            optimizer.step()\n",
        "            epoch_average_loss += loss.item() * batch_size / len(train_set)\n",
        "\n",
        "        if ((epoch+1)%1 == 0) and verbose:\n",
        "                print('Epoch [{}/{}], Loss_error: {:.4f}'\n",
        "                      .format(epoch+1, num_epochs,  epoch_average_loss))\n",
        ""
      ]
    },
    {
      "cell_type": "code",
      "execution_count": 13,
      "metadata": {
        "colab": {
          "base_uri": "https://localhost:8080/"
        },
        "id": "7G7oY6OU45ul",
        "outputId": "4e8102d4-8b7e-47a7-eee8-d7138cdd98e0"
      },
      "outputs": [
        {
          "output_type": "stream",
          "name": "stdout",
          "text": [
            "Epoch [1/100], Loss_error: 0.8559\n",
            "Epoch [2/100], Loss_error: 0.2320\n",
            "Epoch [3/100], Loss_error: 0.2409\n",
            "Epoch [4/100], Loss_error: 0.2129\n",
            "Epoch [5/100], Loss_error: 0.2393\n",
            "Epoch [6/100], Loss_error: 0.2197\n",
            "Epoch [7/100], Loss_error: 0.2093\n",
            "Epoch [8/100], Loss_error: 0.2338\n",
            "Epoch [9/100], Loss_error: 0.2076\n",
            "Epoch [10/100], Loss_error: 0.2119\n",
            "Epoch [11/100], Loss_error: 0.1997\n",
            "Epoch [12/100], Loss_error: 0.2045\n",
            "Epoch [13/100], Loss_error: 0.2014\n",
            "Epoch [14/100], Loss_error: 0.2021\n",
            "Epoch [15/100], Loss_error: 0.2042\n",
            "Epoch [16/100], Loss_error: 0.2025\n",
            "Epoch [17/100], Loss_error: 0.1815\n",
            "Epoch [18/100], Loss_error: 0.2072\n",
            "Epoch [19/100], Loss_error: 0.1908\n",
            "Epoch [20/100], Loss_error: 0.2028\n",
            "Epoch [21/100], Loss_error: 0.1928\n",
            "Epoch [22/100], Loss_error: 0.2134\n",
            "Epoch [23/100], Loss_error: 0.1863\n",
            "Epoch [24/100], Loss_error: 0.1917\n",
            "Epoch [25/100], Loss_error: 0.2039\n",
            "Epoch [26/100], Loss_error: 0.1907\n",
            "Epoch [27/100], Loss_error: 0.1754\n",
            "Epoch [28/100], Loss_error: 0.1791\n",
            "Epoch [29/100], Loss_error: 0.1774\n",
            "Epoch [30/100], Loss_error: 0.1933\n",
            "Epoch [31/100], Loss_error: 0.1810\n",
            "Epoch [32/100], Loss_error: 0.1779\n",
            "Epoch [33/100], Loss_error: 0.1834\n",
            "Epoch [34/100], Loss_error: 0.1744\n",
            "Epoch [35/100], Loss_error: 0.1774\n",
            "Epoch [36/100], Loss_error: 0.1885\n",
            "Epoch [37/100], Loss_error: 0.1790\n",
            "Epoch [38/100], Loss_error: 0.1999\n",
            "Epoch [39/100], Loss_error: 0.2039\n",
            "Epoch [40/100], Loss_error: 0.2141\n",
            "Epoch [41/100], Loss_error: 0.2158\n",
            "Epoch [42/100], Loss_error: 0.1764\n",
            "Epoch [43/100], Loss_error: 0.1839\n",
            "Epoch [44/100], Loss_error: 0.1950\n",
            "Epoch [45/100], Loss_error: 0.1666\n",
            "Epoch [46/100], Loss_error: 0.1950\n",
            "Epoch [47/100], Loss_error: 0.1845\n",
            "Epoch [48/100], Loss_error: 0.1751\n",
            "Epoch [49/100], Loss_error: 0.1977\n",
            "Epoch [50/100], Loss_error: 0.1974\n",
            "Epoch [51/100], Loss_error: 0.2099\n",
            "Epoch [52/100], Loss_error: 0.1904\n",
            "Epoch [53/100], Loss_error: 0.1894\n",
            "Epoch [54/100], Loss_error: 0.1900\n",
            "Epoch [55/100], Loss_error: 0.1901\n",
            "Epoch [56/100], Loss_error: 0.1825\n",
            "Epoch [57/100], Loss_error: 0.1842\n",
            "Epoch [58/100], Loss_error: 0.1731\n",
            "Epoch [59/100], Loss_error: 0.1887\n",
            "Epoch [60/100], Loss_error: 0.1874\n",
            "Epoch [61/100], Loss_error: 0.1802\n",
            "Epoch [62/100], Loss_error: 0.1918\n",
            "Epoch [63/100], Loss_error: 0.1852\n",
            "Epoch [64/100], Loss_error: 0.2107\n",
            "Epoch [65/100], Loss_error: 0.1781\n",
            "Epoch [66/100], Loss_error: 0.1874\n",
            "Epoch [67/100], Loss_error: 0.1662\n",
            "Epoch [68/100], Loss_error: 0.1910\n",
            "Epoch [69/100], Loss_error: 0.1956\n",
            "Epoch [70/100], Loss_error: 0.1835\n",
            "Epoch [71/100], Loss_error: 0.1815\n",
            "Epoch [72/100], Loss_error: 0.1753\n",
            "Epoch [73/100], Loss_error: 0.1969\n",
            "Epoch [74/100], Loss_error: 0.1764\n",
            "Epoch [75/100], Loss_error: 0.1747\n",
            "Epoch [76/100], Loss_error: 0.1770\n",
            "Epoch [77/100], Loss_error: 0.1756\n",
            "Epoch [78/100], Loss_error: 0.1781\n",
            "Epoch [79/100], Loss_error: 0.1873\n",
            "Epoch [80/100], Loss_error: 0.1622\n",
            "Epoch [81/100], Loss_error: 0.1832\n",
            "Epoch [82/100], Loss_error: 0.1909\n",
            "Epoch [83/100], Loss_error: 0.1893\n",
            "Epoch [84/100], Loss_error: 0.1844\n",
            "Epoch [85/100], Loss_error: 0.1922\n",
            "Epoch [86/100], Loss_error: 0.1902\n",
            "Epoch [87/100], Loss_error: 0.1673\n",
            "Epoch [88/100], Loss_error: 0.1753\n",
            "Epoch [89/100], Loss_error: 0.1893\n",
            "Epoch [90/100], Loss_error: 0.2025\n",
            "Epoch [91/100], Loss_error: 0.1825\n",
            "Epoch [92/100], Loss_error: 0.1703\n",
            "Epoch [93/100], Loss_error: 0.1705\n",
            "Epoch [94/100], Loss_error: 0.1866\n",
            "Epoch [95/100], Loss_error: 0.1919\n",
            "Epoch [96/100], Loss_error: 0.1833\n",
            "Epoch [97/100], Loss_error: 0.1946\n",
            "Epoch [98/100], Loss_error: 0.1831\n",
            "Epoch [99/100], Loss_error: 0.1883\n",
            "Epoch [100/100], Loss_error: 0.1922\n"
          ]
        }
      ],
      "source": [
        "train(num_epochs, batch_size, criterion, optimizer, model, train_set)"
      ]
    },
    {
      "cell_type": "markdown",
      "metadata": {
        "id": "1v6Ks8NK45ul"
      },
      "source": [
        "#### Evaluate the Model on the validation set"
      ]
    },
    {
      "cell_type": "code",
      "execution_count": 14,
      "metadata": {
        "id": "N0qJUa_r45um"
      },
      "outputs": [],
      "source": [
        "def evaluate(model,xset,yset):\n",
        "    # Calculate mean squared error on validation set\n",
        "    model.eval()\n",
        "    with torch.no_grad():\n",
        "        y_pre_val = model(torch.from_numpy(np.array(xset)).float()).view(-1)\n",
        "    error = criterion(y_pre_val, torch.tensor(np.array(yset)).float()).item()\n",
        "    return -error"
      ]
    },
    {
      "cell_type": "markdown",
      "metadata": {
        "id": "el6H-hHt45um"
      },
      "source": [
        "### Exercise 1: Impact of the architecture of the model\n",
        "\n",
        "The class `Model` is the definition of your model. You can now modify it to try out different architectures and\n",
        "see the impact of the following factors:\n",
        "\n",
        "* Try to add more layers (1, 2, 3, more ?)\n",
        "* Try different activation functions ([sigmoid](https://pytorch.org/docs/stable/nn.functional.html#torch.nn.functional.sigmoid), [tanh](https://pytorch.org/docs/stable/nn.functional.html#torch.nn.functional.tanh), [relu](https://pytorch.org/docs/stable/nn.functional.html#torch.nn.functional.relu), etc.)\n",
        "* Try to change the number of neurons in each layer (5, 10, 20, more ?)"
      ]
    },
    {
      "cell_type": "markdown",
      "metadata": {
        "id": "BtfyW8ab45um"
      },
      "source": [
        "### Exercise 2: Impact of the optimizer\n",
        "\n",
        "Retrain the model with different parameters of the optimizer; you can change then in the cell initializing the optimizer, after the definition of your model.\n",
        "\n",
        "* Use different batch sizes, from 10 to 400 e.g.\n",
        "* Try different values of the learning rate (between 0.001 and 10), and see how they impact the training process. Do all network architectures react the same way to different learning rates?\n",
        "* Change the duration of the training by increasing the number of epochs\n",
        "* Try other optimizers, such as [Adam](https://pytorch.org/docs/stable/optim.html?highlight=adam#torch.optim.Adam) or [RMSprop](https://pytorch.org/docs/stable/optim.html?highlight=rmsprop#torch.optim.RMSprop)\n",
        "\n",
        "**Note:** These changes may interact with your previous choices of architectures, and you may need to change them as well!"
      ]
    },
    {
      "cell_type": "markdown",
      "metadata": {
        "id": "9zCJH-ZH45un"
      },
      "source": [
        "### Exercise 3: Impact of the loss function\n",
        "As mensioned before in the first problem (binary classification), one can minimize the negative of log-likelihood of the probability for all samples $x$: $$ \\sum_{(x,y) \\,\\in\\, \\text{Dataset}} - \\log p(y | x) $$ If we define $p(y_i | x_i) = \\frac{1}{\\sqrt{2\\pi}}e^{-\\frac{(y_i - f(x_i))^2}{2}}$, then the loss function becomes the mean squared error.\n",
        "\n",
        "There is another loss function worth to try: the Gaussian likelihood loss function.\n",
        "Rather than predicting a single value $y$ given $x$, we predict a probability distribution over possible answers, which helps dealing with ambiguous cases and expressing uncertainty. To do this, for each possible input $x$, the network will output the parameters of the distribution modeling $p(y|x)$. For instance in our case, we choose to model output distributions with Gaussian distributions $\\mathcal{N}(\\mu, \\sigma)$, which are parameterized by their mean $\\mu$ and their standard deviation $\\sigma$. Therefore for each input $x$ we have to output two quantities: $\\mu(x)$ and $\\sigma(x)$. The probability becomes: $$p(y_i | x_i) = \\frac{1}{\\sqrt{2\\pi \\sigma(x_i)^2}}e^{-\\frac{(y_i - \\mu(x_i))^2}{2\\sigma(x_i)^2}}$$ Then the loss function becomes: $$L =\\sum\\limits_{i=1}^{N}  \\frac{1}{2} \\log ( 2\\pi\\sigma_i^{2} ) + \\frac{1}{2\\sigma_i^{2}}  (y_{i} - \\mu_i)^{2}$$ If we set $\\sigma=1$, we obtain MSE the loss function.\n",
        "\n",
        "* Try to replace the loss function with this one, and compare the differences between the two losses.\n",
        "\n",
        "* **Hints**:\n",
        "    * You need two outputs of your network, one represents the $\\mu(x_i)$, another for $\\log( \\sigma(x_i)^2 )$ (better for optimization)\n",
        "    * Try deeper models, or you will not predict the variance $\\sigma$ well.\n"
      ]
    },
    {
      "cell_type": "markdown",
      "metadata": {
        "id": "S56v378v45un"
      },
      "source": [
        "### Exercice 4: Prediction on test set\n",
        "\n",
        "* Once you have a model that seems satisfying on the validation dataset, you SHOULD evaluate it on a test dataset that has never been used before, to obtain a final accuracy value.\n",
        "* When using the Gaussian likelihood function, the confidence of the network in its prediction is reflected in the variance it outputs. It can be interesting to check how this uncertainty varies with the data. For example, the uncertainty will decrease when the feature `OverallQual` increases. Plot the variance $\\sigma(x)$ w.r.t one of the three features, on test set, and describe what you observe."
      ]
    },
    {
      "cell_type": "code",
      "execution_count": 15,
      "metadata": {
        "id": "6adD01w_45un"
      },
      "outputs": [],
      "source": [
        "import time\n",
        "def trial(nb_hidden,nb_layers,activation,lr,optimizer,num_epochs,batch_size,criterion):\n",
        "    model = Model(nb_hidden,nb_layers,activation)\n",
        "\n",
        "    # Training criterion. This one is a mean squared error (MSE) loss between the output\n",
        "    # of the network and the target label\n",
        "    criterion = criterion()\n",
        "\n",
        "    # Use SGD optimizer with a learning rate of 0.01\n",
        "    # It is initialized on our model\n",
        "    optimizer = optimizer(model.parameters(), lr=lr)\n",
        "\n",
        "    t = time.perf_counter()\n",
        "    train(num_epochs, batch_size, criterion, optimizer, model, train_set,verbose=False)\n",
        "    dt = time.perf_counter()-t\n",
        "\n",
        "    val = evaluate(model,X_val,y_val)\n",
        "\n",
        "    test = evaluate(model,X_test,y_test)\n",
        "\n",
        "    return val,{'val':val,'test':test,'dt':dt}"
      ]
    },
    {
      "cell_type": "code",
      "source": [
        "!git clone https://github.com/Daetheys/ParameterOptimizer\n",
        "%cd ParameterOptimizer"
      ],
      "metadata": {
        "colab": {
          "base_uri": "https://localhost:8080/"
        },
        "id": "4yvpRsKw_9tN",
        "outputId": "dac3fbbc-525f-4039-f452-6b83b1d6ee73"
      },
      "execution_count": 16,
      "outputs": [
        {
          "output_type": "stream",
          "name": "stdout",
          "text": [
            "Cloning into 'ParameterOptimizer'...\n",
            "remote: Enumerating objects: 15, done.\u001b[K\n",
            "remote: Counting objects: 100% (15/15), done.\u001b[K\n",
            "remote: Compressing objects: 100% (13/13), done.\u001b[K\n",
            "remote: Total 15 (delta 5), reused 0 (delta 0), pack-reused 0 (from 0)\u001b[K\n",
            "Receiving objects: 100% (15/15), done.\n",
            "Resolving deltas: 100% (5/5), done.\n",
            "/content/ParameterOptimizer\n"
          ]
        }
      ]
    },
    {
      "cell_type": "code",
      "source": [
        "from optimizer import optimize\n",
        "from compact_doc import compact_doc"
      ],
      "metadata": {
        "id": "xvVSzNtgAjqD"
      },
      "execution_count": 17,
      "outputs": []
    },
    {
      "cell_type": "code",
      "source": [
        "params = {}\n",
        "params['nb_hidden'] = [8,16,32,64,128]\n",
        "params['nb_layers'] = [1,2,3,4,5]\n",
        "params['activation'] = [nn.ReLU,nn.Tanh,nn.Sigmoid]\n",
        "params['lr'] = [0.1,0.001,0.01,1,10]\n",
        "params['optimizer']= [torch.optim.SGD,torch.optim.Adam,torch.optim.RMSprop]\n",
        "params['num_epochs'] = [20,10,30,40]\n",
        "params['batch_size'] = [10,20,100,500]\n",
        "params['criterion'] = [nn.MSELoss]"
      ],
      "metadata": {
        "id": "XJX1KRU3Ao6p"
      },
      "execution_count": 18,
      "outputs": []
    },
    {
      "cell_type": "code",
      "source": [
        "optimal,doc = optimize(params,trial,nb_trials=5,nb_iteration=3)"
      ],
      "metadata": {
        "id": "dlzmJU7PBJbj",
        "colab": {
          "base_uri": "https://localhost:8080/"
        },
        "outputId": "1aaef41e-953f-4d1e-ef3d-c22ae90c3ad4"
      },
      "execution_count": 19,
      "outputs": [
        {
          "output_type": "stream",
          "name": "stdout",
          "text": [
            "nb_hidden\n",
            "    8\n"
          ]
        },
        {
          "output_type": "stream",
          "name": "stderr",
          "text": [
            "100%|██████████| 5/5 [00:13<00:00,  2.71s/it]\n"
          ]
        },
        {
          "output_type": "stream",
          "name": "stdout",
          "text": [
            "    16\n"
          ]
        },
        {
          "output_type": "stream",
          "name": "stderr",
          "text": [
            "100%|██████████| 5/5 [00:13<00:00,  2.65s/it]\n"
          ]
        },
        {
          "output_type": "stream",
          "name": "stdout",
          "text": [
            "    32\n"
          ]
        },
        {
          "output_type": "stream",
          "name": "stderr",
          "text": [
            "100%|██████████| 5/5 [00:13<00:00,  2.68s/it]\n"
          ]
        },
        {
          "output_type": "stream",
          "name": "stdout",
          "text": [
            "    64\n"
          ]
        },
        {
          "output_type": "stream",
          "name": "stderr",
          "text": [
            "100%|██████████| 5/5 [00:13<00:00,  2.68s/it]\n"
          ]
        },
        {
          "output_type": "stream",
          "name": "stdout",
          "text": [
            "    128\n"
          ]
        },
        {
          "output_type": "stream",
          "name": "stderr",
          "text": [
            "100%|██████████| 5/5 [00:14<00:00,  2.84s/it]\n"
          ]
        },
        {
          "output_type": "stream",
          "name": "stdout",
          "text": [
            "nb_layers\n",
            "    1\n"
          ]
        },
        {
          "output_type": "stream",
          "name": "stderr",
          "text": [
            "100%|██████████| 5/5 [00:13<00:00,  2.70s/it]\n"
          ]
        },
        {
          "output_type": "stream",
          "name": "stdout",
          "text": [
            "    2\n"
          ]
        },
        {
          "output_type": "stream",
          "name": "stderr",
          "text": [
            "100%|██████████| 5/5 [00:13<00:00,  2.71s/it]\n"
          ]
        },
        {
          "output_type": "stream",
          "name": "stdout",
          "text": [
            "    3\n"
          ]
        },
        {
          "output_type": "stream",
          "name": "stderr",
          "text": [
            "100%|██████████| 5/5 [00:13<00:00,  2.71s/it]\n"
          ]
        },
        {
          "output_type": "stream",
          "name": "stdout",
          "text": [
            "    4\n"
          ]
        },
        {
          "output_type": "stream",
          "name": "stderr",
          "text": [
            "100%|██████████| 5/5 [00:13<00:00,  2.70s/it]\n"
          ]
        },
        {
          "output_type": "stream",
          "name": "stdout",
          "text": [
            "    5\n"
          ]
        },
        {
          "output_type": "stream",
          "name": "stderr",
          "text": [
            "100%|██████████| 5/5 [00:13<00:00,  2.70s/it]\n"
          ]
        },
        {
          "output_type": "stream",
          "name": "stdout",
          "text": [
            "activation\n",
            "    <class 'torch.nn.modules.activation.ReLU'>\n"
          ]
        },
        {
          "output_type": "stream",
          "name": "stderr",
          "text": [
            "100%|██████████| 5/5 [00:13<00:00,  2.68s/it]\n"
          ]
        },
        {
          "output_type": "stream",
          "name": "stdout",
          "text": [
            "    <class 'torch.nn.modules.activation.Tanh'>\n"
          ]
        },
        {
          "output_type": "stream",
          "name": "stderr",
          "text": [
            "100%|██████████| 5/5 [00:13<00:00,  2.68s/it]\n"
          ]
        },
        {
          "output_type": "stream",
          "name": "stdout",
          "text": [
            "    <class 'torch.nn.modules.activation.Sigmoid'>\n"
          ]
        },
        {
          "output_type": "stream",
          "name": "stderr",
          "text": [
            "100%|██████████| 5/5 [00:13<00:00,  2.68s/it]\n"
          ]
        },
        {
          "output_type": "stream",
          "name": "stdout",
          "text": [
            "lr\n",
            "    0.1\n"
          ]
        },
        {
          "output_type": "stream",
          "name": "stderr",
          "text": [
            "100%|██████████| 5/5 [00:13<00:00,  2.70s/it]\n"
          ]
        },
        {
          "output_type": "stream",
          "name": "stdout",
          "text": [
            "    0.001\n"
          ]
        },
        {
          "output_type": "stream",
          "name": "stderr",
          "text": [
            "100%|██████████| 5/5 [00:13<00:00,  2.64s/it]\n"
          ]
        },
        {
          "output_type": "stream",
          "name": "stdout",
          "text": [
            "    0.01\n"
          ]
        },
        {
          "output_type": "stream",
          "name": "stderr",
          "text": [
            "100%|██████████| 5/5 [00:13<00:00,  2.67s/it]\n"
          ]
        },
        {
          "output_type": "stream",
          "name": "stdout",
          "text": [
            "    1\n"
          ]
        },
        {
          "output_type": "stream",
          "name": "stderr",
          "text": [
            "100%|██████████| 5/5 [00:13<00:00,  2.65s/it]\n"
          ]
        },
        {
          "output_type": "stream",
          "name": "stdout",
          "text": [
            "    10\n"
          ]
        },
        {
          "output_type": "stream",
          "name": "stderr",
          "text": [
            "100%|██████████| 5/5 [00:13<00:00,  2.66s/it]\n"
          ]
        },
        {
          "output_type": "stream",
          "name": "stdout",
          "text": [
            "optimizer\n",
            "    <class 'torch.optim.sgd.SGD'>\n"
          ]
        },
        {
          "output_type": "stream",
          "name": "stderr",
          "text": [
            "100%|██████████| 5/5 [00:13<00:00,  2.67s/it]\n"
          ]
        },
        {
          "output_type": "stream",
          "name": "stdout",
          "text": [
            "    <class 'torch.optim.adam.Adam'>\n"
          ]
        },
        {
          "output_type": "stream",
          "name": "stderr",
          "text": [
            "100%|██████████| 5/5 [00:21<00:00,  4.20s/it]\n"
          ]
        },
        {
          "output_type": "stream",
          "name": "stdout",
          "text": [
            "    <class 'torch.optim.rmsprop.RMSprop'>\n"
          ]
        },
        {
          "output_type": "stream",
          "name": "stderr",
          "text": [
            "100%|██████████| 5/5 [00:16<00:00,  3.29s/it]\n"
          ]
        },
        {
          "output_type": "stream",
          "name": "stdout",
          "text": [
            "num_epochs\n",
            "    20\n"
          ]
        },
        {
          "output_type": "stream",
          "name": "stderr",
          "text": [
            "100%|██████████| 5/5 [00:13<00:00,  2.70s/it]\n"
          ]
        },
        {
          "output_type": "stream",
          "name": "stdout",
          "text": [
            "    10\n"
          ]
        },
        {
          "output_type": "stream",
          "name": "stderr",
          "text": [
            "100%|██████████| 5/5 [00:07<00:00,  1.45s/it]\n"
          ]
        },
        {
          "output_type": "stream",
          "name": "stdout",
          "text": [
            "    30\n"
          ]
        },
        {
          "output_type": "stream",
          "name": "stderr",
          "text": [
            "100%|██████████| 5/5 [00:19<00:00,  3.94s/it]\n"
          ]
        },
        {
          "output_type": "stream",
          "name": "stdout",
          "text": [
            "    40\n"
          ]
        },
        {
          "output_type": "stream",
          "name": "stderr",
          "text": [
            "100%|██████████| 5/5 [00:26<00:00,  5.35s/it]\n"
          ]
        },
        {
          "output_type": "stream",
          "name": "stdout",
          "text": [
            "batch_size\n",
            "    10\n"
          ]
        },
        {
          "output_type": "stream",
          "name": "stderr",
          "text": [
            "100%|██████████| 5/5 [00:22<00:00,  4.60s/it]\n"
          ]
        },
        {
          "output_type": "stream",
          "name": "stdout",
          "text": [
            "    20\n"
          ]
        },
        {
          "output_type": "stream",
          "name": "stderr",
          "text": [
            "100%|██████████| 5/5 [00:11<00:00,  2.24s/it]\n"
          ]
        },
        {
          "output_type": "stream",
          "name": "stdout",
          "text": [
            "    100\n"
          ]
        },
        {
          "output_type": "stream",
          "name": "stderr",
          "text": [
            "100%|██████████| 5/5 [00:03<00:00,  1.48it/s]\n"
          ]
        },
        {
          "output_type": "stream",
          "name": "stdout",
          "text": [
            "    500\n"
          ]
        },
        {
          "output_type": "stream",
          "name": "stderr",
          "text": [
            "100%|██████████| 5/5 [00:02<00:00,  2.38it/s]\n"
          ]
        },
        {
          "output_type": "stream",
          "name": "stdout",
          "text": [
            "criterion\n",
            "    <class 'torch.nn.modules.loss.MSELoss'>\n"
          ]
        },
        {
          "output_type": "stream",
          "name": "stderr",
          "text": [
            "100%|██████████| 5/5 [00:20<00:00,  4.16s/it]\n"
          ]
        },
        {
          "output_type": "stream",
          "name": "stdout",
          "text": [
            "nb_hidden\n",
            "    8\n"
          ]
        },
        {
          "output_type": "stream",
          "name": "stderr",
          "text": [
            "100%|██████████| 5/5 [00:18<00:00,  3.76s/it]\n"
          ]
        },
        {
          "output_type": "stream",
          "name": "stdout",
          "text": [
            "    16\n"
          ]
        },
        {
          "output_type": "stream",
          "name": "stderr",
          "text": [
            "100%|██████████| 5/5 [00:20<00:00,  4.02s/it]\n"
          ]
        },
        {
          "output_type": "stream",
          "name": "stdout",
          "text": [
            "    32\n"
          ]
        },
        {
          "output_type": "stream",
          "name": "stderr",
          "text": [
            "100%|██████████| 5/5 [00:19<00:00,  3.91s/it]\n"
          ]
        },
        {
          "output_type": "stream",
          "name": "stdout",
          "text": [
            "    64\n"
          ]
        },
        {
          "output_type": "stream",
          "name": "stderr",
          "text": [
            "100%|██████████| 5/5 [00:20<00:00,  4.11s/it]\n"
          ]
        },
        {
          "output_type": "stream",
          "name": "stdout",
          "text": [
            "    128\n"
          ]
        },
        {
          "output_type": "stream",
          "name": "stderr",
          "text": [
            "100%|██████████| 5/5 [00:20<00:00,  4.12s/it]\n"
          ]
        },
        {
          "output_type": "stream",
          "name": "stdout",
          "text": [
            "nb_layers\n",
            "    1\n"
          ]
        },
        {
          "output_type": "stream",
          "name": "stderr",
          "text": [
            "100%|██████████| 5/5 [00:21<00:00,  4.34s/it]\n"
          ]
        },
        {
          "output_type": "stream",
          "name": "stdout",
          "text": [
            "    2\n"
          ]
        },
        {
          "output_type": "stream",
          "name": "stderr",
          "text": [
            "100%|██████████| 5/5 [00:20<00:00,  4.09s/it]\n"
          ]
        },
        {
          "output_type": "stream",
          "name": "stdout",
          "text": [
            "    3\n"
          ]
        },
        {
          "output_type": "stream",
          "name": "stderr",
          "text": [
            "100%|██████████| 5/5 [00:21<00:00,  4.33s/it]\n"
          ]
        },
        {
          "output_type": "stream",
          "name": "stdout",
          "text": [
            "    4\n"
          ]
        },
        {
          "output_type": "stream",
          "name": "stderr",
          "text": [
            "100%|██████████| 5/5 [00:21<00:00,  4.32s/it]\n"
          ]
        },
        {
          "output_type": "stream",
          "name": "stdout",
          "text": [
            "    5\n"
          ]
        },
        {
          "output_type": "stream",
          "name": "stderr",
          "text": [
            "100%|██████████| 5/5 [00:21<00:00,  4.25s/it]\n"
          ]
        },
        {
          "output_type": "stream",
          "name": "stdout",
          "text": [
            "activation\n",
            "    <class 'torch.nn.modules.activation.ReLU'>\n"
          ]
        },
        {
          "output_type": "stream",
          "name": "stderr",
          "text": [
            "100%|██████████| 5/5 [00:21<00:00,  4.28s/it]\n"
          ]
        },
        {
          "output_type": "stream",
          "name": "stdout",
          "text": [
            "    <class 'torch.nn.modules.activation.Tanh'>\n"
          ]
        },
        {
          "output_type": "stream",
          "name": "stderr",
          "text": [
            "100%|██████████| 5/5 [00:20<00:00,  4.19s/it]\n"
          ]
        },
        {
          "output_type": "stream",
          "name": "stdout",
          "text": [
            "    <class 'torch.nn.modules.activation.Sigmoid'>\n"
          ]
        },
        {
          "output_type": "stream",
          "name": "stderr",
          "text": [
            "100%|██████████| 5/5 [00:21<00:00,  4.31s/it]\n"
          ]
        },
        {
          "output_type": "stream",
          "name": "stdout",
          "text": [
            "lr\n",
            "    0.1\n"
          ]
        },
        {
          "output_type": "stream",
          "name": "stderr",
          "text": [
            "100%|██████████| 5/5 [00:20<00:00,  4.09s/it]\n"
          ]
        },
        {
          "output_type": "stream",
          "name": "stdout",
          "text": [
            "    0.001\n"
          ]
        },
        {
          "output_type": "stream",
          "name": "stderr",
          "text": [
            "100%|██████████| 5/5 [00:21<00:00,  4.31s/it]\n"
          ]
        },
        {
          "output_type": "stream",
          "name": "stdout",
          "text": [
            "    0.01\n"
          ]
        },
        {
          "output_type": "stream",
          "name": "stderr",
          "text": [
            "100%|██████████| 5/5 [00:20<00:00,  4.10s/it]\n"
          ]
        },
        {
          "output_type": "stream",
          "name": "stdout",
          "text": [
            "    1\n"
          ]
        },
        {
          "output_type": "stream",
          "name": "stderr",
          "text": [
            "100%|██████████| 5/5 [00:21<00:00,  4.27s/it]\n"
          ]
        },
        {
          "output_type": "stream",
          "name": "stdout",
          "text": [
            "    10\n"
          ]
        },
        {
          "output_type": "stream",
          "name": "stderr",
          "text": [
            "100%|██████████| 5/5 [00:21<00:00,  4.26s/it]\n"
          ]
        },
        {
          "output_type": "stream",
          "name": "stdout",
          "text": [
            "optimizer\n",
            "    <class 'torch.optim.sgd.SGD'>\n"
          ]
        },
        {
          "output_type": "stream",
          "name": "stderr",
          "text": [
            "100%|██████████| 5/5 [00:20<00:00,  4.15s/it]\n"
          ]
        },
        {
          "output_type": "stream",
          "name": "stdout",
          "text": [
            "    <class 'torch.optim.adam.Adam'>\n"
          ]
        },
        {
          "output_type": "stream",
          "name": "stderr",
          "text": [
            "100%|██████████| 5/5 [00:37<00:00,  7.45s/it]\n"
          ]
        },
        {
          "output_type": "stream",
          "name": "stdout",
          "text": [
            "    <class 'torch.optim.rmsprop.RMSprop'>\n"
          ]
        },
        {
          "output_type": "stream",
          "name": "stderr",
          "text": [
            "100%|██████████| 5/5 [00:27<00:00,  5.41s/it]\n"
          ]
        },
        {
          "output_type": "stream",
          "name": "stdout",
          "text": [
            "num_epochs\n",
            "    20\n"
          ]
        },
        {
          "output_type": "stream",
          "name": "stderr",
          "text": [
            "100%|██████████| 5/5 [00:13<00:00,  2.77s/it]\n"
          ]
        },
        {
          "output_type": "stream",
          "name": "stdout",
          "text": [
            "    10\n"
          ]
        },
        {
          "output_type": "stream",
          "name": "stderr",
          "text": [
            "100%|██████████| 5/5 [00:06<00:00,  1.38s/it]\n"
          ]
        },
        {
          "output_type": "stream",
          "name": "stdout",
          "text": [
            "    30\n"
          ]
        },
        {
          "output_type": "stream",
          "name": "stderr",
          "text": [
            "100%|██████████| 5/5 [00:21<00:00,  4.21s/it]\n"
          ]
        },
        {
          "output_type": "stream",
          "name": "stdout",
          "text": [
            "    40\n"
          ]
        },
        {
          "output_type": "stream",
          "name": "stderr",
          "text": [
            "100%|██████████| 5/5 [00:27<00:00,  5.59s/it]\n"
          ]
        },
        {
          "output_type": "stream",
          "name": "stdout",
          "text": [
            "batch_size\n",
            "    10\n"
          ]
        },
        {
          "output_type": "stream",
          "name": "stderr",
          "text": [
            "100%|██████████| 5/5 [00:21<00:00,  4.29s/it]\n"
          ]
        },
        {
          "output_type": "stream",
          "name": "stdout",
          "text": [
            "    20\n"
          ]
        },
        {
          "output_type": "stream",
          "name": "stderr",
          "text": [
            "100%|██████████| 5/5 [00:12<00:00,  2.59s/it]\n"
          ]
        },
        {
          "output_type": "stream",
          "name": "stdout",
          "text": [
            "    100\n"
          ]
        },
        {
          "output_type": "stream",
          "name": "stderr",
          "text": [
            "100%|██████████| 5/5 [00:04<00:00,  1.03it/s]\n"
          ]
        },
        {
          "output_type": "stream",
          "name": "stdout",
          "text": [
            "    500\n"
          ]
        },
        {
          "output_type": "stream",
          "name": "stderr",
          "text": [
            "100%|██████████| 5/5 [00:02<00:00,  2.29it/s]\n"
          ]
        },
        {
          "output_type": "stream",
          "name": "stdout",
          "text": [
            "criterion\n",
            "    <class 'torch.nn.modules.loss.MSELoss'>\n"
          ]
        },
        {
          "output_type": "stream",
          "name": "stderr",
          "text": [
            "100%|██████████| 5/5 [00:11<00:00,  2.34s/it]\n"
          ]
        },
        {
          "output_type": "stream",
          "name": "stdout",
          "text": [
            "nb_hidden\n",
            "    8\n"
          ]
        },
        {
          "output_type": "stream",
          "name": "stderr",
          "text": [
            "100%|██████████| 5/5 [00:10<00:00,  2.17s/it]\n"
          ]
        },
        {
          "output_type": "stream",
          "name": "stdout",
          "text": [
            "    16\n"
          ]
        },
        {
          "output_type": "stream",
          "name": "stderr",
          "text": [
            "100%|██████████| 5/5 [00:11<00:00,  2.20s/it]\n"
          ]
        },
        {
          "output_type": "stream",
          "name": "stdout",
          "text": [
            "    32\n"
          ]
        },
        {
          "output_type": "stream",
          "name": "stderr",
          "text": [
            "100%|██████████| 5/5 [00:10<00:00,  2.02s/it]\n"
          ]
        },
        {
          "output_type": "stream",
          "name": "stdout",
          "text": [
            "    64\n"
          ]
        },
        {
          "output_type": "stream",
          "name": "stderr",
          "text": [
            "100%|██████████| 5/5 [00:11<00:00,  2.26s/it]\n"
          ]
        },
        {
          "output_type": "stream",
          "name": "stdout",
          "text": [
            "    128\n"
          ]
        },
        {
          "output_type": "stream",
          "name": "stderr",
          "text": [
            "100%|██████████| 5/5 [00:11<00:00,  2.37s/it]\n"
          ]
        },
        {
          "output_type": "stream",
          "name": "stdout",
          "text": [
            "nb_layers\n",
            "    1\n"
          ]
        },
        {
          "output_type": "stream",
          "name": "stderr",
          "text": [
            "100%|██████████| 5/5 [00:11<00:00,  2.27s/it]\n"
          ]
        },
        {
          "output_type": "stream",
          "name": "stdout",
          "text": [
            "    2\n"
          ]
        },
        {
          "output_type": "stream",
          "name": "stderr",
          "text": [
            "100%|██████████| 5/5 [00:11<00:00,  2.25s/it]\n"
          ]
        },
        {
          "output_type": "stream",
          "name": "stdout",
          "text": [
            "    3\n"
          ]
        },
        {
          "output_type": "stream",
          "name": "stderr",
          "text": [
            "100%|██████████| 5/5 [00:11<00:00,  2.25s/it]\n"
          ]
        },
        {
          "output_type": "stream",
          "name": "stdout",
          "text": [
            "    4\n"
          ]
        },
        {
          "output_type": "stream",
          "name": "stderr",
          "text": [
            "100%|██████████| 5/5 [00:10<00:00,  2.03s/it]\n"
          ]
        },
        {
          "output_type": "stream",
          "name": "stdout",
          "text": [
            "    5\n"
          ]
        },
        {
          "output_type": "stream",
          "name": "stderr",
          "text": [
            "100%|██████████| 5/5 [00:11<00:00,  2.24s/it]\n"
          ]
        },
        {
          "output_type": "stream",
          "name": "stdout",
          "text": [
            "activation\n",
            "    <class 'torch.nn.modules.activation.ReLU'>\n"
          ]
        },
        {
          "output_type": "stream",
          "name": "stderr",
          "text": [
            "100%|██████████| 5/5 [00:11<00:00,  2.25s/it]\n"
          ]
        },
        {
          "output_type": "stream",
          "name": "stdout",
          "text": [
            "    <class 'torch.nn.modules.activation.Tanh'>\n"
          ]
        },
        {
          "output_type": "stream",
          "name": "stderr",
          "text": [
            "100%|██████████| 5/5 [00:11<00:00,  2.25s/it]\n"
          ]
        },
        {
          "output_type": "stream",
          "name": "stdout",
          "text": [
            "    <class 'torch.nn.modules.activation.Sigmoid'>\n"
          ]
        },
        {
          "output_type": "stream",
          "name": "stderr",
          "text": [
            "100%|██████████| 5/5 [00:11<00:00,  2.24s/it]\n"
          ]
        },
        {
          "output_type": "stream",
          "name": "stdout",
          "text": [
            "lr\n",
            "    0.1\n"
          ]
        },
        {
          "output_type": "stream",
          "name": "stderr",
          "text": [
            "100%|██████████| 5/5 [00:10<00:00,  2.10s/it]\n"
          ]
        },
        {
          "output_type": "stream",
          "name": "stdout",
          "text": [
            "    0.001\n"
          ]
        },
        {
          "output_type": "stream",
          "name": "stderr",
          "text": [
            "100%|██████████| 5/5 [00:10<00:00,  2.20s/it]\n"
          ]
        },
        {
          "output_type": "stream",
          "name": "stdout",
          "text": [
            "    0.01\n"
          ]
        },
        {
          "output_type": "stream",
          "name": "stderr",
          "text": [
            "100%|██████████| 5/5 [00:11<00:00,  2.27s/it]\n"
          ]
        },
        {
          "output_type": "stream",
          "name": "stdout",
          "text": [
            "    1\n"
          ]
        },
        {
          "output_type": "stream",
          "name": "stderr",
          "text": [
            "100%|██████████| 5/5 [00:11<00:00,  2.27s/it]\n"
          ]
        },
        {
          "output_type": "stream",
          "name": "stdout",
          "text": [
            "    10\n"
          ]
        },
        {
          "output_type": "stream",
          "name": "stderr",
          "text": [
            "100%|██████████| 5/5 [00:11<00:00,  2.27s/it]\n"
          ]
        },
        {
          "output_type": "stream",
          "name": "stdout",
          "text": [
            "optimizer\n",
            "    <class 'torch.optim.sgd.SGD'>\n"
          ]
        },
        {
          "output_type": "stream",
          "name": "stderr",
          "text": [
            "100%|██████████| 5/5 [00:11<00:00,  2.25s/it]\n"
          ]
        },
        {
          "output_type": "stream",
          "name": "stdout",
          "text": [
            "    <class 'torch.optim.adam.Adam'>\n"
          ]
        },
        {
          "output_type": "stream",
          "name": "stderr",
          "text": [
            "100%|██████████| 5/5 [00:16<00:00,  3.27s/it]\n"
          ]
        },
        {
          "output_type": "stream",
          "name": "stdout",
          "text": [
            "    <class 'torch.optim.rmsprop.RMSprop'>\n"
          ]
        },
        {
          "output_type": "stream",
          "name": "stderr",
          "text": [
            "100%|██████████| 5/5 [00:13<00:00,  2.70s/it]\n"
          ]
        },
        {
          "output_type": "stream",
          "name": "stdout",
          "text": [
            "num_epochs\n",
            "    20\n"
          ]
        },
        {
          "output_type": "stream",
          "name": "stderr",
          "text": [
            "100%|██████████| 5/5 [00:07<00:00,  1.41s/it]\n"
          ]
        },
        {
          "output_type": "stream",
          "name": "stdout",
          "text": [
            "    10\n"
          ]
        },
        {
          "output_type": "stream",
          "name": "stderr",
          "text": [
            "100%|██████████| 5/5 [00:04<00:00,  1.19it/s]\n"
          ]
        },
        {
          "output_type": "stream",
          "name": "stdout",
          "text": [
            "    30\n"
          ]
        },
        {
          "output_type": "stream",
          "name": "stderr",
          "text": [
            "100%|██████████| 5/5 [00:10<00:00,  2.19s/it]\n"
          ]
        },
        {
          "output_type": "stream",
          "name": "stdout",
          "text": [
            "    40\n"
          ]
        },
        {
          "output_type": "stream",
          "name": "stderr",
          "text": [
            "100%|██████████| 5/5 [00:14<00:00,  2.96s/it]\n"
          ]
        },
        {
          "output_type": "stream",
          "name": "stdout",
          "text": [
            "batch_size\n",
            "    10\n"
          ]
        },
        {
          "output_type": "stream",
          "name": "stderr",
          "text": [
            "100%|██████████| 5/5 [00:27<00:00,  5.44s/it]\n"
          ]
        },
        {
          "output_type": "stream",
          "name": "stdout",
          "text": [
            "    20\n"
          ]
        },
        {
          "output_type": "stream",
          "name": "stderr",
          "text": [
            "100%|██████████| 5/5 [00:14<00:00,  2.94s/it]\n"
          ]
        },
        {
          "output_type": "stream",
          "name": "stdout",
          "text": [
            "    100\n"
          ]
        },
        {
          "output_type": "stream",
          "name": "stderr",
          "text": [
            "100%|██████████| 5/5 [00:04<00:00,  1.08it/s]\n"
          ]
        },
        {
          "output_type": "stream",
          "name": "stdout",
          "text": [
            "    500\n"
          ]
        },
        {
          "output_type": "stream",
          "name": "stderr",
          "text": [
            "100%|██████████| 5/5 [00:02<00:00,  1.79it/s]\n"
          ]
        },
        {
          "output_type": "stream",
          "name": "stdout",
          "text": [
            "criterion\n",
            "    <class 'torch.nn.modules.loss.MSELoss'>\n"
          ]
        },
        {
          "output_type": "stream",
          "name": "stderr",
          "text": [
            "100%|██████████| 5/5 [00:27<00:00,  5.46s/it]\n"
          ]
        }
      ]
    },
    {
      "cell_type": "code",
      "source": [
        "optimal,compact_doc(doc)"
      ],
      "metadata": {
        "id": "p2iZakuiFjbg",
        "colab": {
          "base_uri": "https://localhost:8080/"
        },
        "outputId": "332da67f-aca6-4c4c-c6ba-f1e2d21624a0"
      },
      "execution_count": 20,
      "outputs": [
        {
          "output_type": "execute_result",
          "data": {
            "text/plain": [
              "({'nb_hidden': 64,\n",
              "  'nb_layers': 4,\n",
              "  'activation': torch.nn.modules.activation.ReLU,\n",
              "  'lr': 0.01,\n",
              "  'optimizer': torch.optim.sgd.SGD,\n",
              "  'num_epochs': 40,\n",
              "  'batch_size': 10,\n",
              "  'criterion': torch.nn.modules.loss.MSELoss},\n",
              " {'nb_hidden': {8: {'val': -0.11624101251363753,\n",
              "    'test': -0.2703814297914505,\n",
              "    'dt': 2.1583290867999496},\n",
              "   16: {'val': -0.11106414198875426,\n",
              "    'test': -0.2740072995424271,\n",
              "    'dt': 2.194262480999987},\n",
              "   32: {'val': -0.11420551538467408,\n",
              "    'test': -0.25898059010505675,\n",
              "    'dt': 2.0197885475998647},\n",
              "   64: {'val': -0.10157180726528167,\n",
              "    'test': -0.2664705038070679,\n",
              "    'dt': 2.256518537399916},\n",
              "   128: {'val': -0.11013522297143936,\n",
              "    'test': -0.2526859849691391,\n",
              "    'dt': 2.3637444962000242}},\n",
              "  'nb_layers': {1: {'val': -0.10375754386186599,\n",
              "    'test': -0.25944543480873106,\n",
              "    'dt': 2.2668124317999627},\n",
              "   2: {'val': -0.11217548251152037,\n",
              "    'test': -0.2609983205795288,\n",
              "    'dt': 2.243936451199988},\n",
              "   3: {'val': -0.10790036022663116,\n",
              "    'test': -0.25409977734088895,\n",
              "    'dt': 2.246003964400006},\n",
              "   4: {'val': -0.10279441028833392,\n",
              "    'test': -0.26539739072322843,\n",
              "    'dt': 2.025945073000003},\n",
              "   5: {'val': -0.10666944235563279,\n",
              "    'test': -0.25935081839561464,\n",
              "    'dt': 2.234257636600023}},\n",
              "  'activation': {torch.nn.modules.activation.ReLU: {'val': -0.1036350354552269,\n",
              "    'test': -0.26770372092723843,\n",
              "    'dt': 2.2403049136000392},\n",
              "   torch.nn.modules.activation.Tanh: {'val': -0.1499982863664627,\n",
              "    'test': -0.1017781987786293,\n",
              "    'dt': 2.240603482399911},\n",
              "   torch.nn.modules.activation.Sigmoid: {'val': -0.21856249272823336,\n",
              "    'test': -0.12947897017002105,\n",
              "    'dt': 2.2311314695999953}},\n",
              "  'lr': {0.1: {'val': -0.13195309340953829,\n",
              "    'test': -0.24685507118701933,\n",
              "    'dt': 2.092347123200034},\n",
              "   0.001: {'val': -0.13072710931301118,\n",
              "    'test': -0.40184699296951293,\n",
              "    'dt': 2.19232790799997},\n",
              "   0.01: {'val': -0.10100646615028383,\n",
              "    'test': -0.2739263951778412,\n",
              "    'dt': 2.2689720798000512},\n",
              "   1: {'val': nan, 'test': nan, 'dt': 2.2636328778000006},\n",
              "   10: {'val': nan, 'test': nan, 'dt': 2.267042323400028}},\n",
              "  'optimizer': {torch.optim.sgd.SGD: {'val': -0.10437365770339965,\n",
              "    'test': -0.2672239482402801,\n",
              "    'dt': 2.241413251600034},\n",
              "   torch.optim.adam.Adam: {'val': -0.1250168949365616,\n",
              "    'test': -0.20496406853199006,\n",
              "    'dt': 3.2616073784000035},\n",
              "   torch.optim.rmsprop.RMSprop: {'val': -0.12969411462545397,\n",
              "    'test': -0.16811449825763702,\n",
              "    'dt': 2.689632141799984}},\n",
              "  'num_epochs': {20: {'val': -0.1106051191687584,\n",
              "    'test': -0.29651498794555664,\n",
              "    'dt': 1.404531433000011},\n",
              "   10: {'val': -0.11441027671098711,\n",
              "    'test': -0.3184972643852234,\n",
              "    'dt': 0.8326190119999866},\n",
              "   30: {'val': -0.10359842330217361,\n",
              "    'test': -0.2829516530036926,\n",
              "    'dt': 2.1855075287999624},\n",
              "   40: {'val': -0.10319161117076874,\n",
              "    'test': -0.2633390933275223,\n",
              "    'dt': 2.951571809199959}},\n",
              "  'batch_size': {10: {'val': -0.10291626155376433,\n",
              "    'test': -0.2700395107269287,\n",
              "    'dt': 5.4366178388000215},\n",
              "   20: {'val': -0.10394273847341537,\n",
              "    'test': -0.2528112083673477,\n",
              "    'dt': 2.929820430800101},\n",
              "   100: {'val': -0.11699956059455871,\n",
              "    'test': -0.28405354022979734,\n",
              "    'dt': 0.9172689982000066},\n",
              "   500: {'val': -0.144670969247818,\n",
              "    'test': -0.39502423405647275,\n",
              "    'dt': 0.5518147534000946}},\n",
              "  'criterion': {torch.nn.modules.loss.MSELoss: {'val': -0.10413439422845841,\n",
              "    'test': -0.2652565807104111,\n",
              "    'dt': 5.456713702199977}}})"
            ]
          },
          "metadata": {},
          "execution_count": 20
        }
      ]
    }
  ],
  "metadata": {
    "kernelspec": {
      "display_name": "Python 3",
      "language": "python",
      "name": "python3"
    },
    "language_info": {
      "codemirror_mode": {
        "name": "ipython",
        "version": 3
      },
      "file_extension": ".py",
      "mimetype": "text/x-python",
      "name": "python",
      "nbconvert_exporter": "python",
      "pygments_lexer": "ipython3",
      "version": "3.7.1"
    },
    "colab": {
      "provenance": []
    }
  },
  "nbformat": 4,
  "nbformat_minor": 0
}