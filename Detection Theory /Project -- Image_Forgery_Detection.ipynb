{
 "cells": [
  {
   "cell_type": "markdown",
   "metadata": {
    "id": "gRipX3ZQBvh6"
   },
   "source": [
    "\n",
    "\n",
    "### Moussa EL OUAFI: moussa.el_ouafi@ens-paris-saclay.fr\n",
    "\n",
    "# Project : Detection Theory.\n",
    "## **Image Forgery Detection Based on Statistical Features of Blcok DCT Coefficients**."
   ]
  },
  {
   "cell_type": "code",
   "execution_count": null,
   "metadata": {
    "colab": {
     "base_uri": "https://localhost:8080/"
    },
    "id": "Im7z-vdiBxVT",
    "outputId": "ac98eae7-1db1-400f-9e3e-31405fdb606a"
   },
   "outputs": [
    {
     "name": "stdout",
     "output_type": "stream",
     "text": [
      "Mounted at /content/gdrive\n"
     ]
    }
   ],
   "source": [
    "from google.colab import drive\n",
    "drive.mount('/content/gdrive')\n"
   ]
  },
  {
   "cell_type": "code",
   "execution_count": null,
   "metadata": {
    "id": "7YpQWHURS7ZP"
   },
   "outputs": [],
   "source": [
    "import numpy as np\n",
    "from skimage.util import view_as_windows\n",
    "from scipy.fftpack import dct"
   ]
  },
  {
   "cell_type": "code",
   "execution_count": null,
   "metadata": {
    "id": "HlwoJkzgdVYD"
   },
   "outputs": [],
   "source": [
    "def patches(image):\n",
    "    \"\"\"\n",
    "    Extract patches from an image.\n",
    "    Input : \n",
    "    - image_mat : The image as a matrix.\n",
    "    Output :\n",
    "    - The patches list.\n",
    "    \"\"\"\n",
    "\n",
    "    stride=8                      # The stride has the same value as the window's width, which allows the patches to be non-overlapping. \n",
    "    w, h = (8, 8)\n",
    "    image_mat=np.array(image)     # The image is being converted to a numpy array to undergo processing.\n",
    "  \n",
    "    windows = view_as_windows(image_mat, (w,h), step=stride)\n",
    "    patches = []\n",
    "    for m in range(w):\n",
    "        for n in range(h) :\n",
    "            patches = patches + [windows[m][n]]\n",
    "    return patches"
   ]
  },
  {
   "cell_type": "code",
   "execution_count": null,
   "metadata": {
    "id": "B3E6kXZ2dXmg"
   },
   "outputs": [],
   "source": [
    "def std_ones(blocks):\n",
    "\n",
    "  \"\"\"\n",
    "  Input : \n",
    "  - blocks matrix : Array of N non-overlapping blocks of size 8x8 of the image.\n",
    "  Output : \n",
    "  - ac_DCT_std : row-wise standard deviation of M_A, the matrix resulting of the columns-wise concatenation of AC coefficients for each block.\n",
    "  - nbr_ones : number of ones per row in M_A. \n",
    "  \"\"\"\n",
    "  \n",
    "  nbr_ones = []\n",
    "  M_A = []\n",
    "\n",
    "  for block in blocks:\n",
    "      DCT = dct(block, type=2, n=None, axis=-1, norm=None, overwrite_x=False)            # We apply DCT to each block.\n",
    "      DCT = DCT.flatten()               # We convert the 2d dct array to a 1d row array by flattening it.\n",
    "      ac_dct_row = DCT[1:]              # We only keep the 63 AC components and remove (the first) DC component. \n",
    "      M_A.append(ac_dct_row)\n",
    "\n",
    "  M_A = np.asarray(M_A) \n",
    "  M_A = M_A.T \n",
    "  ac_DCT_std = np.std(M_A, axis=1)      # We compute the row-wise standard-deviation.\n",
    "\n",
    "  r, c = M_A.shape\n",
    "  for i in range(r):\n",
    "      count_one = 0\n",
    "      for j in range(c):\n",
    "          if(M_A[i][j]>0):              # row-wise counting of number of ones.\n",
    "              count_one+=1\n",
    "      nbr_ones.append(count_one)\n",
    "  nbr_ones = np.asarray(nbr_ones)\n",
    "\n",
    "  return (ac_DCT_std, nbr_ones)"
   ]
  },
  {
   "cell_type": "code",
   "execution_count": null,
   "metadata": {
    "id": "HxH_1kHsdado"
   },
   "outputs": [],
   "source": [
    "def features_vector(sub_image):\n",
    "\n",
    "    \"\"\" Computes the feature vector of the sub-image.\n",
    "    \"\"\"\n",
    "\n",
    "    sub_image_blocks = patches(sub_image)                 # We divide the sub-image into N non-overlapping blocks of siwe 8x8.\n",
    "    sub_image_cropped = sub_image[4:,4:]                  # We crop the sub-image by removing 4 columns and 4 rows from the top left corner. \n",
    "    sub_image_cropped_blocks = patches(sub_image_cropped) # We divide the cropped sub-image in 8x8 sized blocks.\n",
    "\n",
    "    # We compute the std columns vector for both the sub-image and the cropped sub-image :\n",
    "    std_image, one_image = std_ones(sub_image_blocks)\n",
    "    std_cropped_image, one_cropped_image = std_ones(sub_image_cropped_blocks)\n",
    "\n",
    "    # We compute the feature vector by concatenating S.T, O.T, Sc.T and Oc.T (paper notation), then we flatten it column-wise : \n",
    "    F_sub_image=np.column_stack((std_image, one_image, std_cropped_image, one_cropped_image))\n",
    "    F_sub_image_flat=F_sub_image.T.flatten() \n",
    "    \n",
    "    return F_sub_image_flat"
   ]
  },
  {
   "cell_type": "code",
   "execution_count": null,
   "metadata": {
    "id": "pr-Rrf6XTYft"
   },
   "outputs": [],
   "source": [
    "import cv2\n",
    "import os"
   ]
  },
  {
   "cell_type": "code",
   "execution_count": null,
   "metadata": {
    "id": "pMvtgbpgdcnj"
   },
   "outputs": [],
   "source": [
    "def features(folder_path, label):\n",
    "\n",
    "    \"\"\" Computes the features vector for all images in a given path and stores them in a list \"\"\"\n",
    "\n",
    "    data_list=[]\n",
    "\n",
    "    # We loop over all the images in folder_path \n",
    "    for file_name in os.listdir(folder_path):\n",
    "        image_path = os.path.join(folder_path,file_name)\n",
    "        image = cv2.imread(image_path)\n",
    "        \n",
    "        if np.shape(image) == ():\n",
    "            continue\n",
    "        \n",
    "        image = cv2.cvtColor(image, cv2.COLOR_BGR2YCrCb) # Converting image color space from RGB to YCrCb.\n",
    "\n",
    "        # Extracting and storing the 3 channels separately\n",
    "        image_y = image[:,:,0] # the luminance channel.\n",
    "        image_cr = image[:,:,1] # the first chrominance channel Cr.\n",
    "        image_cb = image[:,:,2] # the second chrominance channel Cb.\n",
    "        \n",
    "        # We compute the feature vectors corresponding to each of the 3 sub-images\n",
    "        Fy = features_vector(image_y)\n",
    "        Fcr = features_vector(image_cr)\n",
    "        Fcb = features_vector(image_cb)\n",
    "\n",
    "        # We compute the finalfeatures vector as the concatenation of the 3 above features vectors\n",
    "        final_feature = np.concatenate((Fy, Fcb, Fcr), axis=None) \n",
    "        final_feature = list(final_feature)\n",
    "\n",
    "        # We add meta data to the list in order to identify the feature vector and the image it's been computed for, plus the label of the said image.\n",
    "        final_feature.insert(0,file_name)\n",
    "        final_feature.insert(1,label)\n",
    "        data_list.append(final_feature)\n",
    "        \n",
    "        \n",
    "    return(data_list)"
   ]
  },
  {
   "cell_type": "code",
   "execution_count": null,
   "metadata": {
    "id": "SLu8tJ7CVlmf"
   },
   "outputs": [],
   "source": [
    "import pandas as pd\n",
    "from sklearn.preprocessing import MinMaxScaler"
   ]
  },
  {
   "cell_type": "code",
   "execution_count": null,
   "metadata": {
    "colab": {
     "base_uri": "https://localhost:8080/"
    },
    "id": "msHo-jnLdezc",
    "outputId": "7b924d67-4ffa-48bc-9a31-8cdc64b73534"
   },
   "outputs": [
    {
     "name": "stdout",
     "output_type": "stream",
     "text": [
      "Precessing...\n",
      "Done.\n"
     ]
    }
   ],
   "source": [
    "Au_path = \"/content/gdrive/MyDrive/CASIA_new/Au\"\n",
    "Tp_path1 = \"/content/gdrive/MyDrive/CASIA_new/Tp/CM\"\n",
    "Tp_path2 = \"/content/gdrive/MyDrive/CASIA_new/Tp/Sp\"\n",
    "output_name = 'CASIA_new_features.csv'\n",
    "\n",
    "# Computing then storing the features vector for the3  distinct paths defined above\n",
    "print(\"Processing...\")\n",
    "data_list1 = features(Au_path, 0)\n",
    "data_list2 = features(Tp_path1, 1)\n",
    "data_list3 = features(Tp_path2, 1)\n",
    "\n",
    "# Transforming the lists of feature vectors into pandas dataframes, then concatenating them vertically.\n",
    "df = pd.DataFrame(data_list1)\n",
    "df = df.append(pd.DataFrame(data_list2), ignore_index=True)\n",
    "df = df.append(pd.DataFrame(data_list3), ignore_index=True)\n",
    "df.rename(columns = {0: \"image_names\", 1: \"label\"}, inplace = True)\n",
    "\n",
    "scaler_norm = MinMaxScaler() \n",
    "df.iloc[:,2:] = scaler_norm.fit_transform(df.iloc[:,2:].to_numpy()) # Normalising the values in dataframe.\n",
    "\n",
    "df.to_csv(output_name, index=False)\n",
    "print(\"Done.\")"
   ]
  },
  {
   "cell_type": "code",
   "execution_count": null,
   "metadata": {
    "id": "P2MMGo55ZA2g"
   },
   "outputs": [],
   "source": [
    "from sklearn.model_selection import train_test_split\n",
    "from sklearn.model_selection import KFold\n",
    "from sklearn.model_selection import cross_val_score\n",
    "from sklearn.model_selection import GridSearchCV\n",
    "from sklearn.metrics import classification_report\n",
    "from sklearn.metrics import confusion_matrix\n",
    "from sklearn.metrics import accuracy_score\n",
    "from sklearn.model_selection import cross_val_predict\n",
    "from sklearn.svm import SVC"
   ]
  },
  {
   "cell_type": "code",
   "execution_count": null,
   "metadata": {
    "colab": {
     "base_uri": "https://localhost:8080/"
    },
    "id": "K52OoKEm6Leu",
    "outputId": "d8ff86fb-9153-487b-faf4-84ece895982a"
   },
   "outputs": [
    {
     "name": "stdout",
     "output_type": "stream",
     "text": [
      "Precessing...\n",
      "X_Train shape: (1376, 756)\n",
      "Y_Train shape: (1376,)\n",
      "X_Test shape: (345, 756)\n",
      "Y_Test shape: (345,)\n"
     ]
    }
   ],
   "source": [
    "# We split the features and labels and store them in separate dataframes\n",
    "print(\"Processing...\", '\\n')\n",
    "features = df.iloc[:,2:]\n",
    "labels = df.iloc[:,1]\n",
    "\n",
    "# We train-test split the data at hand\n",
    "X_train, X_test, Y_train, Y_test = train_test_split(features, labels, test_size = 0.2, random_state = 5)\n",
    "print(f\"X_Train shape: {X_train.shape}\")\n",
    "print(f\"Y_Train shape: {Y_train.shape}\")\n",
    "print(f\"X_Test shape: {X_test.shape}\")\n",
    "print(f\"Y_Test shape: {Y_test.shape}\")"
   ]
  },
  {
   "cell_type": "markdown",
   "metadata": {
    "id": "ChBn42UYRP_G"
   },
   "source": [
    "# SVM Classifier"
   ]
  },
  {
   "cell_type": "code",
   "execution_count": null,
   "metadata": {
    "colab": {
     "base_uri": "https://localhost:8080/"
    },
    "id": "hjPIH3XV6Rfw",
    "outputId": "5c9406a8-178a-45fa-da96-6f2e708da2ca"
   },
   "outputs": [
    {
     "name": "stdout",
     "output_type": "stream",
     "text": [
      "Precessing...\n",
      "Accuracy : mean = 0.7819441772357963, and std = 0.02666304766048595.\n"
     ]
    }
   ],
   "source": [
    "# Initializing the SVM classifier\n",
    "print(f\"Precessing...\")\n",
    "model = SVC(kernel = 'rbf', C = 100, gamma = 0.001)\n",
    "\n",
    "# We train the classifier using cross-fold validation (7 folds in our case)\n",
    "kfold = KFold(n_splits = 7, shuffle = True)\n",
    "results = cross_val_score(model, X_train, Y_train, cv=kfold, scoring='accuracy')\n",
    "\n",
    "# We display the accuraccy\n",
    "print(\"Accuracy : mean = {0}, and std = {1}.\".format(results.mean(), results.std()))\n"
   ]
  },
  {
   "cell_type": "code",
   "execution_count": null,
   "metadata": {
    "colab": {
     "base_uri": "https://localhost:8080/"
    },
    "id": "WXw8mkL_IBpr",
    "outputId": "0119929c-e48c-4a1e-982b-1ed9a2bd6d18"
   },
   "outputs": [
    {
     "name": "stdout",
     "output_type": "stream",
     "text": [
      "Fitting 7 folds for each of 30 candidates, totalling 210 fits\n",
      "[CV 1/7] END ........C=10, gamma=10, kernel=rbf;, score=0.387 total time=   0.5s\n",
      "[CV 2/7] END ........C=10, gamma=10, kernel=rbf;, score=0.573 total time=   0.6s\n",
      "[CV 3/7] END ........C=10, gamma=10, kernel=rbf;, score=0.458 total time=   0.6s\n",
      "[CV 4/7] END ........C=10, gamma=10, kernel=rbf;, score=0.394 total time=   0.5s\n",
      "[CV 5/7] END ........C=10, gamma=10, kernel=rbf;, score=0.400 total time=   0.6s\n",
      "[CV 6/7] END ........C=10, gamma=10, kernel=rbf;, score=0.544 total time=   0.5s\n",
      "[CV 7/7] END ........C=10, gamma=10, kernel=rbf;, score=0.540 total time=   0.6s\n",
      "[CV 1/7] END .........C=10, gamma=1, kernel=rbf;, score=0.400 total time=   0.5s\n",
      "[CV 2/7] END .........C=10, gamma=1, kernel=rbf;, score=0.571 total time=   0.5s\n",
      "[CV 3/7] END .........C=10, gamma=1, kernel=rbf;, score=0.526 total time=   0.5s\n",
      "[CV 4/7] END .........C=10, gamma=1, kernel=rbf;, score=0.468 total time=   0.6s\n",
      "[CV 5/7] END .........C=10, gamma=1, kernel=rbf;, score=0.473 total time=   0.6s\n",
      "[CV 6/7] END .........C=10, gamma=1, kernel=rbf;, score=0.526 total time=   0.5s\n",
      "[CV 7/7] END .........C=10, gamma=1, kernel=rbf;, score=0.557 total time=   0.5s\n",
      "[CV 1/7] END .......C=10, gamma=0.1, kernel=rbf;, score=0.776 total time=   0.5s\n",
      "[CV 2/7] END .......C=10, gamma=0.1, kernel=rbf;, score=0.836 total time=   0.5s\n",
      "[CV 3/7] END .......C=10, gamma=0.1, kernel=rbf;, score=0.746 total time=   0.5s\n",
      "[CV 4/7] END .......C=10, gamma=0.1, kernel=rbf;, score=0.816 total time=   0.5s\n",
      "[CV 5/7] END .......C=10, gamma=0.1, kernel=rbf;, score=0.764 total time=   0.5s\n",
      "[CV 6/7] END .......C=10, gamma=0.1, kernel=rbf;, score=0.765 total time=   0.5s\n",
      "[CV 7/7] END .......C=10, gamma=0.1, kernel=rbf;, score=0.774 total time=   0.5s\n",
      "[CV 1/7] END ......C=10, gamma=0.01, kernel=rbf;, score=0.834 total time=   0.4s\n",
      "[CV 2/7] END ......C=10, gamma=0.01, kernel=rbf;, score=0.763 total time=   0.4s\n",
      "[CV 3/7] END ......C=10, gamma=0.01, kernel=rbf;, score=0.758 total time=   0.4s\n",
      "[CV 4/7] END ......C=10, gamma=0.01, kernel=rbf;, score=0.814 total time=   0.5s\n",
      "[CV 5/7] END ......C=10, gamma=0.01, kernel=rbf;, score=0.800 total time=   0.4s\n",
      "[CV 6/7] END ......C=10, gamma=0.01, kernel=rbf;, score=0.747 total time=   0.4s\n",
      "[CV 7/7] END ......C=10, gamma=0.01, kernel=rbf;, score=0.806 total time=   0.5s\n",
      "[CV 1/7] END .....C=10, gamma=0.001, kernel=rbf;, score=0.749 total time=   0.5s\n",
      "[CV 2/7] END .....C=10, gamma=0.001, kernel=rbf;, score=0.653 total time=   0.5s\n",
      "[CV 3/7] END .....C=10, gamma=0.001, kernel=rbf;, score=0.670 total time=   0.5s\n",
      "[CV 4/7] END .....C=10, gamma=0.001, kernel=rbf;, score=0.742 total time=   0.5s\n",
      "[CV 5/7] END .....C=10, gamma=0.001, kernel=rbf;, score=0.694 total time=   0.5s\n",
      "[CV 6/7] END .....C=10, gamma=0.001, kernel=rbf;, score=0.674 total time=   0.5s\n",
      "[CV 7/7] END .....C=10, gamma=0.001, kernel=rbf;, score=0.657 total time=   0.5s\n",
      "[CV 1/7] END ....C=10, gamma=0.0001, kernel=rbf;, score=0.657 total time=   0.6s\n",
      "[CV 2/7] END ....C=10, gamma=0.0001, kernel=rbf;, score=0.664 total time=   0.5s\n",
      "[CV 3/7] END ....C=10, gamma=0.0001, kernel=rbf;, score=0.675 total time=   0.5s\n",
      "[CV 4/7] END ....C=10, gamma=0.0001, kernel=rbf;, score=0.569 total time=   0.5s\n",
      "[CV 5/7] END ....C=10, gamma=0.0001, kernel=rbf;, score=0.576 total time=   0.5s\n",
      "[CV 6/7] END ....C=10, gamma=0.0001, kernel=rbf;, score=0.657 total time=   0.5s\n",
      "[CV 7/7] END ....C=10, gamma=0.0001, kernel=rbf;, score=0.677 total time=   0.5s\n",
      "[CV 1/7] END .......C=100, gamma=10, kernel=rbf;, score=0.387 total time=   0.5s\n",
      "[CV 2/7] END .......C=100, gamma=10, kernel=rbf;, score=0.573 total time=   0.6s\n",
      "[CV 3/7] END .......C=100, gamma=10, kernel=rbf;, score=0.458 total time=   0.5s\n",
      "[CV 4/7] END .......C=100, gamma=10, kernel=rbf;, score=0.394 total time=   0.5s\n",
      "[CV 5/7] END .......C=100, gamma=10, kernel=rbf;, score=0.400 total time=   0.5s\n",
      "[CV 6/7] END .......C=100, gamma=10, kernel=rbf;, score=0.544 total time=   0.5s\n",
      "[CV 7/7] END .......C=100, gamma=10, kernel=rbf;, score=0.540 total time=   0.6s\n",
      "[CV 1/7] END ........C=100, gamma=1, kernel=rbf;, score=0.400 total time=   0.5s\n",
      "[CV 2/7] END ........C=100, gamma=1, kernel=rbf;, score=0.571 total time=   0.5s\n",
      "[CV 3/7] END ........C=100, gamma=1, kernel=rbf;, score=0.526 total time=   0.5s\n",
      "[CV 4/7] END ........C=100, gamma=1, kernel=rbf;, score=0.468 total time=   0.5s\n",
      "[CV 5/7] END ........C=100, gamma=1, kernel=rbf;, score=0.473 total time=   0.5s\n",
      "[CV 6/7] END ........C=100, gamma=1, kernel=rbf;, score=0.526 total time=   0.5s\n",
      "[CV 7/7] END ........C=100, gamma=1, kernel=rbf;, score=0.557 total time=   0.5s\n",
      "[CV 1/7] END ......C=100, gamma=0.1, kernel=rbf;, score=0.780 total time=   0.5s\n",
      "[CV 2/7] END ......C=100, gamma=0.1, kernel=rbf;, score=0.830 total time=   0.5s\n",
      "[CV 3/7] END ......C=100, gamma=0.1, kernel=rbf;, score=0.758 total time=   0.5s\n",
      "[CV 4/7] END ......C=100, gamma=0.1, kernel=rbf;, score=0.823 total time=   0.5s\n",
      "[CV 5/7] END ......C=100, gamma=0.1, kernel=rbf;, score=0.766 total time=   0.5s\n",
      "[CV 6/7] END ......C=100, gamma=0.1, kernel=rbf;, score=0.772 total time=   0.5s\n",
      "[CV 7/7] END ......C=100, gamma=0.1, kernel=rbf;, score=0.761 total time=   0.5s\n",
      "[CV 1/7] END .....C=100, gamma=0.01, kernel=rbf;, score=0.856 total time=   0.4s\n",
      "[CV 2/7] END .....C=100, gamma=0.01, kernel=rbf;, score=0.831 total time=   0.4s\n",
      "[CV 3/7] END .....C=100, gamma=0.01, kernel=rbf;, score=0.825 total time=   0.4s\n",
      "[CV 4/7] END .....C=100, gamma=0.01, kernel=rbf;, score=0.836 total time=   0.4s\n",
      "[CV 5/7] END .....C=100, gamma=0.01, kernel=rbf;, score=0.842 total time=   0.4s\n",
      "[CV 6/7] END .....C=100, gamma=0.01, kernel=rbf;, score=0.806 total time=   0.4s\n",
      "[CV 7/7] END .....C=100, gamma=0.01, kernel=rbf;, score=0.841 total time=   0.4s\n",
      "[CV 1/7] END ....C=100, gamma=0.001, kernel=rbf;, score=0.810 total time=   0.4s\n",
      "[CV 2/7] END ....C=100, gamma=0.001, kernel=rbf;, score=0.772 total time=   0.4s\n",
      "[CV 3/7] END ....C=100, gamma=0.001, kernel=rbf;, score=0.784 total time=   0.4s\n",
      "[CV 4/7] END ....C=100, gamma=0.001, kernel=rbf;, score=0.786 total time=   0.4s\n",
      "[CV 5/7] END ....C=100, gamma=0.001, kernel=rbf;, score=0.791 total time=   0.4s\n",
      "[CV 6/7] END ....C=100, gamma=0.001, kernel=rbf;, score=0.739 total time=   0.4s\n",
      "[CV 7/7] END ....C=100, gamma=0.001, kernel=rbf;, score=0.790 total time=   0.4s\n",
      "[CV 1/7] END ...C=100, gamma=0.0001, kernel=rbf;, score=0.736 total time=   0.5s\n",
      "[CV 2/7] END ...C=100, gamma=0.0001, kernel=rbf;, score=0.650 total time=   0.5s\n",
      "[CV 3/7] END ...C=100, gamma=0.0001, kernel=rbf;, score=0.683 total time=   0.5s\n",
      "[CV 4/7] END ...C=100, gamma=0.0001, kernel=rbf;, score=0.739 total time=   0.5s\n",
      "[CV 5/7] END ...C=100, gamma=0.0001, kernel=rbf;, score=0.703 total time=   0.5s\n",
      "[CV 6/7] END ...C=100, gamma=0.0001, kernel=rbf;, score=0.681 total time=   0.5s\n",
      "[CV 7/7] END ...C=100, gamma=0.0001, kernel=rbf;, score=0.653 total time=   0.5s\n",
      "[CV 1/7] END .......C=400, gamma=10, kernel=rbf;, score=0.387 total time=   0.5s\n",
      "[CV 2/7] END .......C=400, gamma=10, kernel=rbf;, score=0.573 total time=   0.5s\n",
      "[CV 3/7] END .......C=400, gamma=10, kernel=rbf;, score=0.458 total time=   0.6s\n",
      "[CV 4/7] END .......C=400, gamma=10, kernel=rbf;, score=0.394 total time=   0.6s\n",
      "[CV 5/7] END .......C=400, gamma=10, kernel=rbf;, score=0.400 total time=   0.6s\n",
      "[CV 6/7] END .......C=400, gamma=10, kernel=rbf;, score=0.544 total time=   0.6s\n",
      "[CV 7/7] END .......C=400, gamma=10, kernel=rbf;, score=0.540 total time=   0.5s\n",
      "[CV 1/7] END ........C=400, gamma=1, kernel=rbf;, score=0.400 total time=   0.5s\n",
      "[CV 2/7] END ........C=400, gamma=1, kernel=rbf;, score=0.571 total time=   0.5s\n",
      "[CV 3/7] END ........C=400, gamma=1, kernel=rbf;, score=0.526 total time=   0.5s\n",
      "[CV 4/7] END ........C=400, gamma=1, kernel=rbf;, score=0.468 total time=   0.5s\n",
      "[CV 5/7] END ........C=400, gamma=1, kernel=rbf;, score=0.473 total time=   0.5s\n",
      "[CV 6/7] END ........C=400, gamma=1, kernel=rbf;, score=0.526 total time=   0.5s\n",
      "[CV 7/7] END ........C=400, gamma=1, kernel=rbf;, score=0.557 total time=   0.5s\n",
      "[CV 1/7] END ......C=400, gamma=0.1, kernel=rbf;, score=0.776 total time=   0.5s\n",
      "[CV 2/7] END ......C=400, gamma=0.1, kernel=rbf;, score=0.830 total time=   0.5s\n",
      "[CV 3/7] END ......C=400, gamma=0.1, kernel=rbf;, score=0.758 total time=   0.5s\n",
      "[CV 4/7] END ......C=400, gamma=0.1, kernel=rbf;, score=0.823 total time=   0.5s\n",
      "[CV 5/7] END ......C=400, gamma=0.1, kernel=rbf;, score=0.766 total time=   0.5s\n",
      "[CV 6/7] END ......C=400, gamma=0.1, kernel=rbf;, score=0.772 total time=   0.5s\n",
      "[CV 7/7] END ......C=400, gamma=0.1, kernel=rbf;, score=0.761 total time=   0.5s\n",
      "[CV 1/7] END .....C=400, gamma=0.01, kernel=rbf;, score=0.864 total time=   0.5s\n",
      "[CV 2/7] END .....C=400, gamma=0.01, kernel=rbf;, score=0.834 total time=   0.5s\n",
      "[CV 3/7] END .....C=400, gamma=0.01, kernel=rbf;, score=0.813 total time=   0.5s\n",
      "[CV 4/7] END .....C=400, gamma=0.01, kernel=rbf;, score=0.830 total time=   0.5s\n",
      "[CV 5/7] END .....C=400, gamma=0.01, kernel=rbf;, score=0.835 total time=   0.5s\n",
      "[CV 6/7] END .....C=400, gamma=0.01, kernel=rbf;, score=0.808 total time=   0.5s\n",
      "[CV 7/7] END .....C=400, gamma=0.01, kernel=rbf;, score=0.837 total time=   0.5s\n",
      "[CV 1/7] END ....C=400, gamma=0.001, kernel=rbf;, score=0.804 total time=   0.4s\n",
      "[CV 2/7] END ....C=400, gamma=0.001, kernel=rbf;, score=0.789 total time=   0.4s\n",
      "[CV 3/7] END ....C=400, gamma=0.001, kernel=rbf;, score=0.780 total time=   0.4s\n",
      "[CV 4/7] END ....C=400, gamma=0.001, kernel=rbf;, score=0.816 total time=   0.4s\n",
      "[CV 5/7] END ....C=400, gamma=0.001, kernel=rbf;, score=0.827 total time=   0.4s\n",
      "[CV 6/7] END ....C=400, gamma=0.001, kernel=rbf;, score=0.750 total time=   0.4s\n",
      "[CV 7/7] END ....C=400, gamma=0.001, kernel=rbf;, score=0.796 total time=   0.4s\n",
      "[CV 1/7] END ...C=400, gamma=0.0001, kernel=rbf;, score=0.790 total time=   0.4s\n",
      "[CV 2/7] END ...C=400, gamma=0.0001, kernel=rbf;, score=0.699 total time=   0.4s\n",
      "[CV 3/7] END ...C=400, gamma=0.0001, kernel=rbf;, score=0.768 total time=   0.5s\n",
      "[CV 4/7] END ...C=400, gamma=0.0001, kernel=rbf;, score=0.786 total time=   0.5s\n",
      "[CV 5/7] END ...C=400, gamma=0.0001, kernel=rbf;, score=0.744 total time=   0.4s\n",
      "[CV 6/7] END ...C=400, gamma=0.0001, kernel=rbf;, score=0.708 total time=   0.5s\n",
      "[CV 7/7] END ...C=400, gamma=0.0001, kernel=rbf;, score=0.741 total time=   0.5s\n",
      "[CV 1/7] END .......C=500, gamma=10, kernel=rbf;, score=0.387 total time=   0.5s\n",
      "[CV 2/7] END .......C=500, gamma=10, kernel=rbf;, score=0.573 total time=   0.6s\n",
      "[CV 3/7] END .......C=500, gamma=10, kernel=rbf;, score=0.458 total time=   0.5s\n",
      "[CV 4/7] END .......C=500, gamma=10, kernel=rbf;, score=0.394 total time=   0.5s\n",
      "[CV 5/7] END .......C=500, gamma=10, kernel=rbf;, score=0.400 total time=   0.5s\n",
      "[CV 6/7] END .......C=500, gamma=10, kernel=rbf;, score=0.544 total time=   0.5s\n",
      "[CV 7/7] END .......C=500, gamma=10, kernel=rbf;, score=0.540 total time=   0.5s\n",
      "[CV 1/7] END ........C=500, gamma=1, kernel=rbf;, score=0.400 total time=   0.5s\n",
      "[CV 2/7] END ........C=500, gamma=1, kernel=rbf;, score=0.571 total time=   0.5s\n",
      "[CV 3/7] END ........C=500, gamma=1, kernel=rbf;, score=0.526 total time=   0.5s\n",
      "[CV 4/7] END ........C=500, gamma=1, kernel=rbf;, score=0.468 total time=   0.5s\n",
      "[CV 5/7] END ........C=500, gamma=1, kernel=rbf;, score=0.473 total time=   0.5s\n",
      "[CV 6/7] END ........C=500, gamma=1, kernel=rbf;, score=0.526 total time=   0.5s\n",
      "[CV 7/7] END ........C=500, gamma=1, kernel=rbf;, score=0.557 total time=   0.5s\n",
      "[CV 1/7] END ......C=500, gamma=0.1, kernel=rbf;, score=0.776 total time=   0.5s\n",
      "[CV 2/7] END ......C=500, gamma=0.1, kernel=rbf;, score=0.830 total time=   0.5s\n",
      "[CV 3/7] END ......C=500, gamma=0.1, kernel=rbf;, score=0.758 total time=   0.5s\n",
      "[CV 4/7] END ......C=500, gamma=0.1, kernel=rbf;, score=0.823 total time=   0.5s\n",
      "[CV 5/7] END ......C=500, gamma=0.1, kernel=rbf;, score=0.766 total time=   0.5s\n",
      "[CV 6/7] END ......C=500, gamma=0.1, kernel=rbf;, score=0.772 total time=   0.5s\n",
      "[CV 7/7] END ......C=500, gamma=0.1, kernel=rbf;, score=0.761 total time=   0.5s\n",
      "[CV 1/7] END .....C=500, gamma=0.01, kernel=rbf;, score=0.864 total time=   0.5s\n",
      "[CV 2/7] END .....C=500, gamma=0.01, kernel=rbf;, score=0.830 total time=   0.5s\n",
      "[CV 3/7] END .....C=500, gamma=0.01, kernel=rbf;, score=0.813 total time=   0.5s\n",
      "[CV 4/7] END .....C=500, gamma=0.01, kernel=rbf;, score=0.825 total time=   0.5s\n",
      "[CV 5/7] END .....C=500, gamma=0.01, kernel=rbf;, score=0.840 total time=   0.5s\n",
      "[CV 6/7] END .....C=500, gamma=0.01, kernel=rbf;, score=0.808 total time=   0.5s\n",
      "[CV 7/7] END .....C=500, gamma=0.01, kernel=rbf;, score=0.842 total time=   0.5s\n",
      "[CV 1/7] END ....C=500, gamma=0.001, kernel=rbf;, score=0.804 total time=   0.4s\n",
      "[CV 2/7] END ....C=500, gamma=0.001, kernel=rbf;, score=0.783 total time=   0.4s\n",
      "[CV 3/7] END ....C=500, gamma=0.001, kernel=rbf;, score=0.798 total time=   0.4s\n",
      "[CV 4/7] END ....C=500, gamma=0.001, kernel=rbf;, score=0.824 total time=   0.4s\n",
      "[CV 5/7] END ....C=500, gamma=0.001, kernel=rbf;, score=0.817 total time=   0.4s\n",
      "[CV 6/7] END ....C=500, gamma=0.001, kernel=rbf;, score=0.757 total time=   0.4s\n",
      "[CV 7/7] END ....C=500, gamma=0.001, kernel=rbf;, score=0.804 total time=   0.4s\n",
      "[CV 1/7] END ...C=500, gamma=0.0001, kernel=rbf;, score=0.806 total time=   0.5s\n",
      "[CV 2/7] END ...C=500, gamma=0.0001, kernel=rbf;, score=0.693 total time=   0.4s\n",
      "[CV 3/7] END ...C=500, gamma=0.0001, kernel=rbf;, score=0.768 total time=   0.5s\n",
      "[CV 4/7] END ...C=500, gamma=0.0001, kernel=rbf;, score=0.789 total time=   0.5s\n",
      "[CV 5/7] END ...C=500, gamma=0.0001, kernel=rbf;, score=0.768 total time=   0.5s\n",
      "[CV 6/7] END ...C=500, gamma=0.0001, kernel=rbf;, score=0.710 total time=   0.5s\n",
      "[CV 7/7] END ...C=500, gamma=0.0001, kernel=rbf;, score=0.774 total time=   0.4s\n",
      "[CV 1/7] END .......C=900, gamma=10, kernel=rbf;, score=0.387 total time=   0.5s\n",
      "[CV 2/7] END .......C=900, gamma=10, kernel=rbf;, score=0.573 total time=   0.5s\n",
      "[CV 3/7] END .......C=900, gamma=10, kernel=rbf;, score=0.458 total time=   0.6s\n",
      "[CV 4/7] END .......C=900, gamma=10, kernel=rbf;, score=0.394 total time=   0.6s\n",
      "[CV 5/7] END .......C=900, gamma=10, kernel=rbf;, score=0.400 total time=   0.6s\n",
      "[CV 6/7] END .......C=900, gamma=10, kernel=rbf;, score=0.544 total time=   0.6s\n",
      "[CV 7/7] END .......C=900, gamma=10, kernel=rbf;, score=0.540 total time=   0.5s\n",
      "[CV 1/7] END ........C=900, gamma=1, kernel=rbf;, score=0.400 total time=   0.5s\n",
      "[CV 2/7] END ........C=900, gamma=1, kernel=rbf;, score=0.571 total time=   0.5s\n",
      "[CV 3/7] END ........C=900, gamma=1, kernel=rbf;, score=0.526 total time=   0.5s\n",
      "[CV 4/7] END ........C=900, gamma=1, kernel=rbf;, score=0.468 total time=   0.5s\n",
      "[CV 5/7] END ........C=900, gamma=1, kernel=rbf;, score=0.473 total time=   0.5s\n",
      "[CV 6/7] END ........C=900, gamma=1, kernel=rbf;, score=0.526 total time=   0.5s\n",
      "[CV 7/7] END ........C=900, gamma=1, kernel=rbf;, score=0.557 total time=   0.5s\n",
      "[CV 1/7] END ......C=900, gamma=0.1, kernel=rbf;, score=0.776 total time=   0.5s\n",
      "[CV 2/7] END ......C=900, gamma=0.1, kernel=rbf;, score=0.830 total time=   0.5s\n",
      "[CV 3/7] END ......C=900, gamma=0.1, kernel=rbf;, score=0.758 total time=   0.5s\n",
      "[CV 4/7] END ......C=900, gamma=0.1, kernel=rbf;, score=0.823 total time=   0.5s\n",
      "[CV 5/7] END ......C=900, gamma=0.1, kernel=rbf;, score=0.766 total time=   0.5s\n",
      "[CV 6/7] END ......C=900, gamma=0.1, kernel=rbf;, score=0.772 total time=   0.5s\n",
      "[CV 7/7] END ......C=900, gamma=0.1, kernel=rbf;, score=0.761 total time=   0.5s\n",
      "[CV 1/7] END .....C=900, gamma=0.01, kernel=rbf;, score=0.859 total time=   0.5s\n",
      "[CV 2/7] END .....C=900, gamma=0.01, kernel=rbf;, score=0.830 total time=   0.5s\n",
      "[CV 3/7] END .....C=900, gamma=0.01, kernel=rbf;, score=0.813 total time=   0.5s\n",
      "[CV 4/7] END .....C=900, gamma=0.01, kernel=rbf;, score=0.809 total time=   0.5s\n",
      "[CV 5/7] END .....C=900, gamma=0.01, kernel=rbf;, score=0.833 total time=   0.5s\n",
      "[CV 6/7] END .....C=900, gamma=0.01, kernel=rbf;, score=0.827 total time=   0.5s\n",
      "[CV 7/7] END .....C=900, gamma=0.01, kernel=rbf;, score=0.820 total time=   0.5s\n",
      "[CV 1/7] END ....C=900, gamma=0.001, kernel=rbf;, score=0.843 total time=   0.4s\n",
      "[CV 2/7] END ....C=900, gamma=0.001, kernel=rbf;, score=0.798 total time=   0.4s\n",
      "[CV 3/7] END ....C=900, gamma=0.001, kernel=rbf;, score=0.808 total time=   0.4s\n",
      "[CV 4/7] END ....C=900, gamma=0.001, kernel=rbf;, score=0.836 total time=   0.4s\n",
      "[CV 5/7] END ....C=900, gamma=0.001, kernel=rbf;, score=0.795 total time=   0.4s\n",
      "[CV 6/7] END ....C=900, gamma=0.001, kernel=rbf;, score=0.766 total time=   0.4s\n",
      "[CV 7/7] END ....C=900, gamma=0.001, kernel=rbf;, score=0.817 total time=   0.4s\n",
      "[CV 1/7] END ...C=900, gamma=0.0001, kernel=rbf;, score=0.826 total time=   0.4s\n",
      "[CV 2/7] END ...C=900, gamma=0.0001, kernel=rbf;, score=0.749 total time=   0.4s\n",
      "[CV 3/7] END ...C=900, gamma=0.0001, kernel=rbf;, score=0.796 total time=   0.4s\n",
      "[CV 4/7] END ...C=900, gamma=0.0001, kernel=rbf;, score=0.791 total time=   0.4s\n",
      "[CV 5/7] END ...C=900, gamma=0.0001, kernel=rbf;, score=0.782 total time=   0.4s\n",
      "[CV 6/7] END ...C=900, gamma=0.0001, kernel=rbf;, score=0.707 total time=   0.4s\n",
      "[CV 7/7] END ...C=900, gamma=0.0001, kernel=rbf;, score=0.744 total time=   0.4s\n",
      "Best score = 0.8336609784600674, \n",
      "Best combination of hyperparameters = {'C': 100, 'gamma': 0.01, 'kernel': 'rbf'}.\n"
     ]
    }
   ],
   "source": [
    "# Hyperparameters tuning\n",
    "\n",
    "model=SVC()                         # We intitialize the model\n",
    "\n",
    "# We look for best hyperparams using GridSearchCV\n",
    "kfold=KFold(n_splits=7)\n",
    "param_grid = {'C': [10, 100, 400, 500,900], \n",
    "              'gamma': [ 10, 1, 0.1, 0.01, 0.001, 0.0001],\n",
    "              'kernel': [ 'rbf']} \n",
    "\n",
    "grid = GridSearchCV(estimator = model, param_grid = param_grid, scoring='f1', cv = kfold, verbose = 3)\n",
    "results = grid.fit(X_train , Y_train)\n",
    "\n",
    "## save best parameters\n",
    "svm_params=results.best_params_\n",
    "\n",
    "# Displaying best hyperparameters combination and the corresponding score \n",
    "print(\"Best score = {0}, \\nBest combination of hyperparameters = {1}.\".format(results.best_score_,results.best_params_))"
   ]
  },
  {
   "cell_type": "code",
   "execution_count": null,
   "metadata": {
    "colab": {
     "base_uri": "https://localhost:8080/"
    },
    "id": "MHvwyT4iKpfF",
    "outputId": "7b74a0ed-4162-4bed-b334-7fd825eec526"
   },
   "outputs": [
    {
     "name": "stdout",
     "output_type": "stream",
     "text": [
      "Best score = 0.8336609784600674, Best combination of hyperparameters = {'C': 100, 'gamma': 0.01, 'kernel': 'rbf'}.\n"
     ]
    }
   ],
   "source": [
    "print(\"Best score = {0}, Best combination of hyperparameters = {1}.\".format(results.best_score_,results.best_params_))"
   ]
  },
  {
   "cell_type": "code",
   "execution_count": null,
   "metadata": {
    "colab": {
     "base_uri": "https://localhost:8080/"
    },
    "id": "2D5A1KZwLJfN",
    "outputId": "a5d82e14-4e79-4a3e-d772-1563a4cf2071"
   },
   "outputs": [
    {
     "name": "stdout",
     "output_type": "stream",
     "text": [
      "Confusion Matrix:\n",
      " [[124  25]\n",
      " [ 33 163]] \n",
      "\n",
      "SVM Metrics:\n",
      "               precision    recall  f1-score   support\n",
      "\n",
      "           0       0.79      0.83      0.81       149\n",
      "           1       0.87      0.83      0.85       196\n",
      "\n",
      "    accuracy                           0.83       345\n",
      "   macro avg       0.83      0.83      0.83       345\n",
      "weighted avg       0.83      0.83      0.83       345\n",
      " \n",
      "\n"
     ]
    }
   ],
   "source": [
    "from sklearn.metrics import roc_curve\n",
    "\n",
    "# We train the best model \n",
    "model_SVC = SVC(C=100,gamma=0.01, kernel='rbf', probability=True)\n",
    "model_SVC.fit(X_train,Y_train) \n",
    "\n",
    "# We use the trained model it to compute the predictions \n",
    "predictions_1 = model_SVC.predict(X_test)\n",
    "\n",
    "# We display some metrics\n",
    "print(\"Confusion Matrix:\\n\", confusion_matrix(Y_test,predictions_1), \"\\n\")\n",
    "print(\"SVM Metrics:\\n\", classification_report(Y_test,predictions_1),'\\n')\n",
    "\n",
    "y_scores_1 = cross_val_predict(model_SVC, X_train, Y_train, cv=5, method=\"decision_function\")\n",
    "fpr_svm, tpr_svm, thresholds_svm = roc_curve(Y_train, y_scores_1)\n",
    "\n",
    "probat = cross_val_predict(model_SVC, X_test, Y_test, cv=7, method=\"predict_proba\")\n",
    "\n",
    "yt_scores_1 = probat[:,1]"
   ]
  },
  {
   "cell_type": "markdown",
   "metadata": {
    "id": "CrOor_WRRLcv"
   },
   "source": [
    "# XGBoost Classifier"
   ]
  },
  {
   "cell_type": "code",
   "execution_count": null,
   "metadata": {
    "id": "FPRUyKdACNU9"
   },
   "outputs": [],
   "source": [
    "import xgboost as xgb\n",
    "from xgboost import XGBClassifier"
   ]
  },
  {
   "cell_type": "code",
   "execution_count": null,
   "metadata": {
    "colab": {
     "base_uri": "https://localhost:8080/"
    },
    "id": "foEEh_JQCVWk",
    "outputId": "793d9991-88ea-4ba3-cc81-a974f7164390"
   },
   "outputs": [
    {
     "data": {
      "text/plain": [
       "XGBClassifier(alpha=0.015, base_score=0.2, eval_metric='aucpr',\n",
       "              learning_rate=0.4)"
      ]
     },
     "execution_count": 43,
     "metadata": {},
     "output_type": "execute_result"
    }
   ],
   "source": [
    "model = XGBClassifier(max_depth=3, learning_rate=0.4, alpha=0.015, base_score=0.2, eval_metric='aucpr')\n",
    "model.fit(X_train, Y_train)"
   ]
  },
  {
   "cell_type": "code",
   "execution_count": null,
   "metadata": {
    "id": "Lib3IEMMCnIr"
   },
   "outputs": [],
   "source": [
    "Y_pred = model.predict(X_test)\n",
    "predictions_2 = [round(value) for value in Y_pred]"
   ]
  },
  {
   "cell_type": "code",
   "execution_count": null,
   "metadata": {
    "colab": {
     "base_uri": "https://localhost:8080/"
    },
    "id": "ZFjlSRGDC5CW",
    "outputId": "4d298274-22a2-4e8d-b905-3e49407458cd"
   },
   "outputs": [
    {
     "name": "stdout",
     "output_type": "stream",
     "text": [
      "0.8144927536231884\n",
      "[[123  26]\n",
      " [ 38 158]]\n",
      "              precision    recall  f1-score   support\n",
      "\n",
      "           0       0.76      0.83      0.79       149\n",
      "           1       0.86      0.81      0.83       196\n",
      "\n",
      "    accuracy                           0.81       345\n",
      "   macro avg       0.81      0.82      0.81       345\n",
      "weighted avg       0.82      0.81      0.82       345\n",
      "\n"
     ]
    }
   ],
   "source": [
    "print(confusion_matrix(Y_test,predictions_2))\n",
    "print(\"XGBoost metrics\", classification_report(Y_test,predictions_2))"
   ]
  },
  {
   "cell_type": "code",
   "execution_count": null,
   "metadata": {
    "colab": {
     "base_uri": "https://localhost:8080/"
    },
    "id": "cd6LbRxLC7LD",
    "outputId": "11227952-42b6-42d1-9224-182ce362d68e"
   },
   "outputs": [
    {
     "name": "stdout",
     "output_type": "stream",
     "text": [
      "Fitting 7 folds for each of 48 candidates, totalling 336 fits\n",
      "[CV 1/7] END eval_metric=aucpr, learning_rate=0.001, max_depth=1;, score=0.478 total time=   2.2s\n",
      "[CV 2/7] END eval_metric=aucpr, learning_rate=0.001, max_depth=1;, score=0.487 total time=   1.6s\n",
      "[CV 3/7] END eval_metric=aucpr, learning_rate=0.001, max_depth=1;, score=0.580 total time=   1.5s\n",
      "[CV 4/7] END eval_metric=aucpr, learning_rate=0.001, max_depth=1;, score=0.576 total time=   1.8s\n",
      "[CV 5/7] END eval_metric=aucpr, learning_rate=0.001, max_depth=1;, score=0.494 total time=   3.8s\n",
      "[CV 6/7] END eval_metric=aucpr, learning_rate=0.001, max_depth=1;, score=0.485 total time=   3.2s\n",
      "[CV 7/7] END eval_metric=aucpr, learning_rate=0.001, max_depth=1;, score=0.403 total time=   2.0s\n",
      "[CV 1/7] END eval_metric=aucpr, learning_rate=0.001, max_depth=2;, score=0.657 total time=   3.3s\n",
      "[CV 2/7] END eval_metric=aucpr, learning_rate=0.001, max_depth=2;, score=0.657 total time=   2.7s\n",
      "[CV 3/7] END eval_metric=aucpr, learning_rate=0.001, max_depth=2;, score=0.621 total time=   2.7s\n",
      "[CV 4/7] END eval_metric=aucpr, learning_rate=0.001, max_depth=2;, score=0.688 total time=   2.6s\n",
      "[CV 5/7] END eval_metric=aucpr, learning_rate=0.001, max_depth=2;, score=0.650 total time=   2.6s\n",
      "[CV 6/7] END eval_metric=aucpr, learning_rate=0.001, max_depth=2;, score=0.639 total time=   2.7s\n",
      "[CV 7/7] END eval_metric=aucpr, learning_rate=0.001, max_depth=2;, score=0.400 total time=   2.6s\n",
      "[CV 1/7] END eval_metric=aucpr, learning_rate=0.001, max_depth=3;, score=0.647 total time=   3.9s\n",
      "[CV 2/7] END eval_metric=aucpr, learning_rate=0.001, max_depth=3;, score=0.627 total time=   4.0s\n",
      "[CV 3/7] END eval_metric=aucpr, learning_rate=0.001, max_depth=3;, score=0.719 total time=   4.0s\n",
      "[CV 4/7] END eval_metric=aucpr, learning_rate=0.001, max_depth=3;, score=0.730 total time=   4.1s\n",
      "[CV 5/7] END eval_metric=aucpr, learning_rate=0.001, max_depth=3;, score=0.597 total time=   4.1s\n",
      "[CV 6/7] END eval_metric=aucpr, learning_rate=0.001, max_depth=3;, score=0.628 total time=   4.1s\n",
      "[CV 7/7] END eval_metric=aucpr, learning_rate=0.001, max_depth=3;, score=0.571 total time=   4.1s\n",
      "[CV 1/7] END eval_metric=aucpr, learning_rate=0.001, max_depth=4;, score=0.731 total time=   5.5s\n",
      "[CV 2/7] END eval_metric=aucpr, learning_rate=0.001, max_depth=4;, score=0.597 total time=   5.5s\n",
      "[CV 3/7] END eval_metric=aucpr, learning_rate=0.001, max_depth=4;, score=0.745 total time=   5.6s\n",
      "[CV 4/7] END eval_metric=aucpr, learning_rate=0.001, max_depth=4;, score=0.737 total time=   5.5s\n",
      "[CV 5/7] END eval_metric=aucpr, learning_rate=0.001, max_depth=4;, score=0.646 total time=   5.5s\n",
      "[CV 6/7] END eval_metric=aucpr, learning_rate=0.001, max_depth=4;, score=0.659 total time=   6.0s\n",
      "[CV 7/7] END eval_metric=aucpr, learning_rate=0.001, max_depth=4;, score=0.650 total time=   5.5s\n",
      "[CV 1/7] END eval_metric=aucpr, learning_rate=0.001, max_depth=5;, score=0.751 total time=   9.6s\n",
      "[CV 2/7] END eval_metric=aucpr, learning_rate=0.001, max_depth=5;, score=0.667 total time=   7.2s\n",
      "[CV 3/7] END eval_metric=aucpr, learning_rate=0.001, max_depth=5;, score=0.768 total time=   7.1s\n",
      "[CV 4/7] END eval_metric=aucpr, learning_rate=0.001, max_depth=5;, score=0.786 total time=   7.0s\n",
      "[CV 5/7] END eval_metric=aucpr, learning_rate=0.001, max_depth=5;, score=0.657 total time=   7.0s\n",
      "[CV 6/7] END eval_metric=aucpr, learning_rate=0.001, max_depth=5;, score=0.734 total time=   7.1s\n",
      "[CV 7/7] END eval_metric=aucpr, learning_rate=0.001, max_depth=5;, score=0.694 total time=   7.1s\n",
      "[CV 1/7] END eval_metric=aucpr, learning_rate=0.001, max_depth=6;, score=0.782 total time=   8.6s\n",
      "[CV 2/7] END eval_metric=aucpr, learning_rate=0.001, max_depth=6;, score=0.749 total time=   8.6s\n",
      "[CV 3/7] END eval_metric=aucpr, learning_rate=0.001, max_depth=6;, score=0.768 total time=   8.7s\n",
      "[CV 4/7] END eval_metric=aucpr, learning_rate=0.001, max_depth=6;, score=0.782 total time=   8.6s\n",
      "[CV 5/7] END eval_metric=aucpr, learning_rate=0.001, max_depth=6;, score=0.699 total time=   8.5s\n",
      "[CV 6/7] END eval_metric=aucpr, learning_rate=0.001, max_depth=6;, score=0.758 total time=   8.4s\n",
      "[CV 7/7] END eval_metric=aucpr, learning_rate=0.001, max_depth=6;, score=0.716 total time=   9.0s\n",
      "[CV 1/7] END eval_metric=aucpr, learning_rate=0.01, max_depth=1;, score=0.677 total time=   1.4s\n",
      "[CV 2/7] END eval_metric=aucpr, learning_rate=0.01, max_depth=1;, score=0.657 total time=   1.4s\n",
      "[CV 3/7] END eval_metric=aucpr, learning_rate=0.01, max_depth=1;, score=0.646 total time=   1.4s\n",
      "[CV 4/7] END eval_metric=aucpr, learning_rate=0.01, max_depth=1;, score=0.692 total time=   1.4s\n",
      "[CV 5/7] END eval_metric=aucpr, learning_rate=0.01, max_depth=1;, score=0.599 total time=   1.4s\n",
      "[CV 6/7] END eval_metric=aucpr, learning_rate=0.01, max_depth=1;, score=0.656 total time=   1.4s\n",
      "[CV 7/7] END eval_metric=aucpr, learning_rate=0.01, max_depth=1;, score=0.590 total time=   1.4s\n",
      "[CV 1/7] END eval_metric=aucpr, learning_rate=0.01, max_depth=2;, score=0.714 total time=   2.6s\n",
      "[CV 2/7] END eval_metric=aucpr, learning_rate=0.01, max_depth=2;, score=0.674 total time=   2.6s\n",
      "[CV 3/7] END eval_metric=aucpr, learning_rate=0.01, max_depth=2;, score=0.691 total time=   2.6s\n",
      "[CV 4/7] END eval_metric=aucpr, learning_rate=0.01, max_depth=2;, score=0.683 total time=   2.6s\n",
      "[CV 5/7] END eval_metric=aucpr, learning_rate=0.01, max_depth=2;, score=0.693 total time=   2.6s\n",
      "[CV 6/7] END eval_metric=aucpr, learning_rate=0.01, max_depth=2;, score=0.649 total time=   2.6s\n",
      "[CV 7/7] END eval_metric=aucpr, learning_rate=0.01, max_depth=2;, score=0.607 total time=   2.6s\n",
      "[CV 1/7] END eval_metric=aucpr, learning_rate=0.01, max_depth=3;, score=0.709 total time=   3.9s\n",
      "[CV 2/7] END eval_metric=aucpr, learning_rate=0.01, max_depth=3;, score=0.681 total time=   3.9s\n",
      "[CV 3/7] END eval_metric=aucpr, learning_rate=0.01, max_depth=3;, score=0.727 total time=   3.9s\n",
      "[CV 4/7] END eval_metric=aucpr, learning_rate=0.01, max_depth=3;, score=0.761 total time=   3.9s\n",
      "[CV 5/7] END eval_metric=aucpr, learning_rate=0.01, max_depth=3;, score=0.683 total time=   3.9s\n",
      "[CV 6/7] END eval_metric=aucpr, learning_rate=0.01, max_depth=3;, score=0.695 total time=   4.0s\n",
      "[CV 7/7] END eval_metric=aucpr, learning_rate=0.01, max_depth=3;, score=0.582 total time=   3.9s\n",
      "[CV 1/7] END eval_metric=aucpr, learning_rate=0.01, max_depth=4;, score=0.761 total time=   5.3s\n",
      "[CV 2/7] END eval_metric=aucpr, learning_rate=0.01, max_depth=4;, score=0.752 total time=   5.3s\n",
      "[CV 3/7] END eval_metric=aucpr, learning_rate=0.01, max_depth=4;, score=0.764 total time=   5.3s\n",
      "[CV 4/7] END eval_metric=aucpr, learning_rate=0.01, max_depth=4;, score=0.802 total time=   5.3s\n",
      "[CV 5/7] END eval_metric=aucpr, learning_rate=0.01, max_depth=4;, score=0.696 total time=   5.4s\n",
      "[CV 6/7] END eval_metric=aucpr, learning_rate=0.01, max_depth=4;, score=0.743 total time=   5.4s\n",
      "[CV 7/7] END eval_metric=aucpr, learning_rate=0.01, max_depth=4;, score=0.682 total time=   5.3s\n",
      "[CV 1/7] END eval_metric=aucpr, learning_rate=0.01, max_depth=5;, score=0.787 total time=   6.8s\n",
      "[CV 2/7] END eval_metric=aucpr, learning_rate=0.01, max_depth=5;, score=0.746 total time=   6.9s\n",
      "[CV 3/7] END eval_metric=aucpr, learning_rate=0.01, max_depth=5;, score=0.773 total time=   6.9s\n",
      "[CV 4/7] END eval_metric=aucpr, learning_rate=0.01, max_depth=5;, score=0.800 total time=   6.9s\n",
      "[CV 5/7] END eval_metric=aucpr, learning_rate=0.01, max_depth=5;, score=0.657 total time=   6.9s\n",
      "[CV 6/7] END eval_metric=aucpr, learning_rate=0.01, max_depth=5;, score=0.763 total time=   6.9s\n",
      "[CV 7/7] END eval_metric=aucpr, learning_rate=0.01, max_depth=5;, score=0.715 total time=   6.8s\n",
      "[CV 1/7] END eval_metric=aucpr, learning_rate=0.01, max_depth=6;, score=0.777 total time=   8.5s\n",
      "[CV 2/7] END eval_metric=aucpr, learning_rate=0.01, max_depth=6;, score=0.763 total time=   8.5s\n",
      "[CV 3/7] END eval_metric=aucpr, learning_rate=0.01, max_depth=6;, score=0.798 total time=   8.6s\n",
      "[CV 4/7] END eval_metric=aucpr, learning_rate=0.01, max_depth=6;, score=0.802 total time=   8.5s\n",
      "[CV 5/7] END eval_metric=aucpr, learning_rate=0.01, max_depth=6;, score=0.708 total time=  10.2s\n",
      "[CV 6/7] END eval_metric=aucpr, learning_rate=0.01, max_depth=6;, score=0.759 total time=   8.5s\n",
      "[CV 7/7] END eval_metric=aucpr, learning_rate=0.01, max_depth=6;, score=0.758 total time=   8.4s\n",
      "[CV 1/7] END eval_metric=aucpr, learning_rate=0.1, max_depth=1;, score=0.710 total time=   1.4s\n",
      "[CV 2/7] END eval_metric=aucpr, learning_rate=0.1, max_depth=1;, score=0.670 total time=   1.4s\n",
      "[CV 3/7] END eval_metric=aucpr, learning_rate=0.1, max_depth=1;, score=0.670 total time=   1.4s\n",
      "[CV 4/7] END eval_metric=aucpr, learning_rate=0.1, max_depth=1;, score=0.735 total time=   1.4s\n",
      "[CV 5/7] END eval_metric=aucpr, learning_rate=0.1, max_depth=1;, score=0.706 total time=   1.4s\n",
      "[CV 6/7] END eval_metric=aucpr, learning_rate=0.1, max_depth=1;, score=0.663 total time=   1.4s\n",
      "[CV 7/7] END eval_metric=aucpr, learning_rate=0.1, max_depth=1;, score=0.696 total time=   1.4s\n",
      "[CV 1/7] END eval_metric=aucpr, learning_rate=0.1, max_depth=2;, score=0.820 total time=   2.6s\n",
      "[CV 2/7] END eval_metric=aucpr, learning_rate=0.1, max_depth=2;, score=0.789 total time=   2.6s\n",
      "[CV 3/7] END eval_metric=aucpr, learning_rate=0.1, max_depth=2;, score=0.788 total time=   2.6s\n",
      "[CV 4/7] END eval_metric=aucpr, learning_rate=0.1, max_depth=2;, score=0.836 total time=   2.6s\n",
      "[CV 5/7] END eval_metric=aucpr, learning_rate=0.1, max_depth=2;, score=0.751 total time=   2.6s\n",
      "[CV 6/7] END eval_metric=aucpr, learning_rate=0.1, max_depth=2;, score=0.790 total time=   2.6s\n",
      "[CV 7/7] END eval_metric=aucpr, learning_rate=0.1, max_depth=2;, score=0.802 total time=   2.6s\n",
      "[CV 1/7] END eval_metric=aucpr, learning_rate=0.1, max_depth=3;, score=0.822 total time=   3.9s\n",
      "[CV 2/7] END eval_metric=aucpr, learning_rate=0.1, max_depth=3;, score=0.811 total time=   4.2s\n",
      "[CV 3/7] END eval_metric=aucpr, learning_rate=0.1, max_depth=3;, score=0.806 total time=   3.9s\n",
      "[CV 4/7] END eval_metric=aucpr, learning_rate=0.1, max_depth=3;, score=0.862 total time=   3.9s\n",
      "[CV 5/7] END eval_metric=aucpr, learning_rate=0.1, max_depth=3;, score=0.787 total time=   3.8s\n",
      "[CV 6/7] END eval_metric=aucpr, learning_rate=0.1, max_depth=3;, score=0.800 total time=   3.9s\n",
      "[CV 7/7] END eval_metric=aucpr, learning_rate=0.1, max_depth=3;, score=0.808 total time=   3.9s\n",
      "[CV 1/7] END eval_metric=aucpr, learning_rate=0.1, max_depth=4;, score=0.816 total time=   5.3s\n",
      "[CV 2/7] END eval_metric=aucpr, learning_rate=0.1, max_depth=4;, score=0.833 total time=   5.2s\n",
      "[CV 3/7] END eval_metric=aucpr, learning_rate=0.1, max_depth=4;, score=0.833 total time=   5.3s\n",
      "[CV 4/7] END eval_metric=aucpr, learning_rate=0.1, max_depth=4;, score=0.883 total time=   5.3s\n",
      "[CV 5/7] END eval_metric=aucpr, learning_rate=0.1, max_depth=4;, score=0.778 total time=   5.3s\n",
      "[CV 6/7] END eval_metric=aucpr, learning_rate=0.1, max_depth=4;, score=0.843 total time=   5.3s\n",
      "[CV 7/7] END eval_metric=aucpr, learning_rate=0.1, max_depth=4;, score=0.863 total time=   5.3s\n",
      "[CV 1/7] END eval_metric=aucpr, learning_rate=0.1, max_depth=5;, score=0.800 total time=   6.6s\n",
      "[CV 2/7] END eval_metric=aucpr, learning_rate=0.1, max_depth=5;, score=0.819 total time=   6.7s\n",
      "[CV 3/7] END eval_metric=aucpr, learning_rate=0.1, max_depth=5;, score=0.843 total time=   6.8s\n",
      "[CV 4/7] END eval_metric=aucpr, learning_rate=0.1, max_depth=5;, score=0.847 total time=   6.7s\n",
      "[CV 5/7] END eval_metric=aucpr, learning_rate=0.1, max_depth=5;, score=0.796 total time=   6.8s\n",
      "[CV 6/7] END eval_metric=aucpr, learning_rate=0.1, max_depth=5;, score=0.816 total time=   6.8s\n",
      "[CV 7/7] END eval_metric=aucpr, learning_rate=0.1, max_depth=5;, score=0.853 total time=   6.8s\n",
      "[CV 1/7] END eval_metric=aucpr, learning_rate=0.1, max_depth=6;, score=0.824 total time=   8.0s\n",
      "[CV 2/7] END eval_metric=aucpr, learning_rate=0.1, max_depth=6;, score=0.832 total time=   8.0s\n",
      "[CV 3/7] END eval_metric=aucpr, learning_rate=0.1, max_depth=6;, score=0.833 total time=   8.2s\n",
      "[CV 4/7] END eval_metric=aucpr, learning_rate=0.1, max_depth=6;, score=0.882 total time=   8.0s\n",
      "[CV 5/7] END eval_metric=aucpr, learning_rate=0.1, max_depth=6;, score=0.804 total time=   8.0s\n",
      "[CV 6/7] END eval_metric=aucpr, learning_rate=0.1, max_depth=6;, score=0.788 total time=   8.0s\n",
      "[CV 7/7] END eval_metric=aucpr, learning_rate=0.1, max_depth=6;, score=0.857 total time=   8.1s\n",
      "[CV 1/7] END eval_metric=aucpr, learning_rate=0.2, max_depth=1;, score=0.750 total time=   1.4s\n",
      "[CV 2/7] END eval_metric=aucpr, learning_rate=0.2, max_depth=1;, score=0.722 total time=   1.4s\n",
      "[CV 3/7] END eval_metric=aucpr, learning_rate=0.2, max_depth=1;, score=0.712 total time=   1.4s\n",
      "[CV 4/7] END eval_metric=aucpr, learning_rate=0.2, max_depth=1;, score=0.759 total time=   1.4s\n",
      "[CV 5/7] END eval_metric=aucpr, learning_rate=0.2, max_depth=1;, score=0.712 total time=   1.4s\n",
      "[CV 6/7] END eval_metric=aucpr, learning_rate=0.2, max_depth=1;, score=0.730 total time=   1.4s\n",
      "[CV 7/7] END eval_metric=aucpr, learning_rate=0.2, max_depth=1;, score=0.721 total time=   1.4s\n",
      "[CV 1/7] END eval_metric=aucpr, learning_rate=0.2, max_depth=2;, score=0.836 total time=   2.6s\n",
      "[CV 2/7] END eval_metric=aucpr, learning_rate=0.2, max_depth=2;, score=0.831 total time=   2.6s\n",
      "[CV 3/7] END eval_metric=aucpr, learning_rate=0.2, max_depth=2;, score=0.830 total time=   2.6s\n",
      "[CV 4/7] END eval_metric=aucpr, learning_rate=0.2, max_depth=2;, score=0.851 total time=   2.6s\n",
      "[CV 5/7] END eval_metric=aucpr, learning_rate=0.2, max_depth=2;, score=0.779 total time=   2.6s\n",
      "[CV 6/7] END eval_metric=aucpr, learning_rate=0.2, max_depth=2;, score=0.844 total time=   2.6s\n",
      "[CV 7/7] END eval_metric=aucpr, learning_rate=0.2, max_depth=2;, score=0.806 total time=   2.6s\n",
      "[CV 1/7] END eval_metric=aucpr, learning_rate=0.2, max_depth=3;, score=0.820 total time=   3.9s\n",
      "[CV 2/7] END eval_metric=aucpr, learning_rate=0.2, max_depth=3;, score=0.845 total time=   3.8s\n",
      "[CV 3/7] END eval_metric=aucpr, learning_rate=0.2, max_depth=3;, score=0.831 total time=   3.9s\n",
      "[CV 4/7] END eval_metric=aucpr, learning_rate=0.2, max_depth=3;, score=0.870 total time=   3.9s\n",
      "[CV 5/7] END eval_metric=aucpr, learning_rate=0.2, max_depth=3;, score=0.813 total time=   3.8s\n",
      "[CV 6/7] END eval_metric=aucpr, learning_rate=0.2, max_depth=3;, score=0.804 total time=   3.9s\n",
      "[CV 7/7] END eval_metric=aucpr, learning_rate=0.2, max_depth=3;, score=0.810 total time=   3.9s\n",
      "[CV 1/7] END eval_metric=aucpr, learning_rate=0.2, max_depth=4;, score=0.837 total time=   5.1s\n",
      "[CV 2/7] END eval_metric=aucpr, learning_rate=0.2, max_depth=4;, score=0.844 total time=   5.2s\n",
      "[CV 3/7] END eval_metric=aucpr, learning_rate=0.2, max_depth=4;, score=0.818 total time=   5.2s\n",
      "[CV 4/7] END eval_metric=aucpr, learning_rate=0.2, max_depth=4;, score=0.885 total time=   5.2s\n",
      "[CV 5/7] END eval_metric=aucpr, learning_rate=0.2, max_depth=4;, score=0.809 total time=   5.2s\n",
      "[CV 6/7] END eval_metric=aucpr, learning_rate=0.2, max_depth=4;, score=0.813 total time=   5.2s\n",
      "[CV 7/7] END eval_metric=aucpr, learning_rate=0.2, max_depth=4;, score=0.847 total time=   5.2s\n",
      "[CV 1/7] END eval_metric=aucpr, learning_rate=0.2, max_depth=5;, score=0.824 total time=   6.4s\n",
      "[CV 2/7] END eval_metric=aucpr, learning_rate=0.2, max_depth=5;, score=0.840 total time=   6.4s\n",
      "[CV 3/7] END eval_metric=aucpr, learning_rate=0.2, max_depth=5;, score=0.907 total time=   6.4s\n",
      "[CV 4/7] END eval_metric=aucpr, learning_rate=0.2, max_depth=5;, score=0.870 total time=   6.4s\n",
      "[CV 5/7] END eval_metric=aucpr, learning_rate=0.2, max_depth=5;, score=0.796 total time=   6.4s\n",
      "[CV 6/7] END eval_metric=aucpr, learning_rate=0.2, max_depth=5;, score=0.812 total time=   6.4s\n",
      "[CV 7/7] END eval_metric=aucpr, learning_rate=0.2, max_depth=5;, score=0.856 total time=   6.5s\n",
      "[CV 1/7] END eval_metric=aucpr, learning_rate=0.2, max_depth=6;, score=0.847 total time=   7.5s\n",
      "[CV 2/7] END eval_metric=aucpr, learning_rate=0.2, max_depth=6;, score=0.834 total time=   7.5s\n",
      "[CV 3/7] END eval_metric=aucpr, learning_rate=0.2, max_depth=6;, score=0.853 total time=   7.5s\n",
      "[CV 4/7] END eval_metric=aucpr, learning_rate=0.2, max_depth=6;, score=0.876 total time=   7.5s\n",
      "[CV 5/7] END eval_metric=aucpr, learning_rate=0.2, max_depth=6;, score=0.816 total time=   7.4s\n",
      "[CV 6/7] END eval_metric=aucpr, learning_rate=0.2, max_depth=6;, score=0.822 total time=   7.4s\n",
      "[CV 7/7] END eval_metric=aucpr, learning_rate=0.2, max_depth=6;, score=0.857 total time=   7.5s\n",
      "[CV 1/7] END eval_metric=aucpr, learning_rate=0.02, max_depth=1;, score=0.687 total time=   1.4s\n",
      "[CV 2/7] END eval_metric=aucpr, learning_rate=0.02, max_depth=1;, score=0.677 total time=   1.4s\n",
      "[CV 3/7] END eval_metric=aucpr, learning_rate=0.02, max_depth=1;, score=0.640 total time=   1.4s\n",
      "[CV 4/7] END eval_metric=aucpr, learning_rate=0.02, max_depth=1;, score=0.689 total time=   1.4s\n",
      "[CV 5/7] END eval_metric=aucpr, learning_rate=0.02, max_depth=1;, score=0.614 total time=   1.4s\n",
      "[CV 6/7] END eval_metric=aucpr, learning_rate=0.02, max_depth=1;, score=0.634 total time=   1.4s\n",
      "[CV 7/7] END eval_metric=aucpr, learning_rate=0.02, max_depth=1;, score=0.620 total time=   1.4s\n",
      "[CV 1/7] END eval_metric=aucpr, learning_rate=0.02, max_depth=2;, score=0.727 total time=   2.6s\n",
      "[CV 2/7] END eval_metric=aucpr, learning_rate=0.02, max_depth=2;, score=0.660 total time=   2.6s\n",
      "[CV 3/7] END eval_metric=aucpr, learning_rate=0.02, max_depth=2;, score=0.725 total time=   2.6s\n",
      "[CV 4/7] END eval_metric=aucpr, learning_rate=0.02, max_depth=2;, score=0.764 total time=   2.6s\n",
      "[CV 5/7] END eval_metric=aucpr, learning_rate=0.02, max_depth=2;, score=0.700 total time=   2.6s\n",
      "[CV 6/7] END eval_metric=aucpr, learning_rate=0.02, max_depth=2;, score=0.695 total time=   2.6s\n",
      "[CV 7/7] END eval_metric=aucpr, learning_rate=0.02, max_depth=2;, score=0.602 total time=   2.7s\n",
      "[CV 1/7] END eval_metric=aucpr, learning_rate=0.02, max_depth=3;, score=0.761 total time=   4.0s\n",
      "[CV 2/7] END eval_metric=aucpr, learning_rate=0.02, max_depth=3;, score=0.754 total time=   4.0s\n",
      "[CV 3/7] END eval_metric=aucpr, learning_rate=0.02, max_depth=3;, score=0.704 total time=   4.0s\n",
      "[CV 4/7] END eval_metric=aucpr, learning_rate=0.02, max_depth=3;, score=0.788 total time=   4.0s\n",
      "[CV 5/7] END eval_metric=aucpr, learning_rate=0.02, max_depth=3;, score=0.725 total time=   4.0s\n",
      "[CV 6/7] END eval_metric=aucpr, learning_rate=0.02, max_depth=3;, score=0.751 total time=   4.0s\n",
      "[CV 7/7] END eval_metric=aucpr, learning_rate=0.02, max_depth=3;, score=0.696 total time=   4.0s\n",
      "[CV 1/7] END eval_metric=aucpr, learning_rate=0.02, max_depth=4;, score=0.777 total time=   5.4s\n",
      "[CV 2/7] END eval_metric=aucpr, learning_rate=0.02, max_depth=4;, score=0.783 total time=   5.5s\n",
      "[CV 3/7] END eval_metric=aucpr, learning_rate=0.02, max_depth=4;, score=0.744 total time=   5.5s\n",
      "[CV 4/7] END eval_metric=aucpr, learning_rate=0.02, max_depth=4;, score=0.816 total time=   5.5s\n",
      "[CV 5/7] END eval_metric=aucpr, learning_rate=0.02, max_depth=4;, score=0.745 total time=   5.5s\n",
      "[CV 6/7] END eval_metric=aucpr, learning_rate=0.02, max_depth=4;, score=0.746 total time=   5.5s\n",
      "[CV 7/7] END eval_metric=aucpr, learning_rate=0.02, max_depth=4;, score=0.768 total time=   5.4s\n",
      "[CV 1/7] END eval_metric=aucpr, learning_rate=0.02, max_depth=5;, score=0.810 total time=   6.9s\n",
      "[CV 2/7] END eval_metric=aucpr, learning_rate=0.02, max_depth=5;, score=0.788 total time=   6.9s\n",
      "[CV 3/7] END eval_metric=aucpr, learning_rate=0.02, max_depth=5;, score=0.820 total time=   7.0s\n",
      "[CV 4/7] END eval_metric=aucpr, learning_rate=0.02, max_depth=5;, score=0.829 total time=   6.9s\n",
      "[CV 5/7] END eval_metric=aucpr, learning_rate=0.02, max_depth=5;, score=0.725 total time=   7.0s\n",
      "[CV 6/7] END eval_metric=aucpr, learning_rate=0.02, max_depth=5;, score=0.758 total time=   7.0s\n",
      "[CV 7/7] END eval_metric=aucpr, learning_rate=0.02, max_depth=5;, score=0.808 total time=   7.0s\n",
      "[CV 1/7] END eval_metric=aucpr, learning_rate=0.02, max_depth=6;, score=0.814 total time=   8.4s\n",
      "[CV 2/7] END eval_metric=aucpr, learning_rate=0.02, max_depth=6;, score=0.800 total time=   8.5s\n",
      "[CV 3/7] END eval_metric=aucpr, learning_rate=0.02, max_depth=6;, score=0.800 total time=   8.6s\n",
      "[CV 4/7] END eval_metric=aucpr, learning_rate=0.02, max_depth=6;, score=0.830 total time=   8.6s\n",
      "[CV 5/7] END eval_metric=aucpr, learning_rate=0.02, max_depth=6;, score=0.759 total time=   8.6s\n",
      "[CV 6/7] END eval_metric=aucpr, learning_rate=0.02, max_depth=6;, score=0.808 total time=   8.6s\n",
      "[CV 7/7] END eval_metric=aucpr, learning_rate=0.02, max_depth=6;, score=0.783 total time=   8.5s\n",
      "[CV 1/7] END eval_metric=aucpr, learning_rate=0.3, max_depth=1;, score=0.780 total time=   1.4s\n",
      "[CV 2/7] END eval_metric=aucpr, learning_rate=0.3, max_depth=1;, score=0.757 total time=   1.4s\n",
      "[CV 3/7] END eval_metric=aucpr, learning_rate=0.3, max_depth=1;, score=0.723 total time=   1.4s\n",
      "[CV 4/7] END eval_metric=aucpr, learning_rate=0.3, max_depth=1;, score=0.814 total time=   1.4s\n",
      "[CV 5/7] END eval_metric=aucpr, learning_rate=0.3, max_depth=1;, score=0.722 total time=   1.4s\n",
      "[CV 6/7] END eval_metric=aucpr, learning_rate=0.3, max_depth=1;, score=0.724 total time=   1.4s\n",
      "[CV 7/7] END eval_metric=aucpr, learning_rate=0.3, max_depth=1;, score=0.746 total time=   1.4s\n",
      "[CV 1/7] END eval_metric=aucpr, learning_rate=0.3, max_depth=2;, score=0.831 total time=   2.6s\n",
      "[CV 2/7] END eval_metric=aucpr, learning_rate=0.3, max_depth=2;, score=0.827 total time=   2.6s\n",
      "[CV 3/7] END eval_metric=aucpr, learning_rate=0.3, max_depth=2;, score=0.802 total time=   2.6s\n",
      "[CV 4/7] END eval_metric=aucpr, learning_rate=0.3, max_depth=2;, score=0.860 total time=   2.6s\n",
      "[CV 5/7] END eval_metric=aucpr, learning_rate=0.3, max_depth=2;, score=0.812 total time=   2.6s\n",
      "[CV 6/7] END eval_metric=aucpr, learning_rate=0.3, max_depth=2;, score=0.857 total time=   2.6s\n",
      "[CV 7/7] END eval_metric=aucpr, learning_rate=0.3, max_depth=2;, score=0.851 total time=   2.6s\n",
      "[CV 1/7] END eval_metric=aucpr, learning_rate=0.3, max_depth=3;, score=0.816 total time=   3.8s\n",
      "[CV 2/7] END eval_metric=aucpr, learning_rate=0.3, max_depth=3;, score=0.836 total time=   3.8s\n",
      "[CV 3/7] END eval_metric=aucpr, learning_rate=0.3, max_depth=3;, score=0.852 total time=   3.8s\n",
      "[CV 4/7] END eval_metric=aucpr, learning_rate=0.3, max_depth=3;, score=0.877 total time=   3.8s\n",
      "[CV 5/7] END eval_metric=aucpr, learning_rate=0.3, max_depth=3;, score=0.804 total time=   3.8s\n",
      "[CV 6/7] END eval_metric=aucpr, learning_rate=0.3, max_depth=3;, score=0.812 total time=   3.8s\n",
      "[CV 7/7] END eval_metric=aucpr, learning_rate=0.3, max_depth=3;, score=0.844 total time=   3.9s\n",
      "[CV 1/7] END eval_metric=aucpr, learning_rate=0.3, max_depth=4;, score=0.818 total time=   5.0s\n",
      "[CV 2/7] END eval_metric=aucpr, learning_rate=0.3, max_depth=4;, score=0.861 total time=   5.1s\n",
      "[CV 3/7] END eval_metric=aucpr, learning_rate=0.3, max_depth=4;, score=0.822 total time=   5.2s\n",
      "[CV 4/7] END eval_metric=aucpr, learning_rate=0.3, max_depth=4;, score=0.880 total time=   5.1s\n",
      "[CV 5/7] END eval_metric=aucpr, learning_rate=0.3, max_depth=4;, score=0.787 total time=   5.2s\n",
      "[CV 6/7] END eval_metric=aucpr, learning_rate=0.3, max_depth=4;, score=0.821 total time=   5.2s\n",
      "[CV 7/7] END eval_metric=aucpr, learning_rate=0.3, max_depth=4;, score=0.839 total time=   5.2s\n",
      "[CV 1/7] END eval_metric=aucpr, learning_rate=0.3, max_depth=5;, score=0.844 total time=   6.3s\n",
      "[CV 2/7] END eval_metric=aucpr, learning_rate=0.3, max_depth=5;, score=0.844 total time=   6.2s\n",
      "[CV 3/7] END eval_metric=aucpr, learning_rate=0.3, max_depth=5;, score=0.871 total time=   6.3s\n",
      "[CV 4/7] END eval_metric=aucpr, learning_rate=0.3, max_depth=5;, score=0.852 total time=   6.3s\n",
      "[CV 5/7] END eval_metric=aucpr, learning_rate=0.3, max_depth=5;, score=0.804 total time=   6.3s\n",
      "[CV 6/7] END eval_metric=aucpr, learning_rate=0.3, max_depth=5;, score=0.842 total time=   6.1s\n",
      "[CV 7/7] END eval_metric=aucpr, learning_rate=0.3, max_depth=5;, score=0.854 total time=   6.2s\n",
      "[CV 1/7] END eval_metric=aucpr, learning_rate=0.3, max_depth=6;, score=0.841 total time=   6.8s\n",
      "[CV 2/7] END eval_metric=aucpr, learning_rate=0.3, max_depth=6;, score=0.864 total time=   6.9s\n",
      "[CV 3/7] END eval_metric=aucpr, learning_rate=0.3, max_depth=6;, score=0.833 total time=   6.9s\n",
      "[CV 4/7] END eval_metric=aucpr, learning_rate=0.3, max_depth=6;, score=0.861 total time=   6.9s\n",
      "[CV 5/7] END eval_metric=aucpr, learning_rate=0.3, max_depth=6;, score=0.822 total time=   6.9s\n",
      "[CV 6/7] END eval_metric=aucpr, learning_rate=0.3, max_depth=6;, score=0.828 total time=   6.9s\n",
      "[CV 7/7] END eval_metric=aucpr, learning_rate=0.3, max_depth=6;, score=0.814 total time=   6.9s\n",
      "[CV 1/7] END eval_metric=aucpr, learning_rate=0.4, max_depth=1;, score=0.796 total time=   1.5s\n",
      "[CV 2/7] END eval_metric=aucpr, learning_rate=0.4, max_depth=1;, score=0.768 total time=   1.4s\n",
      "[CV 3/7] END eval_metric=aucpr, learning_rate=0.4, max_depth=1;, score=0.733 total time=   1.4s\n",
      "[CV 4/7] END eval_metric=aucpr, learning_rate=0.4, max_depth=1;, score=0.809 total time=   1.4s\n",
      "[CV 5/7] END eval_metric=aucpr, learning_rate=0.4, max_depth=1;, score=0.730 total time=   1.4s\n",
      "[CV 6/7] END eval_metric=aucpr, learning_rate=0.4, max_depth=1;, score=0.732 total time=   1.4s\n",
      "[CV 7/7] END eval_metric=aucpr, learning_rate=0.4, max_depth=1;, score=0.763 total time=   1.4s\n",
      "[CV 1/7] END eval_metric=aucpr, learning_rate=0.4, max_depth=2;, score=0.798 total time=   2.6s\n",
      "[CV 2/7] END eval_metric=aucpr, learning_rate=0.4, max_depth=2;, score=0.818 total time=   2.6s\n",
      "[CV 3/7] END eval_metric=aucpr, learning_rate=0.4, max_depth=2;, score=0.817 total time=   2.6s\n",
      "[CV 4/7] END eval_metric=aucpr, learning_rate=0.4, max_depth=2;, score=0.880 total time=   2.6s\n",
      "[CV 5/7] END eval_metric=aucpr, learning_rate=0.4, max_depth=2;, score=0.798 total time=   2.6s\n",
      "[CV 6/7] END eval_metric=aucpr, learning_rate=0.4, max_depth=2;, score=0.808 total time=   2.6s\n",
      "[CV 7/7] END eval_metric=aucpr, learning_rate=0.4, max_depth=2;, score=0.810 total time=   2.6s\n",
      "[CV 1/7] END eval_metric=aucpr, learning_rate=0.4, max_depth=3;, score=0.823 total time=   3.9s\n",
      "[CV 2/7] END eval_metric=aucpr, learning_rate=0.4, max_depth=3;, score=0.845 total time=   3.9s\n",
      "[CV 3/7] END eval_metric=aucpr, learning_rate=0.4, max_depth=3;, score=0.836 total time=   3.9s\n",
      "[CV 4/7] END eval_metric=aucpr, learning_rate=0.4, max_depth=3;, score=0.868 total time=   3.8s\n",
      "[CV 5/7] END eval_metric=aucpr, learning_rate=0.4, max_depth=3;, score=0.824 total time=   3.8s\n",
      "[CV 6/7] END eval_metric=aucpr, learning_rate=0.4, max_depth=3;, score=0.816 total time=   3.8s\n",
      "[CV 7/7] END eval_metric=aucpr, learning_rate=0.4, max_depth=3;, score=0.854 total time=   3.8s\n",
      "[CV 1/7] END eval_metric=aucpr, learning_rate=0.4, max_depth=4;, score=0.829 total time=   4.9s\n",
      "[CV 2/7] END eval_metric=aucpr, learning_rate=0.4, max_depth=4;, score=0.828 total time=   5.0s\n",
      "[CV 3/7] END eval_metric=aucpr, learning_rate=0.4, max_depth=4;, score=0.823 total time=   5.0s\n",
      "[CV 4/7] END eval_metric=aucpr, learning_rate=0.4, max_depth=4;, score=0.893 total time=   5.0s\n",
      "[CV 5/7] END eval_metric=aucpr, learning_rate=0.4, max_depth=4;, score=0.855 total time=   5.0s\n",
      "[CV 6/7] END eval_metric=aucpr, learning_rate=0.4, max_depth=4;, score=0.816 total time=   5.0s\n",
      "[CV 7/7] END eval_metric=aucpr, learning_rate=0.4, max_depth=4;, score=0.826 total time=   5.0s\n",
      "[CV 1/7] END eval_metric=aucpr, learning_rate=0.4, max_depth=5;, score=0.830 total time=   5.9s\n",
      "[CV 2/7] END eval_metric=aucpr, learning_rate=0.4, max_depth=5;, score=0.822 total time=   5.8s\n",
      "[CV 3/7] END eval_metric=aucpr, learning_rate=0.4, max_depth=5;, score=0.842 total time=   5.9s\n",
      "[CV 4/7] END eval_metric=aucpr, learning_rate=0.4, max_depth=5;, score=0.851 total time=   5.8s\n",
      "[CV 5/7] END eval_metric=aucpr, learning_rate=0.4, max_depth=5;, score=0.812 total time=   5.9s\n",
      "[CV 6/7] END eval_metric=aucpr, learning_rate=0.4, max_depth=5;, score=0.816 total time=   5.8s\n",
      "[CV 7/7] END eval_metric=aucpr, learning_rate=0.4, max_depth=5;, score=0.822 total time=   5.9s\n",
      "[CV 1/7] END eval_metric=aucpr, learning_rate=0.4, max_depth=6;, score=0.833 total time=   6.4s\n",
      "[CV 2/7] END eval_metric=aucpr, learning_rate=0.4, max_depth=6;, score=0.845 total time=   6.3s\n",
      "[CV 3/7] END eval_metric=aucpr, learning_rate=0.4, max_depth=6;, score=0.874 total time=   6.4s\n",
      "[CV 4/7] END eval_metric=aucpr, learning_rate=0.4, max_depth=6;, score=0.867 total time=   6.3s\n",
      "[CV 5/7] END eval_metric=aucpr, learning_rate=0.4, max_depth=6;, score=0.842 total time=   6.3s\n",
      "[CV 6/7] END eval_metric=aucpr, learning_rate=0.4, max_depth=6;, score=0.819 total time=   6.3s\n",
      "[CV 7/7] END eval_metric=aucpr, learning_rate=0.4, max_depth=6;, score=0.814 total time=   8.2s\n",
      "[CV 1/7] END eval_metric=aucpr, learning_rate=0.5, max_depth=1;, score=0.832 total time=   1.4s\n",
      "[CV 2/7] END eval_metric=aucpr, learning_rate=0.5, max_depth=1;, score=0.800 total time=   1.5s\n",
      "[CV 3/7] END eval_metric=aucpr, learning_rate=0.5, max_depth=1;, score=0.757 total time=   1.4s\n",
      "[CV 4/7] END eval_metric=aucpr, learning_rate=0.5, max_depth=1;, score=0.831 total time=   1.4s\n",
      "[CV 5/7] END eval_metric=aucpr, learning_rate=0.5, max_depth=1;, score=0.724 total time=   1.5s\n",
      "[CV 6/7] END eval_metric=aucpr, learning_rate=0.5, max_depth=1;, score=0.747 total time=   1.5s\n",
      "[CV 7/7] END eval_metric=aucpr, learning_rate=0.5, max_depth=1;, score=0.739 total time=   1.5s\n",
      "[CV 1/7] END eval_metric=aucpr, learning_rate=0.5, max_depth=2;, score=0.836 total time=   4.1s\n",
      "[CV 2/7] END eval_metric=aucpr, learning_rate=0.5, max_depth=2;, score=0.831 total time=   2.6s\n",
      "[CV 3/7] END eval_metric=aucpr, learning_rate=0.5, max_depth=2;, score=0.811 total time=   2.6s\n",
      "[CV 4/7] END eval_metric=aucpr, learning_rate=0.5, max_depth=2;, score=0.866 total time=   3.5s\n",
      "[CV 5/7] END eval_metric=aucpr, learning_rate=0.5, max_depth=2;, score=0.832 total time=   2.6s\n",
      "[CV 6/7] END eval_metric=aucpr, learning_rate=0.5, max_depth=2;, score=0.814 total time=   2.6s\n",
      "[CV 7/7] END eval_metric=aucpr, learning_rate=0.5, max_depth=2;, score=0.874 total time=   2.6s\n",
      "[CV 1/7] END eval_metric=aucpr, learning_rate=0.5, max_depth=3;, score=0.808 total time=   4.6s\n",
      "[CV 2/7] END eval_metric=aucpr, learning_rate=0.5, max_depth=3;, score=0.833 total time=   3.8s\n",
      "[CV 3/7] END eval_metric=aucpr, learning_rate=0.5, max_depth=3;, score=0.825 total time=   3.8s\n",
      "[CV 4/7] END eval_metric=aucpr, learning_rate=0.5, max_depth=3;, score=0.900 total time=   4.1s\n",
      "[CV 5/7] END eval_metric=aucpr, learning_rate=0.5, max_depth=3;, score=0.802 total time=   6.8s\n",
      "[CV 6/7] END eval_metric=aucpr, learning_rate=0.5, max_depth=3;, score=0.823 total time=   4.6s\n",
      "[CV 7/7] END eval_metric=aucpr, learning_rate=0.5, max_depth=3;, score=0.826 total time=   3.8s\n",
      "[CV 1/7] END eval_metric=aucpr, learning_rate=0.5, max_depth=4;, score=0.854 total time=   4.8s\n",
      "[CV 2/7] END eval_metric=aucpr, learning_rate=0.5, max_depth=4;, score=0.832 total time=   4.9s\n",
      "[CV 3/7] END eval_metric=aucpr, learning_rate=0.5, max_depth=4;, score=0.830 total time=   4.9s\n",
      "[CV 4/7] END eval_metric=aucpr, learning_rate=0.5, max_depth=4;, score=0.873 total time=   5.0s\n",
      "[CV 5/7] END eval_metric=aucpr, learning_rate=0.5, max_depth=4;, score=0.812 total time=   4.9s\n",
      "[CV 6/7] END eval_metric=aucpr, learning_rate=0.5, max_depth=4;, score=0.851 total time=   4.9s\n",
      "[CV 7/7] END eval_metric=aucpr, learning_rate=0.5, max_depth=4;, score=0.819 total time=   4.9s\n",
      "[CV 1/7] END eval_metric=aucpr, learning_rate=0.5, max_depth=5;, score=0.826 total time=   5.6s\n",
      "[CV 2/7] END eval_metric=aucpr, learning_rate=0.5, max_depth=5;, score=0.844 total time=   5.6s\n",
      "[CV 3/7] END eval_metric=aucpr, learning_rate=0.5, max_depth=5;, score=0.873 total time=   5.6s\n",
      "[CV 4/7] END eval_metric=aucpr, learning_rate=0.5, max_depth=5;, score=0.874 total time=   5.7s\n",
      "[CV 5/7] END eval_metric=aucpr, learning_rate=0.5, max_depth=5;, score=0.856 total time=   5.6s\n",
      "[CV 6/7] END eval_metric=aucpr, learning_rate=0.5, max_depth=5;, score=0.798 total time=   6.2s\n",
      "[CV 7/7] END eval_metric=aucpr, learning_rate=0.5, max_depth=5;, score=0.838 total time=   5.6s\n",
      "[CV 1/7] END eval_metric=aucpr, learning_rate=0.5, max_depth=6;, score=0.859 total time=   5.9s\n",
      "[CV 2/7] END eval_metric=aucpr, learning_rate=0.5, max_depth=6;, score=0.827 total time=   6.0s\n",
      "[CV 3/7] END eval_metric=aucpr, learning_rate=0.5, max_depth=6;, score=0.869 total time=   7.1s\n",
      "[CV 4/7] END eval_metric=aucpr, learning_rate=0.5, max_depth=6;, score=0.852 total time=   6.1s\n",
      "[CV 5/7] END eval_metric=aucpr, learning_rate=0.5, max_depth=6;, score=0.816 total time=   5.8s\n",
      "[CV 6/7] END eval_metric=aucpr, learning_rate=0.5, max_depth=6;, score=0.822 total time=   5.9s\n",
      "[CV 7/7] END eval_metric=aucpr, learning_rate=0.5, max_depth=6;, score=0.827 total time=   6.0s\n",
      "Best score = 0.8444610468239978, Best combination of hyperparameters = {'eval_metric': 'aucpr', 'learning_rate': 0.3, 'max_depth': 5}.\n"
     ]
    }
   ],
   "source": [
    "# Hyperparameter tuning of XGBoost classifier \n",
    "kfold=KFold(n_splits=7)\n",
    "param_grid = {'max_depth': [1, 2, 3, 4, 5, 6],\n",
    "              'learning_rate': [0.001, 0.01, 0.1, 0.2, 0.02, 0.3, 0.4, 0.5],\n",
    "              'eval_metric':['aucpr']} \n",
    "\n",
    "grid = GridSearchCV(estimator = XGBClassifier(), param_grid = param_grid, scoring = 'f1', cv = kfold , verbose = 3)\n",
    "results = grid.fit(X_train, Y_train)\n",
    "\n",
    "# Displaying best hyperparameters combination and the corresponding score \n",
    "print(\"Best score = {0}, Best combination of hyperparameters = {1}.\".format(results.best_score_,results.best_params_))"
   ]
  },
  {
   "cell_type": "code",
   "execution_count": null,
   "metadata": {
    "colab": {
     "base_uri": "https://localhost:8080/"
    },
    "id": "e3aF3o39MBs_",
    "outputId": "e4f72450-a7ca-43d2-efb8-82fc5f9b3231"
   },
   "outputs": [
    {
     "name": "stdout",
     "output_type": "stream",
     "text": [
      "Best score = 0.8444610468239978, Best combination of hyperparameters = {'eval_metric': 'aucpr', 'learning_rate': 0.3, 'max_depth': 5}.\n"
     ]
    }
   ],
   "source": [
    "print(\"Best score = {0}, Best combination of hyperparameters = {1}.\".format(results.best_score_,results.best_params_))"
   ]
  },
  {
   "cell_type": "code",
   "execution_count": null,
   "metadata": {
    "id": "7nWhNvauZTvl"
   },
   "outputs": [],
   "source": [
    "# Training best XGBOOST model \n",
    "model = XGBClassifier(max_depth=5, learning_rate=0.3, alpha=0.015, base_score=0.2, eval_metric='aucpr')\n",
    "model.fit(X_train, Y_train)\n",
    "\n",
    "Y_pred = model.predict(X_test)\n",
    "predictions_2 = [round(value) for value in Y_pred]\n",
    "\n",
    "proba = cross_val_predict(model, X_train, Y_train, cv=7, method=\"predict_proba\")\n",
    "probat = cross_val_predict(model, X_test, Y_test, cv=7, method=\"predict_proba\")\n",
    "y_scores_2 = proba[:,1]\n",
    "yt_scores_2 = probat[:,1]\n",
    "\n",
    "fpr_xgb, tpr_xgb, thresholds_xgb = roc_curve(Y_train, y_scores_2)"
   ]
  },
  {
   "cell_type": "markdown",
   "metadata": {
    "id": "4IoOiuUGRVFH"
   },
   "source": [
    "# Histogram Gradient Boosting Classifier"
   ]
  },
  {
   "cell_type": "code",
   "execution_count": null,
   "metadata": {
    "id": "Lq9vA2LfRYsX"
   },
   "outputs": [],
   "source": [
    "from sklearn.ensemble import HistGradientBoostingClassifier"
   ]
  },
  {
   "cell_type": "code",
   "execution_count": null,
   "metadata": {
    "colab": {
     "base_uri": "https://localhost:8080/"
    },
    "id": "Ed5Ag2uRR_8t",
    "outputId": "75a00266-0366-4142-ac66-a312249078f6"
   },
   "outputs": [
    {
     "name": "stdout",
     "output_type": "stream",
     "text": [
      "Processing...\n",
      "Accuracy : mean = 0.8205036184161845, and std = 0.027602404588577788.\n"
     ]
    }
   ],
   "source": [
    "# Initializing the SVM classifier\n",
    "print(f\"Processing...\")\n",
    "model = HistGradientBoostingClassifier()\n",
    "# We train the classifier using cross-fold validation (7 folds in our case)\n",
    "kfold = KFold(n_splits = 7, shuffle = True)\n",
    "results = cross_val_score(model, X_train, Y_train, cv=kfold, scoring='accuracy')\n",
    "\n",
    "# We display the accuraccy\n",
    "print(\"Accuracy : mean = {0}, and std = {1}.\".format(results.mean(), results.std()))\n"
   ]
  },
  {
   "cell_type": "code",
   "execution_count": null,
   "metadata": {
    "colab": {
     "base_uri": "https://localhost:8080/"
    },
    "id": "id6VntsiUL3P",
    "outputId": "404d951e-43f4-4de7-cb4e-67e1cdd757d6"
   },
   "outputs": [
    {
     "name": "stdout",
     "output_type": "stream",
     "text": [
      "Fitting 7 folds for each of 12 candidates, totalling 84 fits\n",
      "[CV 1/7] END learning_rate=0.001, loss=binary_crossentropy, max_iter=100;, score=0.701 total time=   7.0s\n",
      "[CV 2/7] END learning_rate=0.001, loss=binary_crossentropy, max_iter=100;, score=0.777 total time=   7.2s\n",
      "[CV 3/7] END learning_rate=0.001, loss=binary_crossentropy, max_iter=100;, score=0.739 total time=  12.2s\n",
      "[CV 4/7] END learning_rate=0.001, loss=binary_crossentropy, max_iter=100;, score=0.789 total time=   9.4s\n",
      "[CV 5/7] END learning_rate=0.001, loss=binary_crossentropy, max_iter=100;, score=0.761 total time=   8.5s\n",
      "[CV 6/7] END learning_rate=0.001, loss=binary_crossentropy, max_iter=100;, score=0.766 total time=  17.5s\n",
      "[CV 7/7] END learning_rate=0.001, loss=binary_crossentropy, max_iter=100;, score=0.760 total time=  16.2s\n",
      "[CV 1/7] END learning_rate=0.001, loss=binary_crossentropy, max_iter=200;, score=0.762 total time=  24.5s\n",
      "[CV 2/7] END learning_rate=0.001, loss=binary_crossentropy, max_iter=200;, score=0.791 total time=  18.1s\n",
      "[CV 3/7] END learning_rate=0.001, loss=binary_crossentropy, max_iter=200;, score=0.753 total time=  38.8s\n",
      "[CV 4/7] END learning_rate=0.001, loss=binary_crossentropy, max_iter=200;, score=0.800 total time=  43.1s\n",
      "[CV 5/7] END learning_rate=0.001, loss=binary_crossentropy, max_iter=200;, score=0.750 total time=  36.3s\n",
      "[CV 6/7] END learning_rate=0.001, loss=binary_crossentropy, max_iter=200;, score=0.782 total time=  35.9s\n",
      "[CV 7/7] END learning_rate=0.001, loss=binary_crossentropy, max_iter=200;, score=0.773 total time=  19.3s\n",
      "[CV 1/7] END learning_rate=0.001, loss=binary_crossentropy, max_iter=500;, score=0.777 total time=  37.9s\n",
      "[CV 2/7] END learning_rate=0.001, loss=binary_crossentropy, max_iter=500;, score=0.796 total time=  37.1s\n",
      "[CV 3/7] END learning_rate=0.001, loss=binary_crossentropy, max_iter=500;, score=0.819 total time= 1.3min\n",
      "[CV 4/7] END learning_rate=0.001, loss=binary_crossentropy, max_iter=500;, score=0.810 total time=  55.7s\n",
      "[CV 5/7] END learning_rate=0.001, loss=binary_crossentropy, max_iter=500;, score=0.759 total time=  37.4s\n",
      "[CV 6/7] END learning_rate=0.001, loss=binary_crossentropy, max_iter=500;, score=0.780 total time=  47.2s\n",
      "[CV 7/7] END learning_rate=0.001, loss=binary_crossentropy, max_iter=500;, score=0.762 total time=  36.2s\n",
      "[CV 1/7] END learning_rate=0.01, loss=binary_crossentropy, max_iter=100;, score=0.784 total time=   7.5s\n",
      "[CV 2/7] END learning_rate=0.01, loss=binary_crossentropy, max_iter=100;, score=0.820 total time=   7.6s\n",
      "[CV 3/7] END learning_rate=0.01, loss=binary_crossentropy, max_iter=100;, score=0.816 total time=   7.6s\n",
      "[CV 4/7] END learning_rate=0.01, loss=binary_crossentropy, max_iter=100;, score=0.817 total time=   7.9s\n",
      "[CV 5/7] END learning_rate=0.01, loss=binary_crossentropy, max_iter=100;, score=0.773 total time=   7.8s\n",
      "[CV 6/7] END learning_rate=0.01, loss=binary_crossentropy, max_iter=100;, score=0.796 total time=   8.1s\n",
      "[CV 7/7] END learning_rate=0.01, loss=binary_crossentropy, max_iter=100;, score=0.816 total time=   8.9s\n",
      "[CV 1/7] END learning_rate=0.01, loss=binary_crossentropy, max_iter=200;, score=0.819 total time=  21.0s\n",
      "[CV 2/7] END learning_rate=0.01, loss=binary_crossentropy, max_iter=200;, score=0.816 total time=  16.9s\n",
      "[CV 3/7] END learning_rate=0.01, loss=binary_crossentropy, max_iter=200;, score=0.846 total time=  16.4s\n",
      "[CV 4/7] END learning_rate=0.01, loss=binary_crossentropy, max_iter=200;, score=0.838 total time=  16.3s\n",
      "[CV 5/7] END learning_rate=0.01, loss=binary_crossentropy, max_iter=200;, score=0.798 total time=  17.6s\n",
      "[CV 6/7] END learning_rate=0.01, loss=binary_crossentropy, max_iter=200;, score=0.796 total time=  18.7s\n",
      "[CV 7/7] END learning_rate=0.01, loss=binary_crossentropy, max_iter=200;, score=0.839 total time=  18.3s\n",
      "[CV 1/7] END learning_rate=0.01, loss=binary_crossentropy, max_iter=500;, score=0.812 total time=  50.2s\n",
      "[CV 2/7] END learning_rate=0.01, loss=binary_crossentropy, max_iter=500;, score=0.829 total time=  46.4s\n",
      "[CV 3/7] END learning_rate=0.01, loss=binary_crossentropy, max_iter=500;, score=0.836 total time=  47.7s\n",
      "[CV 4/7] END learning_rate=0.01, loss=binary_crossentropy, max_iter=500;, score=0.845 total time=  46.7s\n",
      "[CV 5/7] END learning_rate=0.01, loss=binary_crossentropy, max_iter=500;, score=0.796 total time=  45.2s\n",
      "[CV 6/7] END learning_rate=0.01, loss=binary_crossentropy, max_iter=500;, score=0.796 total time=  44.5s\n",
      "[CV 7/7] END learning_rate=0.01, loss=binary_crossentropy, max_iter=500;, score=0.825 total time=  43.7s\n",
      "[CV 1/7] END learning_rate=0.03, loss=binary_crossentropy, max_iter=100;, score=0.808 total time=   9.1s\n",
      "[CV 2/7] END learning_rate=0.03, loss=binary_crossentropy, max_iter=100;, score=0.837 total time=   9.3s\n",
      "[CV 3/7] END learning_rate=0.03, loss=binary_crossentropy, max_iter=100;, score=0.848 total time=   8.9s\n",
      "[CV 4/7] END learning_rate=0.03, loss=binary_crossentropy, max_iter=100;, score=0.844 total time=   8.8s\n",
      "[CV 5/7] END learning_rate=0.03, loss=binary_crossentropy, max_iter=100;, score=0.796 total time=   7.6s\n",
      "[CV 6/7] END learning_rate=0.03, loss=binary_crossentropy, max_iter=100;, score=0.781 total time=   7.7s\n",
      "[CV 7/7] END learning_rate=0.03, loss=binary_crossentropy, max_iter=100;, score=0.821 total time=   7.1s\n",
      "[CV 1/7] END learning_rate=0.03, loss=binary_crossentropy, max_iter=200;, score=0.816 total time=  14.3s\n",
      "[CV 2/7] END learning_rate=0.03, loss=binary_crossentropy, max_iter=200;, score=0.829 total time=  14.0s\n",
      "[CV 3/7] END learning_rate=0.03, loss=binary_crossentropy, max_iter=200;, score=0.838 total time=  14.1s\n",
      "[CV 4/7] END learning_rate=0.03, loss=binary_crossentropy, max_iter=200;, score=0.838 total time=  14.5s\n",
      "[CV 5/7] END learning_rate=0.03, loss=binary_crossentropy, max_iter=200;, score=0.796 total time=  14.2s\n",
      "[CV 6/7] END learning_rate=0.03, loss=binary_crossentropy, max_iter=200;, score=0.800 total time=  14.0s\n",
      "[CV 7/7] END learning_rate=0.03, loss=binary_crossentropy, max_iter=200;, score=0.835 total time=  14.0s\n",
      "[CV 1/7] END learning_rate=0.03, loss=binary_crossentropy, max_iter=500;, score=0.818 total time=  35.3s\n",
      "[CV 2/7] END learning_rate=0.03, loss=binary_crossentropy, max_iter=500;, score=0.826 total time=  33.8s\n",
      "[CV 3/7] END learning_rate=0.03, loss=binary_crossentropy, max_iter=500;, score=0.846 total time=  32.5s\n",
      "[CV 4/7] END learning_rate=0.03, loss=binary_crossentropy, max_iter=500;, score=0.848 total time=  31.7s\n",
      "[CV 5/7] END learning_rate=0.03, loss=binary_crossentropy, max_iter=500;, score=0.802 total time=  31.7s\n",
      "[CV 6/7] END learning_rate=0.03, loss=binary_crossentropy, max_iter=500;, score=0.798 total time=  31.8s\n",
      "[CV 7/7] END learning_rate=0.03, loss=binary_crossentropy, max_iter=500;, score=0.812 total time=  32.1s\n",
      "[CV 1/7] END learning_rate=0.1, loss=binary_crossentropy, max_iter=100;, score=0.808 total time=   6.6s\n",
      "[CV 2/7] END learning_rate=0.1, loss=binary_crossentropy, max_iter=100;, score=0.835 total time=   6.6s\n",
      "[CV 3/7] END learning_rate=0.1, loss=binary_crossentropy, max_iter=100;, score=0.864 total time=   6.7s\n",
      "[CV 4/7] END learning_rate=0.1, loss=binary_crossentropy, max_iter=100;, score=0.860 total time=   6.5s\n",
      "[CV 5/7] END learning_rate=0.1, loss=binary_crossentropy, max_iter=100;, score=0.768 total time=   6.5s\n",
      "[CV 6/7] END learning_rate=0.1, loss=binary_crossentropy, max_iter=100;, score=0.802 total time=   6.5s\n",
      "[CV 7/7] END learning_rate=0.1, loss=binary_crossentropy, max_iter=100;, score=0.827 total time=   6.6s\n",
      "[CV 1/7] END learning_rate=0.1, loss=binary_crossentropy, max_iter=200;, score=0.814 total time=  13.2s\n",
      "[CV 2/7] END learning_rate=0.1, loss=binary_crossentropy, max_iter=200;, score=0.827 total time=  12.9s\n",
      "[CV 3/7] END learning_rate=0.1, loss=binary_crossentropy, max_iter=200;, score=0.851 total time=  12.9s\n",
      "[CV 4/7] END learning_rate=0.1, loss=binary_crossentropy, max_iter=200;, score=0.843 total time=  13.0s\n",
      "[CV 5/7] END learning_rate=0.1, loss=binary_crossentropy, max_iter=200;, score=0.819 total time=  13.0s\n",
      "[CV 6/7] END learning_rate=0.1, loss=binary_crossentropy, max_iter=200;, score=0.806 total time=  12.9s\n",
      "[CV 7/7] END learning_rate=0.1, loss=binary_crossentropy, max_iter=200;, score=0.806 total time=  13.0s\n",
      "[CV 1/7] END learning_rate=0.1, loss=binary_crossentropy, max_iter=500;, score=0.822 total time=  20.0s\n",
      "[CV 2/7] END learning_rate=0.1, loss=binary_crossentropy, max_iter=500;, score=0.827 total time=  20.1s\n",
      "[CV 3/7] END learning_rate=0.1, loss=binary_crossentropy, max_iter=500;, score=0.846 total time=  20.8s\n",
      "[CV 4/7] END learning_rate=0.1, loss=binary_crossentropy, max_iter=500;, score=0.857 total time=  20.5s\n",
      "[CV 5/7] END learning_rate=0.1, loss=binary_crossentropy, max_iter=500;, score=0.838 total time=  20.4s\n",
      "[CV 6/7] END learning_rate=0.1, loss=binary_crossentropy, max_iter=500;, score=0.814 total time=  19.4s\n",
      "[CV 7/7] END learning_rate=0.1, loss=binary_crossentropy, max_iter=500;, score=0.808 total time=  20.9s\n",
      "Best score = 0.830440391006268, \n",
      "Best combination of hyperparameters = {'learning_rate': 0.1, 'loss': 'binary_crossentropy', 'max_iter': 500}.\n"
     ]
    }
   ],
   "source": [
    "# Hyperparameters tuning\n",
    "\n",
    "model= HistGradientBoostingClassifier()                    # We intitialize the model\n",
    "\n",
    "# We look for best hyperparams using GridSearchCV\n",
    "kfold=KFold(n_splits=7)\n",
    "param_grid = {'loss': ['binary_crossentropy'], \n",
    "              'learning_rate': [0.001, 0.01, 0.03, .1,],\n",
    "              'max_iter':[100, 200, 500]} \n",
    "\n",
    "grid = GridSearchCV(estimator = model, param_grid = param_grid, scoring='f1', cv = kfold, verbose = 3)\n",
    "results = grid.fit(X_train , Y_train)\n",
    "\n",
    "## save best parameters\n",
    "hist_params=results.best_params_\n",
    "\n",
    "# Displaying best hyperparameters combination and the corresponding score \n",
    "print(\"Best score = {0}, \\nBest combination of hyperparameters = {1}.\".format(results.best_score_,results.best_params_))"
   ]
  },
  {
   "cell_type": "code",
   "execution_count": null,
   "metadata": {
    "colab": {
     "base_uri": "https://localhost:8080/"
    },
    "id": "EfRVnMMaYRBG",
    "outputId": "00830d1a-62d6-4391-99e2-34be6c5c74d2"
   },
   "outputs": [
    {
     "name": "stdout",
     "output_type": "stream",
     "text": [
      "Best score = 0.830440391006268, Best combination of hyperparameters = {'learning_rate': 0.1, 'loss': 'binary_crossentropy', 'max_iter': 500}.\n"
     ]
    }
   ],
   "source": [
    "print(\"Best score = {0}, Best combination of hyperparameters = {1}.\".format(results.best_score_,results.best_params_))"
   ]
  },
  {
   "cell_type": "code",
   "execution_count": null,
   "metadata": {
    "colab": {
     "base_uri": "https://localhost:8080/"
    },
    "id": "Job_PxidYYE8",
    "outputId": "2f9fab12-d5bc-4dc9-bcb2-b8e1e9711586"
   },
   "outputs": [
    {
     "name": "stdout",
     "output_type": "stream",
     "text": [
      "Model : HistGradientBoostingClassifier \n",
      "Confusion Matrix:\n",
      " [[133  16]\n",
      " [ 37 159]] \n",
      "\n",
      "SVM Metrics:\n",
      "               precision    recall  f1-score   support\n",
      "\n",
      "           0       0.78      0.89      0.83       149\n",
      "           1       0.91      0.81      0.86       196\n",
      "\n",
      "    accuracy                           0.85       345\n",
      "   macro avg       0.85      0.85      0.85       345\n",
      "weighted avg       0.85      0.85      0.85       345\n",
      " \n",
      "\n"
     ]
    }
   ],
   "source": [
    "# We train the best model \n",
    "HGBC = HistGradientBoostingClassifier(loss='binary_crossentropy',learning_rate=0.1, max_iter=500)\n",
    "HGBC.fit(X_train,Y_train) \n",
    "\n",
    "# We use the trained model it to compute the predictions \n",
    "predictions_3 = HGBC.predict(X_test)\n",
    "\n",
    "# We display some metrics\n",
    "print(\"Model : HistGradientBoostingClassifier \\n\")\n",
    "print(\"Confusion Matrix:\\n\", confusion_matrix(Y_test,predictions_3), \"\\n\")\n",
    "print(\"SVM Metrics:\\n\", classification_report(Y_test,predictions_3),'\\n')\n",
    "\n",
    "y_scores_3 = cross_val_predict(HGBC, X_train, Y_train, cv=7, method=\"decision_function\")\n",
    "fpr_hgbc, tpr_hgbc, thresholds_hgbc = roc_curve(Y_train, y_scores_3)\n",
    "\n",
    "\n",
    "probat = cross_val_predict(HGBC, X_test, Y_test, cv=7, method=\"predict_proba\")\n",
    "\n",
    "yt_scores_3 = probat[:,1]"
   ]
  },
  {
   "cell_type": "markdown",
   "metadata": {
    "id": "tZBkFySIeKRX"
   },
   "source": [
    "### ROC Curves"
   ]
  },
  {
   "cell_type": "code",
   "execution_count": null,
   "metadata": {
    "colab": {
     "base_uri": "https://localhost:8080/",
     "height": 350
    },
    "id": "_yndhvWyxpT5",
    "outputId": "b9be2e91-ded0-4cb8-f26b-56355cecfe8c"
   },
   "outputs": [
    {
     "data": {
      "image/png": "[encoded data removed]",
      "text/plain": [
       "<Figure size 576x360 with 1 Axes>"
      ]
     },
     "metadata": {
      "needs_background": "light"
     },
     "output_type": "display_data"
    }
   ],
   "source": [
    "from sklearn.metrics import roc_auc_score\n",
    "import matplotlib.pyplot as plt\n",
    "\n",
    "\n",
    "auc_svm = roc_auc_score(Y_train, y_scores_1)\n",
    "auc_xgb = roc_auc_score(Y_train, y_scores_2)\n",
    "auc_hgbc = roc_auc_score(Y_train, y_scores_3)\n",
    "\n",
    "plt.figure(figsize=(8,5))\n",
    "plt.plot(fpr_xgb, tpr_xgb, \"r--\", label=\"xgb\")\n",
    "plt.plot(fpr_hgbc, tpr_hgbc, \"g:\", label=\"HGBC\")\n",
    "plt.plot(fpr_svm, tpr_svm, linewidth=1, label=\"svm\")\n",
    "plt.plot([0, 1], [0, 1], 'k--') \n",
    "plt.xlim([0, 1])\n",
    "plt.ylim([0, 1])\n",
    "plt.xlabel(\"False Positive Rate\")\n",
    "plt.ylabel(\"True Positive Rate\")\n",
    "plt.title(\"AUC: SVM :  {0}, XGBOOST : {1}; HGBC: {1}.\".format(round(auc_svm,3), round(auc_xgb,3), round(auc_hgbc,3)))\n",
    "plt.legend(loc=\"lower right\")\n",
    "plt.show()"
   ]
  },
  {
   "cell_type": "code",
   "execution_count": null,
   "metadata": {
    "colab": {
     "base_uri": "https://localhost:8080/"
    },
    "id": "2CjyxrEDftNi",
    "outputId": "14744471-63dc-4259-f12c-675f79d5e71a"
   },
   "outputs": [
    {
     "name": "stdout",
     "output_type": "stream",
     "text": [
      "SVM Metrics:\n",
      "\n",
      "              precision    recall  f1-score   support\n",
      "\n",
      "           0       0.79      0.83      0.81       149\n",
      "           1       0.87      0.83      0.85       196\n",
      "\n",
      "    accuracy                           0.83       345\n",
      "   macro avg       0.83      0.83      0.83       345\n",
      "weighted avg       0.83      0.83      0.83       345\n",
      " \n",
      "\n",
      "XGBoost metrics:\n",
      "\n",
      "              precision    recall  f1-score   support\n",
      "\n",
      "           0       0.82      0.87      0.84       149\n",
      "           1       0.89      0.85      0.87       196\n",
      "\n",
      "    accuracy                           0.86       345\n",
      "   macro avg       0.85      0.86      0.86       345\n",
      "weighted avg       0.86      0.86      0.86       345\n",
      " \n",
      "\n",
      "HGBC metrics:\n",
      "\n",
      "              precision    recall  f1-score   support\n",
      "\n",
      "           0       0.78      0.89      0.83       149\n",
      "           1       0.91      0.81      0.86       196\n",
      "\n",
      "    accuracy                           0.85       345\n",
      "   macro avg       0.85      0.85      0.85       345\n",
      "weighted avg       0.85      0.85      0.85       345\n",
      " \n",
      "\n"
     ]
    }
   ],
   "source": [
    "print(\"SVM Metrics:\\n\")\n",
    "print(classification_report(Y_test,predictions_1),'\\n')\n",
    "print(\"XGBoost metrics:\\n\")\n",
    "print(classification_report(Y_test,predictions_2), '\\n')\n",
    "print(\"HGBC metrics:\\n\") \n",
    "print(classification_report(Y_test,predictions_3), '\\n')"
   ]
  },
  {
   "cell_type": "code",
   "execution_count": null,
   "metadata": {
    "colab": {
     "base_uri": "https://localhost:8080/",
     "height": 350
    },
    "id": "QyTMI_TOgTul",
    "outputId": "c92fd887-f5a8-44db-f0e2-a25e0bac35b0"
   },
   "outputs": [
    {
     "data": {
      "image/png": "[encoded data removed]",
      "text/plain": [
       "<Figure size 576x360 with 1 Axes>"
      ]
     },
     "metadata": {
      "needs_background": "light"
     },
     "output_type": "display_data"
    }
   ],
   "source": [
    "from sklearn.metrics import precision_recall_curve\n",
    "# plot the precision-recall curves\n",
    "svm_precision, svm_recall, _ = precision_recall_curve(Y_test, yt_scores_1)\n",
    "xgb_precision, xgb_recall, _ = precision_recall_curve(Y_test, yt_scores_2)\n",
    "hgbc_precision, hgbc_recall, _ = precision_recall_curve(Y_test, yt_scores_3)\n",
    "\n",
    "plt.figure(figsize=(8,5))\n",
    "plt.plot(svm_recall, svm_precision, label='svm')\n",
    "plt.plot(xgb_recall, xgb_precision, label='xgboost')\n",
    "plt.plot(hgbc_recall, hgbc_precision,label='hgbc')\n",
    "# axis labels\n",
    "plt.xlabel('Recall')\n",
    "plt.ylabel('Precision')\n",
    "# show the legend\n",
    "plt.legend()\n",
    "# show the plot\n",
    "plt.title(\"AUC-PR\")\n",
    "plt.show()"
   ]
  },
  {
   "cell_type": "code",
   "execution_count": null,
   "metadata": {
    "id": "wOQT1GOwkevG"
   },
   "outputs": [],
   "source": []
  }
 ],
 "metadata": {
  "colab": {
   "collapsed_sections": [],
   "name": "Image Forgery Detection  -- Project ",
   "provenance": []
  },
  "kernelspec": {
   "display_name": "Python 3 (ipykernel)",
   "language": "python",
   "name": "python3"
  },
  "language_info": {
   "codemirror_mode": {
    "name": "ipython",
    "version": 3
   },
   "file_extension": ".py",
   "mimetype": "text/x-python",
   "name": "python",
   "nbconvert_exporter": "python",
   "pygments_lexer": "ipython3",
   "version": "3.8.15"
  }
 },
 "nbformat": 4,
 "nbformat_minor": 1
}
